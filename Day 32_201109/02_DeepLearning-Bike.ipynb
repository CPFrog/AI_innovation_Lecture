{
 "metadata": {
  "language_info": {
   "codemirror_mode": {
    "name": "ipython",
    "version": 3
   },
   "file_extension": ".py",
   "mimetype": "text/x-python",
   "name": "python",
   "nbconvert_exporter": "python",
   "pygments_lexer": "ipython3",
   "version": "3.8.5-final"
  },
  "orig_nbformat": 2,
  "kernelspec": {
   "name": "python3",
   "display_name": "Python 3"
  }
 },
 "nbformat": 4,
 "nbformat_minor": 2,
 "cells": [
  {
   "source": [
    "#### 데이터 정보\n",
    "* (60000, 28, 28) : 색이 없던것\n",
    "* (60000, 28, 28, 3) : RGB 컬러 있음\n",
    "* 2D : 행렬(타이타닉, 바이크)...\n",
    "* 3D : 시계열 데이터\n",
    "* 4D : (샘플개수, 높이, 너비, 채널) 채널1 : 흑백, 채널3(RGB)\n",
    "* 5D : 동영상(샘플개수, 프레임, 높이, 너비, 채널)"
   ],
   "cell_type": "markdown",
   "metadata": {}
  },
  {
   "source": [
    "### 텐서의 크기 변환"
   ],
   "cell_type": "markdown",
   "metadata": {}
  },
  {
   "cell_type": "code",
   "execution_count": 1,
   "metadata": {},
   "outputs": [],
   "source": [
    "from keras.datasets import mnist\n",
    "(train_images, train_labels), (test_images, test_labels) = mnist.load_data()"
   ]
  },
  {
   "cell_type": "code",
   "execution_count": 2,
   "metadata": {},
   "outputs": [
    {
     "output_type": "stream",
     "name": "stdout",
     "text": [
      "2\n(60000, 784)\n"
     ]
    }
   ],
   "source": [
    "train_images=train_images.reshape((60000,28*28)) # 3D -> 2D\n",
    "print(train_images.ndim)\n",
    "print(train_images.shape)"
   ]
  },
  {
   "source": [
    "### 라이브러리 불러오기"
   ],
   "cell_type": "markdown",
   "metadata": {}
  },
  {
   "cell_type": "code",
   "execution_count": 5,
   "metadata": {},
   "outputs": [],
   "source": [
    "import keras\n",
    "import pandas as pd \n",
    "import numpy as np "
   ]
  },
  {
   "cell_type": "code",
   "execution_count": 6,
   "metadata": {},
   "outputs": [],
   "source": [
    "## parse_dates : datetime 컬럼을 시간형으로 불러올 수 있음\n",
    "train = pd.read_csv(\"./Data/bike_mod_tr.csv\", parse_dates=['datetime'])\n",
    "test = pd.read_csv(\"./Data/bike_mod_test.csv\", parse_dates=['datetime'])"
   ]
  },
  {
   "source": [
    "### 데이터 선택"
   ],
   "cell_type": "markdown",
   "metadata": {}
  },
  {
   "cell_type": "code",
   "execution_count": 5,
   "metadata": {},
   "outputs": [],
   "source": [
    "input_col=['hour', 'temp']\n",
    "labeled_col=['count']"
   ]
  },
  {
   "cell_type": "code",
   "execution_count": 6,
   "metadata": {},
   "outputs": [],
   "source": [
    "X=train[input_col]\n",
    "y=train[labeled_col]\n",
    "X_val=test[input_col]"
   ]
  },
  {
   "cell_type": "code",
   "execution_count": 12,
   "metadata": {},
   "outputs": [],
   "source": [
    "from sklearn.model_selection import train_test_split"
   ]
  },
  {
   "cell_type": "code",
   "execution_count": 8,
   "metadata": {},
   "outputs": [],
   "source": [
    "X_train, X_test, y_train, y_test = train_test_split(X, y, random_state=0)"
   ]
  },
  {
   "cell_type": "code",
   "execution_count": 9,
   "metadata": {},
   "outputs": [],
   "source": [
    "# random seed값 0\n",
    "seed=0\n",
    "np.random.seed(seed)"
   ]
  },
  {
   "source": [
    "### 딥러닝 구조 결정\n",
    "* 사용하는 특징(feature) : 2개\n",
    "* 마지막 예측하는 것이 회귀 - 출력층의 노드는 1개\n",
    "* 마지막 예측하는 것이 분류 - 출력층 노드는 범주의 개수만큼 생성됨."
   ],
   "cell_type": "markdown",
   "metadata": {}
  },
  {
   "source": [
    "* Sequential() 함수를 사용하여 각 층별 쉽게 쌓아올릴 수 있음.\n",
    "* model.add()로 한 층 또는 두 층씩 추가\n",
    "* 첫 model.add() 입력층과 그 다음 출력층을 넣을 수 있음.\n",
    "* 각 은닉층이 끝날 때 활성화 함수를 넣어 비선형 문제를 풀 수 있음."
   ],
   "cell_type": "markdown",
   "metadata": {}
  },
  {
   "cell_type": "code",
   "execution_count": 10,
   "metadata": {},
   "outputs": [],
   "source": [
    "from keras.models import Sequential\n",
    "from keras.layers import Dense"
   ]
  },
  {
   "cell_type": "code",
   "execution_count": 11,
   "metadata": {},
   "outputs": [],
   "source": [
    "model=Sequential()\n",
    "model.add(Dense(30,input_dim=2, activation='relu'))\n",
    "model.add(Dense(15,activation='relu'))\n",
    "model.add(Dense(15,activation='relu'))\n",
    "model.add(Dense(1))"
   ]
  },
  {
   "cell_type": "code",
   "execution_count": 12,
   "metadata": {},
   "outputs": [
    {
     "output_type": "stream",
     "name": "stdout",
     "text": [
      "Model: \"sequential\"\n_________________________________________________________________\nLayer (type)                 Output Shape              Param #   \n=================================================================\ndense (Dense)                (None, 30)                90        \n_________________________________________________________________\ndense_1 (Dense)              (None, 15)                465       \n_________________________________________________________________\ndense_2 (Dense)              (None, 15)                240       \n_________________________________________________________________\ndense_3 (Dense)              (None, 1)                 16        \n=================================================================\nTotal params: 811\nTrainable params: 811\nNon-trainable params: 0\n_________________________________________________________________\n"
     ]
    }
   ],
   "source": [
    "model.summary()"
   ]
  },
  {
   "source": [
    "### 배치 데이터 10개\n",
    "* (10,2)-> 2D\n",
    "\n",
    "### 평가지표\n",
    "* MSE, RMSE, RMLSE(또는 RMSLE), MAE\n",
    "* MSE로 평가한다면 loss='mean_squared_error'\n",
    "* optimizer: 가중치를 업데이트 시키는데 사용하는 알고리즘(cs231n)"
   ],
   "cell_type": "markdown",
   "metadata": {}
  },
  {
   "cell_type": "code",
   "execution_count": 13,
   "metadata": {},
   "outputs": [
    {
     "output_type": "stream",
     "name": "stdout",
     "text": [
      "Epoch 1/20\n",
      "817/817 [==============================] - 1s 830us/step - loss: 31049.9492\n",
      "Epoch 2/20\n",
      "817/817 [==============================] - 1s 773us/step - loss: 24041.0859\n",
      "Epoch 3/20\n",
      "817/817 [==============================] - 1s 955us/step - loss: 23002.6875\n",
      "Epoch 4/20\n",
      "817/817 [==============================] - 1s 811us/step - loss: 21296.7246\n",
      "Epoch 5/20\n",
      "817/817 [==============================] - 1s 792us/step - loss: 19877.7871\n",
      "Epoch 6/20\n",
      "817/817 [==============================] - 1s 802us/step - loss: 19534.5957\n",
      "Epoch 7/20\n",
      "817/817 [==============================] - 1s 794us/step - loss: 19415.1191\n",
      "Epoch 8/20\n",
      "817/817 [==============================] - 1s 773us/step - loss: 19324.0293\n",
      "Epoch 9/20\n",
      "817/817 [==============================] - 1s 808us/step - loss: 19229.2773\n",
      "Epoch 10/20\n",
      "817/817 [==============================] - 1s 775us/step - loss: 19189.2598\n",
      "Epoch 11/20\n",
      "817/817 [==============================] - 1s 767us/step - loss: 19065.3223\n",
      "Epoch 12/20\n",
      "817/817 [==============================] - 1s 860us/step - loss: 18930.4629\n",
      "Epoch 13/20\n",
      "817/817 [==============================] - 1s 859us/step - loss: 18815.5312\n",
      "Epoch 14/20\n",
      "817/817 [==============================] - 1s 789us/step - loss: 18671.2285\n",
      "Epoch 15/20\n",
      "817/817 [==============================] - 1s 803us/step - loss: 18648.3027\n",
      "Epoch 16/20\n",
      "817/817 [==============================] - 1s 772us/step - loss: 18567.7285\n",
      "Epoch 17/20\n",
      "817/817 [==============================] - 1s 789us/step - loss: 18456.8984\n",
      "Epoch 18/20\n",
      "817/817 [==============================] - 1s 778us/step - loss: 18421.6719\n",
      "Epoch 19/20\n",
      "817/817 [==============================] - 1s 755us/step - loss: 18350.6152\n",
      "Epoch 20/20\n",
      "817/817 [==============================] - 1s 780us/step - loss: 18248.9336\n"
     ]
    },
    {
     "output_type": "execute_result",
     "data": {
      "text/plain": [
       "<tensorflow.python.keras.callbacks.History at 0x293a6f96640>"
      ]
     },
     "metadata": {},
     "execution_count": 13
    }
   ],
   "source": [
    "model.compile(loss='mean_squared_error', optimizer='rmsprop')\n",
    "model.fit(X_train, y_train, epochs=20, batch_size=10)"
   ]
  },
  {
   "source": [
    "### 평가 확인"
   ],
   "cell_type": "markdown",
   "metadata": {}
  },
  {
   "cell_type": "code",
   "execution_count": 14,
   "metadata": {},
   "outputs": [
    {
     "output_type": "stream",
     "name": "stdout",
     "text": [
      "86/86 [==============================] - 0s 719us/step - loss: 18035.2129\n"
     ]
    },
    {
     "output_type": "execute_result",
     "data": {
      "text/plain": [
       "18035.212890625"
      ]
     },
     "metadata": {},
     "execution_count": 14
    }
   ],
   "source": [
    "model.evaluate(X_test, y_test)"
   ]
  },
  {
   "source": [
    "### 실습 4-1\n",
    "* 변수 추가를 통해 성능향상 시켜보기."
   ],
   "cell_type": "markdown",
   "metadata": {}
  },
  {
   "cell_type": "code",
   "execution_count": 14,
   "metadata": {},
   "outputs": [],
   "source": [
    "import keras\n",
    "import pandas as pd \n",
    "import numpy as np "
   ]
  },
  {
   "cell_type": "code",
   "execution_count": 15,
   "metadata": {},
   "outputs": [],
   "source": [
    "## parse_dates : datetime 컬럼을 시간형으로 불러올 수 있음\n",
    "train = pd.read_csv(\"./Data/bike_mod_tr.csv\", parse_dates=['datetime'])\n",
    "test = pd.read_csv(\"./Data/bike_mod_test.csv\", parse_dates=['datetime'])"
   ]
  },
  {
   "cell_type": "code",
   "execution_count": 16,
   "metadata": {},
   "outputs": [],
   "source": [
    "from keras.models import Sequential\n",
    "from keras.layers import Dense"
   ]
  },
  {
   "cell_type": "code",
   "execution_count": 17,
   "metadata": {},
   "outputs": [
    {
     "output_type": "execute_result",
     "data": {
      "text/plain": [
       "Index(['datetime', 'season', 'holiday', 'workingday', 'weather', 'temp',\n",
       "       'atemp', 'humidity', 'windspeed', 'casual', 'registered', 'count',\n",
       "       'year', 'month', 'day', 'hour', 'minute', 'second', 'dayofweek'],\n",
       "      dtype='object')"
      ]
     },
     "metadata": {},
     "execution_count": 17
    }
   ],
   "source": [
    "train.columns"
   ]
  },
  {
   "cell_type": "code",
   "execution_count": 23,
   "metadata": {},
   "outputs": [
    {
     "output_type": "stream",
     "name": "stdout",
     "text": [
      "Epoch 1/100\n",
      "817/817 [==============================] - 1s 944us/step - loss: 24673.6992\n",
      "Epoch 2/100\n",
      "817/817 [==============================] - 1s 869us/step - loss: 20352.4375\n",
      "Epoch 3/100\n",
      "817/817 [==============================] - 1s 927us/step - loss: 18700.1777\n",
      "Epoch 4/100\n",
      "817/817 [==============================] - 1s 904us/step - loss: 18078.9492\n",
      "Epoch 5/100\n",
      "817/817 [==============================] - 1s 912us/step - loss: 17758.7812\n",
      "Epoch 6/100\n",
      "817/817 [==============================] - 1s 900us/step - loss: 17385.1777\n",
      "Epoch 7/100\n",
      "817/817 [==============================] - 1s 907us/step - loss: 17137.4180\n",
      "Epoch 8/100\n",
      "817/817 [==============================] - 1s 862us/step - loss: 16764.5840\n",
      "Epoch 9/100\n",
      "817/817 [==============================] - 1s 846us/step - loss: 16282.9512\n",
      "Epoch 10/100\n",
      "817/817 [==============================] - 1s 899us/step - loss: 16116.5352\n",
      "Epoch 11/100\n",
      "817/817 [==============================] - 1s 991us/step - loss: 15832.2598\n",
      "Epoch 12/100\n",
      "817/817 [==============================] - 1s 954us/step - loss: 15542.4707\n",
      "Epoch 13/100\n",
      "817/817 [==============================] - 1s 952us/step - loss: 15385.4688\n",
      "Epoch 14/100\n",
      "817/817 [==============================] - 1s 861us/step - loss: 15020.0225\n",
      "Epoch 15/100\n",
      "817/817 [==============================] - 1s 841us/step - loss: 14758.6631\n",
      "Epoch 16/100\n",
      "817/817 [==============================] - 1s 845us/step - loss: 14459.4053\n",
      "Epoch 17/100\n",
      "817/817 [==============================] - 1s 897us/step - loss: 14251.5547\n",
      "Epoch 18/100\n",
      "817/817 [==============================] - 1s 810us/step - loss: 13841.5693\n",
      "Epoch 19/100\n",
      "817/817 [==============================] - 1s 909us/step - loss: 13760.7822\n",
      "Epoch 20/100\n",
      "817/817 [==============================] - 1s 944us/step - loss: 13425.5674\n",
      "Epoch 21/100\n",
      "817/817 [==============================] - 1s 931us/step - loss: 13204.1885\n",
      "Epoch 22/100\n",
      "817/817 [==============================] - 1s 843us/step - loss: 13029.2471\n",
      "Epoch 23/100\n",
      "817/817 [==============================] - 1s 830us/step - loss: 12778.3779\n",
      "Epoch 24/100\n",
      "817/817 [==============================] - 1s 880us/step - loss: 12674.2471\n",
      "Epoch 25/100\n",
      "817/817 [==============================] - 1s 793us/step - loss: 12371.9502\n",
      "Epoch 26/100\n",
      "817/817 [==============================] - 1s 895us/step - loss: 12184.4492\n",
      "Epoch 27/100\n",
      "817/817 [==============================] - 1s 933us/step - loss: 11906.6016\n",
      "Epoch 28/100\n",
      "817/817 [==============================] - 1s 865us/step - loss: 11627.6963\n",
      "Epoch 29/100\n",
      "817/817 [==============================] - 1s 874us/step - loss: 11408.7568\n",
      "Epoch 30/100\n",
      "817/817 [==============================] - 1s 835us/step - loss: 11208.9111\n",
      "Epoch 31/100\n",
      "817/817 [==============================] - 1s 879us/step - loss: 10741.6719\n",
      "Epoch 32/100\n",
      "817/817 [==============================] - 1s 848us/step - loss: 10539.5869\n",
      "Epoch 33/100\n",
      "817/817 [==============================] - 1s 893us/step - loss: 10170.6396\n",
      "Epoch 34/100\n",
      "817/817 [==============================] - 1s 862us/step - loss: 9943.6543\n",
      "Epoch 35/100\n",
      "817/817 [==============================] - 1s 842us/step - loss: 9644.7607\n",
      "Epoch 36/100\n",
      "817/817 [==============================] - 1s 839us/step - loss: 9395.9678\n",
      "Epoch 37/100\n",
      "817/817 [==============================] - 1s 925us/step - loss: 9145.8027\n",
      "Epoch 38/100\n",
      "817/817 [==============================] - 1s 964us/step - loss: 9059.1562\n",
      "Epoch 39/100\n",
      "817/817 [==============================] - 1s 886us/step - loss: 8740.6357\n",
      "Epoch 40/100\n",
      "817/817 [==============================] - 1s 895us/step - loss: 8558.2021\n",
      "Epoch 41/100\n",
      "817/817 [==============================] - 1s 859us/step - loss: 8421.6250\n",
      "Epoch 42/100\n",
      "817/817 [==============================] - 1s 854us/step - loss: 8288.7725\n",
      "Epoch 43/100\n",
      "817/817 [==============================] - 1s 813us/step - loss: 8134.6455\n",
      "Epoch 44/100\n",
      "817/817 [==============================] - 1s 857us/step - loss: 8129.3174\n",
      "Epoch 45/100\n",
      "817/817 [==============================] - 1s 891us/step - loss: 7965.5566\n",
      "Epoch 46/100\n",
      "817/817 [==============================] - 1s 858us/step - loss: 7936.1470\n",
      "Epoch 47/100\n",
      "817/817 [==============================] - 1s 862us/step - loss: 7775.4580\n",
      "Epoch 48/100\n",
      "817/817 [==============================] - 1s 944us/step - loss: 7732.6460\n",
      "Epoch 49/100\n",
      "817/817 [==============================] - 1s 928us/step - loss: 7764.7095\n",
      "Epoch 50/100\n",
      "817/817 [==============================] - 1s 831us/step - loss: 7574.5371\n",
      "Epoch 51/100\n",
      "817/817 [==============================] - 1s 863us/step - loss: 7431.2437\n",
      "Epoch 52/100\n",
      "817/817 [==============================] - 1s 901us/step - loss: 7535.4868\n",
      "Epoch 53/100\n",
      "817/817 [==============================] - 1s 946us/step - loss: 7395.2114\n",
      "Epoch 54/100\n",
      "817/817 [==============================] - 1s 868us/step - loss: 7187.0615\n",
      "Epoch 55/100\n",
      "817/817 [==============================] - 1s 875us/step - loss: 7222.4888\n",
      "Epoch 56/100\n",
      "817/817 [==============================] - 1s 862us/step - loss: 7293.8750\n",
      "Epoch 57/100\n",
      "817/817 [==============================] - 1s 815us/step - loss: 7166.6841\n",
      "Epoch 58/100\n",
      "817/817 [==============================] - 1s 884us/step - loss: 7134.3359\n",
      "Epoch 59/100\n",
      "817/817 [==============================] - 1s 838us/step - loss: 7183.4224\n",
      "Epoch 60/100\n",
      "817/817 [==============================] - 1s 862us/step - loss: 7002.3203\n",
      "Epoch 61/100\n",
      "817/817 [==============================] - 1s 908us/step - loss: 7075.1919\n",
      "Epoch 62/100\n",
      "817/817 [==============================] - 1s 862us/step - loss: 7096.0181\n",
      "Epoch 63/100\n",
      "817/817 [==============================] - 1s 860us/step - loss: 6866.2622\n",
      "Epoch 64/100\n",
      "817/817 [==============================] - 1s 836us/step - loss: 6964.1978\n",
      "Epoch 65/100\n",
      "817/817 [==============================] - 1s 908us/step - loss: 6953.3286\n",
      "Epoch 66/100\n",
      "817/817 [==============================] - 1s 871us/step - loss: 6829.9717\n",
      "Epoch 67/100\n",
      "817/817 [==============================] - 1s 897us/step - loss: 6743.2168\n",
      "Epoch 68/100\n",
      "817/817 [==============================] - 1s 889us/step - loss: 6923.0249\n",
      "Epoch 69/100\n",
      "817/817 [==============================] - 1s 897us/step - loss: 6693.3247\n",
      "Epoch 70/100\n",
      "817/817 [==============================] - 1s 889us/step - loss: 6793.9780\n",
      "Epoch 71/100\n",
      "817/817 [==============================] - 1s 832us/step - loss: 6723.3672\n",
      "Epoch 72/100\n",
      "817/817 [==============================] - 1s 897us/step - loss: 6712.7129\n",
      "Epoch 73/100\n",
      "817/817 [==============================] - 1s 886us/step - loss: 6680.1426\n",
      "Epoch 74/100\n",
      "817/817 [==============================] - 1s 951us/step - loss: 6678.6602\n",
      "Epoch 75/100\n",
      "817/817 [==============================] - 1s 908us/step - loss: 6541.0293\n",
      "Epoch 76/100\n",
      "817/817 [==============================] - 1s 897us/step - loss: 6573.7354\n",
      "Epoch 77/100\n",
      "817/817 [==============================] - 1s 902us/step - loss: 6644.3218\n",
      "Epoch 78/100\n",
      "817/817 [==============================] - 1s 912us/step - loss: 6476.6895\n",
      "Epoch 79/100\n",
      "817/817 [==============================] - 1s 897us/step - loss: 6545.6470\n",
      "Epoch 80/100\n",
      "817/817 [==============================] - 1s 830us/step - loss: 6467.4204\n",
      "Epoch 81/100\n",
      "817/817 [==============================] - 1s 899us/step - loss: 6577.5459\n",
      "Epoch 82/100\n",
      "817/817 [==============================] - 1s 907us/step - loss: 6524.3760\n",
      "Epoch 83/100\n",
      "817/817 [==============================] - 1s 914us/step - loss: 6495.9805\n",
      "Epoch 84/100\n",
      "817/817 [==============================] - 1s 880us/step - loss: 6487.6592\n",
      "Epoch 85/100\n",
      "817/817 [==============================] - 1s 890us/step - loss: 6448.5869\n",
      "Epoch 86/100\n",
      "817/817 [==============================] - 1s 847us/step - loss: 6348.2139\n",
      "Epoch 87/100\n",
      "817/817 [==============================] - 1s 865us/step - loss: 6375.0020\n",
      "Epoch 88/100\n",
      "817/817 [==============================] - 1s 916us/step - loss: 6331.8037\n",
      "Epoch 89/100\n",
      "817/817 [==============================] - 1s 884us/step - loss: 6329.1675\n",
      "Epoch 90/100\n",
      "817/817 [==============================] - 1s 988us/step - loss: 6367.9033\n",
      "Epoch 91/100\n",
      "817/817 [==============================] - 1s 883us/step - loss: 6346.4126\n",
      "Epoch 92/100\n",
      "817/817 [==============================] - 1s 939us/step - loss: 6311.9404\n",
      "Epoch 93/100\n",
      "817/817 [==============================] - 1s 844us/step - loss: 6366.2183\n",
      "Epoch 94/100\n",
      "817/817 [==============================] - 1s 839us/step - loss: 6275.6597\n",
      "Epoch 95/100\n",
      "817/817 [==============================] - 1s 989us/step - loss: 6338.2842\n",
      "Epoch 96/100\n",
      "817/817 [==============================] - 1s 902us/step - loss: 6192.5483\n",
      "Epoch 97/100\n",
      "817/817 [==============================] - 1s 868us/step - loss: 6262.5229\n",
      "Epoch 98/100\n",
      "817/817 [==============================] - 1s 902us/step - loss: 6156.0967\n",
      "Epoch 99/100\n",
      "817/817 [==============================] - 1s 933us/step - loss: 6154.6064\n",
      "Epoch 100/100\n",
      "817/817 [==============================] - 1s 931us/step - loss: 6186.5293\n"
     ]
    },
    {
     "output_type": "execute_result",
     "data": {
      "text/plain": [
       "<tensorflow.python.keras.callbacks.History at 0x1afe5e415b0>"
      ]
     },
     "metadata": {},
     "execution_count": 23
    }
   ],
   "source": [
    "input_col=['hour', 'atemp', 'humidity', 'windspeed', 'season', 'workingday','holiday']\n",
    "labeled_col=['count']\n",
    "\n",
    "X=train[input_col]\n",
    "y=train[labeled_col]\n",
    "X_val=test[input_col]\n",
    "\n",
    "X_train, X_test, y_train, y_test = train_test_split(X, y, random_state=0)\n",
    "\n",
    "model=Sequential()\n",
    "model.add(Dense(100,input_dim=7, activation='relu'))\n",
    "model.add(Dense(50,activation='relu'))\n",
    "model.add(Dense(50,activation='relu'))\n",
    "model.add(Dense(1))\n",
    "\n",
    "model.compile(loss='mean_squared_error', optimizer='rmsprop')\n",
    "model.fit(X_train, y_train, epochs=100, batch_size=10)"
   ]
  },
  {
   "cell_type": "code",
   "execution_count": 24,
   "metadata": {},
   "outputs": [
    {
     "output_type": "stream",
     "name": "stdout",
     "text": [
      "86/86 [==============================] - 0s 904us/step - loss: 8128.7266\n"
     ]
    },
    {
     "output_type": "execute_result",
     "data": {
      "text/plain": [
       "8128.7265625"
      ]
     },
     "metadata": {},
     "execution_count": 24
    }
   ],
   "source": [
    "model.evaluate(X_test, y_test)"
   ]
  },
  {
   "source": [
    "### 트라이 1. 8128.7265625\n",
    "* 변수 : 'hour', 'atemp', 'humidity', 'windspeed', 'season', 'workingday','holiday'\n",
    "* 은닉층 : 100-50-50-1 \n",
    "* epochs : 100"
   ],
   "cell_type": "markdown",
   "metadata": {}
  },
  {
   "source": [
    "### 로그변환 하면 점수 많이 오름."
   ],
   "cell_type": "markdown",
   "metadata": {}
  }
 ]
}