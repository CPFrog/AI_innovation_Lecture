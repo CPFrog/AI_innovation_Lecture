{
 "metadata": {
  "language_info": {
   "codemirror_mode": {
    "name": "ipython",
    "version": 3
   },
   "file_extension": ".py",
   "mimetype": "text/x-python",
   "name": "python",
   "nbconvert_exporter": "python",
   "pygments_lexer": "ipython3",
   "version": "3.8.5-final"
  },
  "orig_nbformat": 2,
  "kernelspec": {
   "name": "python3",
   "display_name": "Python 3"
  }
 },
 "nbformat": 4,
 "nbformat_minor": 2,
 "cells": [
  {
   "source": [
    "#### 데이터 정보\n",
    "* (60000, 28, 28) : 색이 없던것\n",
    "* (60000, 28, 28, 3) : RGB 컬러 있음\n",
    "* 2D : 행렬(타이타닉, 바이크)...\n",
    "* 3D : 시계열 데이터\n",
    "* 4D : (샘플개수, 높이, 너비, 채널) 채널1 : 흑백, 채널3(RGB)\n",
    "* 5D : 동영상(샘플개수, 프레임, 높이, 너비, 채널)"
   ],
   "cell_type": "markdown",
   "metadata": {}
  },
  {
   "source": [
    "### 텐서의 크기 변환"
   ],
   "cell_type": "markdown",
   "metadata": {}
  },
  {
   "cell_type": "code",
   "execution_count": 3,
   "metadata": {},
   "outputs": [],
   "source": [
    "from keras.datasets import mnist\n",
    "(train_images, train_labels), (test_images, test_labels) = mnist.load_data()"
   ]
  },
  {
   "cell_type": "code",
   "execution_count": 4,
   "metadata": {},
   "outputs": [
    {
     "output_type": "stream",
     "name": "stdout",
     "text": [
      "2\n(60000, 784)\n"
     ]
    }
   ],
   "source": [
    "train_images=train_images.reshape((60000,28*28)) # 3D -> 2D\n",
    "print(train_images.ndim)\n",
    "print(train_images.shape)"
   ]
  },
  {
   "source": [
    "### 라이브러리 불러오기"
   ],
   "cell_type": "markdown",
   "metadata": {}
  },
  {
   "cell_type": "code",
   "execution_count": 5,
   "metadata": {},
   "outputs": [],
   "source": [
    "import keras\n",
    "import pandas as pd \n",
    "import numpy as np "
   ]
  },
  {
   "cell_type": "code",
   "execution_count": 6,
   "metadata": {},
   "outputs": [],
   "source": [
    "## parse_dates : datetime 컬럼을 시간형으로 불러올 수 있음\n",
    "train = pd.read_csv(\"./Data/bike_mod_tr.csv\", parse_dates=['datetime'])\n",
    "test = pd.read_csv(\"./Data/bike_mod_test.csv\", parse_dates=['datetime'])"
   ]
  },
  {
   "source": [
    "### 데이터 선택"
   ],
   "cell_type": "markdown",
   "metadata": {}
  },
  {
   "cell_type": "code",
   "execution_count": 7,
   "metadata": {},
   "outputs": [],
   "source": [
    "input_col=['hour', 'temp']\n",
    "labeled_col=['count']"
   ]
  },
  {
   "cell_type": "code",
   "execution_count": 8,
   "metadata": {},
   "outputs": [],
   "source": [
    "X=train[input_col]\n",
    "y=train[labeled_col]\n",
    "X_val=test[input_col]"
   ]
  },
  {
   "cell_type": "code",
   "execution_count": 9,
   "metadata": {},
   "outputs": [],
   "source": [
    "from sklearn.model_selection import train_test_split"
   ]
  },
  {
   "cell_type": "code",
   "execution_count": 10,
   "metadata": {},
   "outputs": [],
   "source": [
    "X_train, x_test, y_train, y_test = train_test_split(X, y, random_state=0)"
   ]
  },
  {
   "cell_type": "code",
   "execution_count": 11,
   "metadata": {},
   "outputs": [],
   "source": [
    "# random seed값 0\n",
    "seed=0\n",
    "np.random.seed(seed)"
   ]
  },
  {
   "source": [
    "### 딥러닝 구조 결정\n",
    "* 사용하는 특징(feature) : 2개\n",
    "* 마지막 예측하는 것이 회귀 - 출력층의 노드는 1개\n",
    "* 마지막 예측하는 것이 분류 - 출력층 노드는 범주의 개수만큼 생성됨."
   ],
   "cell_type": "markdown",
   "metadata": {}
  },
  {
   "source": [
    "* Sequential() 함수를 사용하여 각 층별 쉽게 쌓아올릴 수 있음.\n",
    "* model.add()로 한 층 또는 두 층씩 추가\n",
    "* 첫 model.add() 입력층과 그 다음 출력층을 넣을 수 있음.\n",
    "* 각 은닉층이 끝날 때 활성화 함수를 넣어 비선형 문제를 풀 수 있음."
   ],
   "cell_type": "markdown",
   "metadata": {}
  },
  {
   "cell_type": "code",
   "execution_count": null,
   "metadata": {},
   "outputs": [],
   "source": []
  }
 ]
}