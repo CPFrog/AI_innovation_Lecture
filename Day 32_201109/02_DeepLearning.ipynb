{
 "metadata": {
  "language_info": {
   "codemirror_mode": {
    "name": "ipython",
    "version": 3
   },
   "file_extension": ".py",
   "mimetype": "text/x-python",
   "name": "python",
   "nbconvert_exporter": "python",
   "pygments_lexer": "ipython3",
   "version": "3.8.5-final"
  },
  "orig_nbformat": 2,
  "kernelspec": {
   "name": "python3",
   "display_name": "Python 3"
  }
 },
 "nbformat": 4,
 "nbformat_minor": 2,
 "cells": [
  {
   "source": [
    "#### 데이터 정보\n",
    "* (60000, 28, 28) : 색이 없던것\n",
    "* (60000, 28, 28, 3) : RGB 컬러 있음\n",
    "* 2D : 행렬(타이타닉, 바이크)...\n",
    "* 3D : 시계열 데이터\n",
    "* 4D : (샘플개수, 높이, 너비, 채널) 채널1 : 흑백, 채널3(RGB)\n",
    "* 5D : 동영상(샘플개수, 프레임, 높이, 너비, 채널)"
   ],
   "cell_type": "markdown",
   "metadata": {}
  },
  {
   "source": [
    "### 텐서의 크기 변환"
   ],
   "cell_type": "markdown",
   "metadata": {}
  },
  {
   "cell_type": "code",
   "execution_count": 1,
   "metadata": {},
   "outputs": [],
   "source": [
    "from keras.datasets import mnist\n",
    "(train_images, train_labels), (test_images, test_labels) = mnist.load_data()"
   ]
  },
  {
   "cell_type": "code",
   "execution_count": 2,
   "metadata": {},
   "outputs": [
    {
     "output_type": "stream",
     "name": "stdout",
     "text": [
      "2\n(60000, 784)\n"
     ]
    }
   ],
   "source": [
    "train_images=train_images.reshape((60000,28*28)) # 3D -> 2D\n",
    "print(train_images.ndim)\n",
    "print(train_images.shape)"
   ]
  },
  {
   "source": [
    "### 라이브러리 불러오기"
   ],
   "cell_type": "markdown",
   "metadata": {}
  },
  {
   "cell_type": "code",
   "execution_count": 3,
   "metadata": {},
   "outputs": [],
   "source": [
    "import keras\n",
    "import pandas as pd \n",
    "import numpy as np "
   ]
  },
  {
   "cell_type": "code",
   "execution_count": 4,
   "metadata": {},
   "outputs": [],
   "source": [
    "## parse_dates : datetime 컬럼을 시간형으로 불러올 수 있음\n",
    "train = pd.read_csv(\"./Data/bike_mod_tr.csv\", parse_dates=['datetime'])\n",
    "test = pd.read_csv(\"./Data/bike_mod_test.csv\", parse_dates=['datetime'])"
   ]
  },
  {
   "source": [
    "### 데이터 선택"
   ],
   "cell_type": "markdown",
   "metadata": {}
  },
  {
   "cell_type": "code",
   "execution_count": 5,
   "metadata": {},
   "outputs": [],
   "source": [
    "input_col=['hour', 'temp']\n",
    "labeled_col=['count']"
   ]
  },
  {
   "cell_type": "code",
   "execution_count": 6,
   "metadata": {},
   "outputs": [],
   "source": [
    "X=train[input_col]\n",
    "y=train[labeled_col]\n",
    "X_val=test[input_col]"
   ]
  },
  {
   "cell_type": "code",
   "execution_count": 7,
   "metadata": {},
   "outputs": [],
   "source": [
    "from sklearn.model_selection import train_test_split"
   ]
  },
  {
   "cell_type": "code",
   "execution_count": 8,
   "metadata": {},
   "outputs": [],
   "source": [
    "X_train, X_test, y_train, y_test = train_test_split(X, y, random_state=0)"
   ]
  },
  {
   "cell_type": "code",
   "execution_count": 9,
   "metadata": {},
   "outputs": [],
   "source": [
    "# random seed값 0\n",
    "seed=0\n",
    "np.random.seed(seed)"
   ]
  },
  {
   "source": [
    "### 딥러닝 구조 결정\n",
    "* 사용하는 특징(feature) : 2개\n",
    "* 마지막 예측하는 것이 회귀 - 출력층의 노드는 1개\n",
    "* 마지막 예측하는 것이 분류 - 출력층 노드는 범주의 개수만큼 생성됨."
   ],
   "cell_type": "markdown",
   "metadata": {}
  },
  {
   "source": [
    "* Sequential() 함수를 사용하여 각 층별 쉽게 쌓아올릴 수 있음.\n",
    "* model.add()로 한 층 또는 두 층씩 추가\n",
    "* 첫 model.add() 입력층과 그 다음 출력층을 넣을 수 있음.\n",
    "* 각 은닉층이 끝날 때 활성화 함수를 넣어 비선형 문제를 풀 수 있음."
   ],
   "cell_type": "markdown",
   "metadata": {}
  },
  {
   "cell_type": "code",
   "execution_count": 10,
   "metadata": {},
   "outputs": [],
   "source": [
    "from keras.models import Sequential\n",
    "from keras.layers import Dense"
   ]
  },
  {
   "cell_type": "code",
   "execution_count": 11,
   "metadata": {},
   "outputs": [],
   "source": [
    "model=Sequential()\n",
    "model.add(Dense(30,input_dim=2, activation='relu'))\n",
    "model.add(Dense(15,activation='relu'))\n",
    "model.add(Dense(15,activation='relu'))\n",
    "model.add(Dense(1))"
   ]
  },
  {
   "cell_type": "code",
   "execution_count": 12,
   "metadata": {},
   "outputs": [
    {
     "output_type": "stream",
     "name": "stdout",
     "text": [
      "Model: \"sequential\"\n_________________________________________________________________\nLayer (type)                 Output Shape              Param #   \n=================================================================\ndense (Dense)                (None, 30)                90        \n_________________________________________________________________\ndense_1 (Dense)              (None, 15)                465       \n_________________________________________________________________\ndense_2 (Dense)              (None, 15)                240       \n_________________________________________________________________\ndense_3 (Dense)              (None, 1)                 16        \n=================================================================\nTotal params: 811\nTrainable params: 811\nNon-trainable params: 0\n_________________________________________________________________\n"
     ]
    }
   ],
   "source": [
    "model.summary()"
   ]
  },
  {
   "source": [
    "### 배치 데이터 10개\n",
    "* (10,2)-> 2D\n",
    "\n",
    "### 평가지표\n",
    "* MSE, RMSE, RMLSE(또는 RMSLE), MAE\n",
    "* MSE로 평가한다면 loss='mean_squared_error'\n",
    "* optimizer: 가중치를 업데이트 시키는데 사용하는 알고리즘(cs231n)"
   ],
   "cell_type": "markdown",
   "metadata": {}
  },
  {
   "cell_type": "code",
   "execution_count": 13,
   "metadata": {},
   "outputs": [
    {
     "output_type": "stream",
     "name": "stdout",
     "text": [
      "Epoch 1/20\n",
      "817/817 [==============================] - 1s 830us/step - loss: 31049.9492\n",
      "Epoch 2/20\n",
      "817/817 [==============================] - 1s 773us/step - loss: 24041.0859\n",
      "Epoch 3/20\n",
      "817/817 [==============================] - 1s 955us/step - loss: 23002.6875\n",
      "Epoch 4/20\n",
      "817/817 [==============================] - 1s 811us/step - loss: 21296.7246\n",
      "Epoch 5/20\n",
      "817/817 [==============================] - 1s 792us/step - loss: 19877.7871\n",
      "Epoch 6/20\n",
      "817/817 [==============================] - 1s 802us/step - loss: 19534.5957\n",
      "Epoch 7/20\n",
      "817/817 [==============================] - 1s 794us/step - loss: 19415.1191\n",
      "Epoch 8/20\n",
      "817/817 [==============================] - 1s 773us/step - loss: 19324.0293\n",
      "Epoch 9/20\n",
      "817/817 [==============================] - 1s 808us/step - loss: 19229.2773\n",
      "Epoch 10/20\n",
      "817/817 [==============================] - 1s 775us/step - loss: 19189.2598\n",
      "Epoch 11/20\n",
      "817/817 [==============================] - 1s 767us/step - loss: 19065.3223\n",
      "Epoch 12/20\n",
      "817/817 [==============================] - 1s 860us/step - loss: 18930.4629\n",
      "Epoch 13/20\n",
      "817/817 [==============================] - 1s 859us/step - loss: 18815.5312\n",
      "Epoch 14/20\n",
      "817/817 [==============================] - 1s 789us/step - loss: 18671.2285\n",
      "Epoch 15/20\n",
      "817/817 [==============================] - 1s 803us/step - loss: 18648.3027\n",
      "Epoch 16/20\n",
      "817/817 [==============================] - 1s 772us/step - loss: 18567.7285\n",
      "Epoch 17/20\n",
      "817/817 [==============================] - 1s 789us/step - loss: 18456.8984\n",
      "Epoch 18/20\n",
      "817/817 [==============================] - 1s 778us/step - loss: 18421.6719\n",
      "Epoch 19/20\n",
      "817/817 [==============================] - 1s 755us/step - loss: 18350.6152\n",
      "Epoch 20/20\n",
      "817/817 [==============================] - 1s 780us/step - loss: 18248.9336\n"
     ]
    },
    {
     "output_type": "execute_result",
     "data": {
      "text/plain": [
       "<tensorflow.python.keras.callbacks.History at 0x293a6f96640>"
      ]
     },
     "metadata": {},
     "execution_count": 13
    }
   ],
   "source": [
    "model.compile(loss='mean_squared_error', optimizer='rmsprop')\n",
    "model.fit(X_train, y_train, epochs=20, batch_size=10)"
   ]
  },
  {
   "source": [
    "### 평가 확인"
   ],
   "cell_type": "markdown",
   "metadata": {}
  },
  {
   "cell_type": "code",
   "execution_count": 14,
   "metadata": {},
   "outputs": [
    {
     "output_type": "stream",
     "name": "stdout",
     "text": [
      "86/86 [==============================] - 0s 719us/step - loss: 18035.2129\n"
     ]
    },
    {
     "output_type": "execute_result",
     "data": {
      "text/plain": [
       "18035.212890625"
      ]
     },
     "metadata": {},
     "execution_count": 14
    }
   ],
   "source": [
    "model.evaluate(X_test, y_test)"
   ]
  },
  {
   "source": [
    "### 실습 4-1\n",
    "* 변수 추가를 통해 성능향상 시켜보기."
   ],
   "cell_type": "markdown",
   "metadata": {}
  },
  {
   "cell_type": "code",
   "execution_count": null,
   "metadata": {},
   "outputs": [],
   "source": []
  }
 ]
}