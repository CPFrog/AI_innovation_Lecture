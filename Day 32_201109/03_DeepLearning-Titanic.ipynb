{
 "metadata": {
  "language_info": {
   "codemirror_mode": {
    "name": "ipython",
    "version": 3
   },
   "file_extension": ".py",
   "mimetype": "text/x-python",
   "name": "python",
   "nbconvert_exporter": "python",
   "pygments_lexer": "ipython3",
   "version": "3.8.5-final"
  },
  "orig_nbformat": 2,
  "kernelspec": {
   "name": "python3",
   "display_name": "Python 3"
  }
 },
 "nbformat": 4,
 "nbformat_minor": 2,
 "cells": [
  {
   "cell_type": "code",
   "execution_count": 1,
   "metadata": {},
   "outputs": [],
   "source": [
    "# 라이브러리 호출\n",
    "import numpy as np\n",
    "import matplotlib.pyplot as plt\n",
    "import matplotlib\n",
    "import pandas as pd\n",
    "import tensorflow as tf\n",
    "import keras\n",
    "from keras.models import Sequential\n",
    "from keras.layers import Dense"
   ]
  },
  {
   "cell_type": "code",
   "execution_count": 2,
   "metadata": {},
   "outputs": [
    {
     "output_type": "stream",
     "name": "stdout",
     "text": [
      "(891, 12) (418, 11)\n"
     ]
    }
   ],
   "source": [
    "train=pd.read_csv('./Data/Titanic/train.csv')\n",
    "test=pd.read_csv('./Data/Titanic/test.csv')\n",
    "print(train.shape, test.shape)"
   ]
  },
  {
   "cell_type": "code",
   "execution_count": 3,
   "metadata": {},
   "outputs": [
    {
     "output_type": "execute_result",
     "data": {
      "text/plain": [
       "Index(['PassengerId', 'Survived', 'Pclass', 'Name', 'Sex', 'Age', 'SibSp',\n",
       "       'Parch', 'Ticket', 'Fare', 'Cabin', 'Embarked'],\n",
       "      dtype='object')"
      ]
     },
     "metadata": {},
     "execution_count": 3
    }
   ],
   "source": [
    "train.columns"
   ]
  },
  {
   "source": [
    "### 특징 선택 3개"
   ],
   "cell_type": "markdown",
   "metadata": {}
  },
  {
   "cell_type": "code",
   "execution_count": 4,
   "metadata": {},
   "outputs": [],
   "source": [
    "input_col = ['Pclass', 'SibSp', 'Parch']\n",
    "labeled_col = ['Survived']"
   ]
  },
  {
   "cell_type": "code",
   "execution_count": 7,
   "metadata": {},
   "outputs": [],
   "source": [
    "X = train[ input_col ]\n",
    "y = train[ labeled_col ]\n",
    "X_val = test[ input_col ]"
   ]
  },
  {
   "source": [
    "### 데이터 나누기"
   ],
   "cell_type": "markdown",
   "metadata": {}
  },
  {
   "cell_type": "code",
   "execution_count": 5,
   "metadata": {},
   "outputs": [],
   "source": [
    "from sklearn.model_selection import train_test_split"
   ]
  },
  {
   "cell_type": "code",
   "execution_count": 8,
   "metadata": {},
   "outputs": [],
   "source": [
    "X_train, X_test, y_train, y_test = train_test_split(X, y, random_state=0)"
   ]
  },
  {
   "cell_type": "code",
   "execution_count": 9,
   "metadata": {},
   "outputs": [
    {
     "output_type": "stream",
     "name": "stdout",
     "text": [
      "(668, 3) (223, 3)\n\n(668, 1) (223, 1)\n"
     ]
    }
   ],
   "source": [
    "print(X_train.shape, X_test.shape)\n",
    "print()\n",
    "print(y_train.shape, y_test.shape)"
   ]
  },
  {
   "source": [
    "### 모델 만들기"
   ],
   "cell_type": "markdown",
   "metadata": {}
  },
  {
   "cell_type": "code",
   "execution_count": 10,
   "metadata": {},
   "outputs": [],
   "source": [
    "model = Sequential()\n",
    "model.add(Dense(15, input_dim=3, activation='relu'))\n",
    "model.add(Dense(10, activation='relu') )\n",
    "model.add(Dense(1, activation='sigmoid'))"
   ]
  },
  {
   "cell_type": "code",
   "execution_count": 11,
   "metadata": {},
   "outputs": [
    {
     "output_type": "stream",
     "name": "stdout",
     "text": [
      "Epoch 1/100\n",
      "67/67 [==============================] - 0s 953us/step - loss: 0.2414\n",
      "Epoch 2/100\n",
      "67/67 [==============================] - 0s 937us/step - loss: 0.2313\n",
      "Epoch 3/100\n",
      "67/67 [==============================] - 0s 804us/step - loss: 0.2264\n",
      "Epoch 4/100\n",
      "67/67 [==============================] - 0s 714us/step - loss: 0.2232\n",
      "Epoch 5/100\n",
      "67/67 [==============================] - 0s 804us/step - loss: 0.2208\n",
      "Epoch 6/100\n",
      "67/67 [==============================] - 0s 759us/step - loss: 0.2186\n",
      "Epoch 7/100\n",
      "67/67 [==============================] - 0s 744us/step - loss: 0.2168\n",
      "Epoch 8/100\n",
      "67/67 [==============================] - 0s 863us/step - loss: 0.2153\n",
      "Epoch 9/100\n",
      "67/67 [==============================] - 0s 799us/step - loss: 0.2144\n",
      "Epoch 10/100\n",
      "67/67 [==============================] - 0s 744us/step - loss: 0.2132\n",
      "Epoch 11/100\n",
      "67/67 [==============================] - 0s 713us/step - loss: 0.2122\n",
      "Epoch 12/100\n",
      "67/67 [==============================] - 0s 834us/step - loss: 0.2114\n",
      "Epoch 13/100\n",
      "67/67 [==============================] - 0s 955us/step - loss: 0.2105\n",
      "Epoch 14/100\n",
      "67/67 [==============================] - 0s 701us/step - loss: 0.2096\n",
      "Epoch 15/100\n",
      "67/67 [==============================] - 0s 789us/step - loss: 0.2090\n",
      "Epoch 16/100\n",
      "67/67 [==============================] - 0s 679us/step - loss: 0.2084\n",
      "Epoch 17/100\n",
      "67/67 [==============================] - 0s 715us/step - loss: 0.2079\n",
      "Epoch 18/100\n",
      "67/67 [==============================] - 0s 670us/step - loss: 0.2072\n",
      "Epoch 19/100\n",
      "67/67 [==============================] - 0s 700us/step - loss: 0.2070\n",
      "Epoch 20/100\n",
      "67/67 [==============================] - 0s 655us/step - loss: 0.2065\n",
      "Epoch 21/100\n",
      "67/67 [==============================] - 0s 699us/step - loss: 0.2061\n",
      "Epoch 22/100\n",
      "67/67 [==============================] - 0s 684us/step - loss: 0.2058\n",
      "Epoch 23/100\n",
      "67/67 [==============================] - 0s 699us/step - loss: 0.2054\n",
      "Epoch 24/100\n",
      "67/67 [==============================] - 0s 700us/step - loss: 0.2050\n",
      "Epoch 25/100\n",
      "67/67 [==============================] - 0s 759us/step - loss: 0.2048\n",
      "Epoch 26/100\n",
      "67/67 [==============================] - 0s 715us/step - loss: 0.2048\n",
      "Epoch 27/100\n",
      "67/67 [==============================] - 0s 759us/step - loss: 0.2043\n",
      "Epoch 28/100\n",
      "67/67 [==============================] - 0s 1ms/step - loss: 0.2041\n",
      "Epoch 29/100\n",
      "67/67 [==============================] - 0s 1ms/step - loss: 0.2029\n",
      "Epoch 30/100\n",
      "67/67 [==============================] - 0s 2ms/step - loss: 0.2038\n",
      "Epoch 31/100\n",
      "67/67 [==============================] - 0s 848us/step - loss: 0.2034\n",
      "Epoch 32/100\n",
      "67/67 [==============================] - 0s 863us/step - loss: 0.2033\n",
      "Epoch 33/100\n",
      "67/67 [==============================] - 0s 1ms/step - loss: 0.2032\n",
      "Epoch 34/100\n",
      "67/67 [==============================] - 0s 997us/step - loss: 0.2027\n",
      "Epoch 35/100\n",
      "67/67 [==============================] - 0s 1ms/step - loss: 0.2027\n",
      "Epoch 36/100\n",
      "67/67 [==============================] - 0s 953us/step - loss: 0.2026\n",
      "Epoch 37/100\n",
      "67/67 [==============================] - 0s 878us/step - loss: 0.2025\n",
      "Epoch 38/100\n",
      "67/67 [==============================] - 0s 1ms/step - loss: 0.2022\n",
      "Epoch 39/100\n",
      "67/67 [==============================] - 0s 1ms/step - loss: 0.2022\n",
      "Epoch 40/100\n",
      "67/67 [==============================] - 0s 1ms/step - loss: 0.2023\n",
      "Epoch 41/100\n",
      "67/67 [==============================] - 0s 990us/step - loss: 0.2018\n",
      "Epoch 42/100\n",
      "67/67 [==============================] - 0s 923us/step - loss: 0.2018\n",
      "Epoch 43/100\n",
      "67/67 [==============================] - 0s 803us/step - loss: 0.2018\n",
      "Epoch 44/100\n",
      "67/67 [==============================] - 0s 908us/step - loss: 0.2010\n",
      "Epoch 45/100\n",
      "67/67 [==============================] - 0s 863us/step - loss: 0.2012\n",
      "Epoch 46/100\n",
      "67/67 [==============================] - 0s 804us/step - loss: 0.2014\n",
      "Epoch 47/100\n",
      "67/67 [==============================] - 0s 848us/step - loss: 0.2010\n",
      "Epoch 48/100\n",
      "67/67 [==============================] - 0s 863us/step - loss: 0.2008\n",
      "Epoch 49/100\n",
      "67/67 [==============================] - 0s 893us/step - loss: 0.2003\n",
      "Epoch 50/100\n",
      "67/67 [==============================] - 0s 997us/step - loss: 0.2008\n",
      "Epoch 51/100\n",
      "67/67 [==============================] - 0s 953us/step - loss: 0.2008\n",
      "Epoch 52/100\n",
      "67/67 [==============================] - 0s 834us/step - loss: 0.2006\n",
      "Epoch 53/100\n",
      "67/67 [==============================] - 0s 953us/step - loss: 0.2003\n",
      "Epoch 54/100\n",
      "67/67 [==============================] - 0s 863us/step - loss: 0.2001\n",
      "Epoch 55/100\n",
      "67/67 [==============================] - 0s 901us/step - loss: 0.2001\n",
      "Epoch 56/100\n",
      "67/67 [==============================] - 0s 892us/step - loss: 0.1999\n",
      "Epoch 57/100\n",
      "67/67 [==============================] - 0s 774us/step - loss: 0.1997\n",
      "Epoch 58/100\n",
      "67/67 [==============================] - 0s 922us/step - loss: 0.1996\n",
      "Epoch 59/100\n",
      "67/67 [==============================] - 0s 804us/step - loss: 0.1997\n",
      "Epoch 60/100\n",
      "67/67 [==============================] - 0s 968us/step - loss: 0.1995\n",
      "Epoch 61/100\n",
      "67/67 [==============================] - 0s 1ms/step - loss: 0.1995\n",
      "Epoch 62/100\n",
      "67/67 [==============================] - 0s 685us/step - loss: 0.1992\n",
      "Epoch 63/100\n",
      "67/67 [==============================] - 0s 729us/step - loss: 0.1996\n",
      "Epoch 64/100\n",
      "67/67 [==============================] - 0s 700us/step - loss: 0.1992\n",
      "Epoch 65/100\n",
      "67/67 [==============================] - 0s 700us/step - loss: 0.1993\n",
      "Epoch 66/100\n",
      "67/67 [==============================] - 0s 685us/step - loss: 0.1992\n",
      "Epoch 67/100\n",
      "67/67 [==============================] - 0s 685us/step - loss: 0.1990\n",
      "Epoch 68/100\n",
      "67/67 [==============================] - 0s 714us/step - loss: 0.1992\n",
      "Epoch 69/100\n",
      "67/67 [==============================] - 0s 714us/step - loss: 0.1987\n",
      "Epoch 70/100\n",
      "67/67 [==============================] - 0s 789us/step - loss: 0.1992\n",
      "Epoch 71/100\n",
      "67/67 [==============================] - 0s 878us/step - loss: 0.1991\n",
      "Epoch 72/100\n",
      "67/67 [==============================] - 0s 744us/step - loss: 0.1985\n",
      "Epoch 73/100\n",
      "67/67 [==============================] - 0s 744us/step - loss: 0.1987\n",
      "Epoch 74/100\n",
      "67/67 [==============================] - 0s 759us/step - loss: 0.1981\n",
      "Epoch 75/100\n",
      "67/67 [==============================] - 0s 685us/step - loss: 0.1986\n",
      "Epoch 76/100\n",
      "67/67 [==============================] - 0s 685us/step - loss: 0.1986\n",
      "Epoch 77/100\n",
      "67/67 [==============================] - 0s 804us/step - loss: 0.1981\n",
      "Epoch 78/100\n",
      "67/67 [==============================] - 0s 834us/step - loss: 0.1982\n",
      "Epoch 79/100\n",
      "67/67 [==============================] - 0s 729us/step - loss: 0.1984\n",
      "Epoch 80/100\n",
      "67/67 [==============================] - 0s 968us/step - loss: 0.1979\n",
      "Epoch 81/100\n",
      "67/67 [==============================] - 0s 863us/step - loss: 0.1981\n",
      "Epoch 82/100\n",
      "67/67 [==============================] - 0s 744us/step - loss: 0.1979\n",
      "Epoch 83/100\n",
      "67/67 [==============================] - 0s 723us/step - loss: 0.1981\n",
      "Epoch 84/100\n",
      "67/67 [==============================] - 0s 670us/step - loss: 0.1979\n",
      "Epoch 85/100\n",
      "67/67 [==============================] - 0s 768us/step - loss: 0.1977\n",
      "Epoch 86/100\n",
      "67/67 [==============================] - 0s 789us/step - loss: 0.1978\n",
      "Epoch 87/100\n",
      "67/67 [==============================] - 0s 819us/step - loss: 0.1978\n",
      "Epoch 88/100\n",
      "67/67 [==============================] - 0s 908us/step - loss: 0.1975\n",
      "Epoch 89/100\n",
      "67/67 [==============================] - 0s 833us/step - loss: 0.1978\n",
      "Epoch 90/100\n",
      "67/67 [==============================] - 0s 1ms/step - loss: 0.1976\n",
      "Epoch 91/100\n",
      "67/67 [==============================] - 0s 1ms/step - loss: 0.1977\n",
      "Epoch 92/100\n",
      "67/67 [==============================] - 0s 700us/step - loss: 0.1974\n",
      "Epoch 93/100\n",
      "67/67 [==============================] - 0s 744us/step - loss: 0.1974\n",
      "Epoch 94/100\n",
      "67/67 [==============================] - 0s 819us/step - loss: 0.1976\n",
      "Epoch 95/100\n",
      "67/67 [==============================] - 0s 878us/step - loss: 0.1975\n",
      "Epoch 96/100\n",
      "67/67 [==============================] - 0s 863us/step - loss: 0.1971\n",
      "Epoch 97/100\n",
      "67/67 [==============================] - 0s 804us/step - loss: 0.1972\n",
      "Epoch 98/100\n",
      "67/67 [==============================] - 0s 878us/step - loss: 0.1975\n",
      "Epoch 99/100\n",
      "67/67 [==============================] - 0s 848us/step - loss: 0.1970\n",
      "Epoch 100/100\n",
      "67/67 [==============================] - 0s 789us/step - loss: 0.1975\n"
     ]
    },
    {
     "output_type": "execute_result",
     "data": {
      "text/plain": [
       "<tensorflow.python.keras.callbacks.History at 0x1e22639b610>"
      ]
     },
     "metadata": {},
     "execution_count": 11
    }
   ],
   "source": [
    "model.compile(loss='mean_squared_error', optimizer='rmsprop')\n",
    "model.fit(X_train, y_train, epochs=100, batch_size=10)"
   ]
  },
  {
   "cell_type": "code",
   "execution_count": 12,
   "metadata": {},
   "outputs": [
    {
     "output_type": "stream",
     "name": "stdout",
     "text": [
      "1/7 [===>..........................] - ETA: 0s - loss: 0.1639WARNING:tensorflow:Callbacks method `on_test_batch_begin` is slow compared to the batch time (batch time: 0.0000s vs `on_test_batch_begin` time: 0.0010s). Check your callbacks.\n",
      "WARNING:tensorflow:Callbacks method `on_test_batch_end` is slow compared to the batch time (batch time: 0.0000s vs `on_test_batch_end` time: 0.0010s). Check your callbacks.\n",
      "7/7 [==============================] - 0s 2ms/step - loss: 0.1936\n"
     ]
    },
    {
     "output_type": "execute_result",
     "data": {
      "text/plain": [
       "0.19363465905189514"
      ]
     },
     "metadata": {},
     "execution_count": 12
    }
   ],
   "source": [
    "model.evaluate(X_test, y_test)"
   ]
  },
  {
   "cell_type": "code",
   "execution_count": 13,
   "metadata": {},
   "outputs": [
    {
     "output_type": "stream",
     "name": "stdout",
     "text": [
      "Epoch 1/100\n",
      "67/67 [==============================] - 0s 1ms/step - loss: 0.5795 - accuracy: 0.7066\n",
      "Epoch 2/100\n",
      "67/67 [==============================] - 0s 1ms/step - loss: 0.5781 - accuracy: 0.7036\n",
      "Epoch 3/100\n",
      "67/67 [==============================] - 0s 1ms/step - loss: 0.5782 - accuracy: 0.7036\n",
      "Epoch 4/100\n",
      "67/67 [==============================] - 0s 997us/step - loss: 0.5788 - accuracy: 0.7096\n",
      "Epoch 5/100\n",
      "67/67 [==============================] - 0s 1ms/step - loss: 0.5775 - accuracy: 0.7036\n",
      "Epoch 6/100\n",
      "67/67 [==============================] - 0s 968us/step - loss: 0.5776 - accuracy: 0.7036\n",
      "Epoch 7/100\n",
      "67/67 [==============================] - 0s 953us/step - loss: 0.5775 - accuracy: 0.7036\n",
      "Epoch 8/100\n",
      "67/67 [==============================] - 0s 953us/step - loss: 0.5769 - accuracy: 0.7036\n",
      "Epoch 9/100\n",
      "67/67 [==============================] - 0s 1ms/step - loss: 0.5775 - accuracy: 0.7081\n",
      "Epoch 10/100\n",
      "67/67 [==============================] - 0s 923us/step - loss: 0.5765 - accuracy: 0.7036\n",
      "Epoch 11/100\n",
      "67/67 [==============================] - 0s 938us/step - loss: 0.5774 - accuracy: 0.7036\n",
      "Epoch 12/100\n",
      "67/67 [==============================] - 0s 953us/step - loss: 0.5774 - accuracy: 0.7036\n",
      "Epoch 13/100\n",
      "67/67 [==============================] - 0s 997us/step - loss: 0.5778 - accuracy: 0.7066\n",
      "Epoch 14/100\n",
      "67/67 [==============================] - 0s 1ms/step - loss: 0.5765 - accuracy: 0.7051\n",
      "Epoch 15/100\n",
      "67/67 [==============================] - 0s 1ms/step - loss: 0.5779 - accuracy: 0.7021\n",
      "Epoch 16/100\n",
      "67/67 [==============================] - 0s 1ms/step - loss: 0.5768 - accuracy: 0.7051\n",
      "Epoch 17/100\n",
      "67/67 [==============================] - 0s 1ms/step - loss: 0.5768 - accuracy: 0.7051\n",
      "Epoch 18/100\n",
      "67/67 [==============================] - 0s 1ms/step - loss: 0.5771 - accuracy: 0.7051\n",
      "Epoch 19/100\n",
      "67/67 [==============================] - 0s 1ms/step - loss: 0.5762 - accuracy: 0.7066\n",
      "Epoch 20/100\n",
      "67/67 [==============================] - 0s 1ms/step - loss: 0.5765 - accuracy: 0.7051\n",
      "Epoch 21/100\n",
      "67/67 [==============================] - 0s 1ms/step - loss: 0.5762 - accuracy: 0.7036\n",
      "Epoch 22/100\n",
      "67/67 [==============================] - 0s 1ms/step - loss: 0.5768 - accuracy: 0.7081\n",
      "Epoch 23/100\n",
      "67/67 [==============================] - 0s 1ms/step - loss: 0.5764 - accuracy: 0.7066\n",
      "Epoch 24/100\n",
      "67/67 [==============================] - 0s 2ms/step - loss: 0.5768 - accuracy: 0.7051\n",
      "Epoch 25/100\n",
      "67/67 [==============================] - 0s 2ms/step - loss: 0.5767 - accuracy: 0.7066\n",
      "Epoch 26/100\n",
      "67/67 [==============================] - 0s 1ms/step - loss: 0.5758 - accuracy: 0.7081\n",
      "Epoch 27/100\n",
      "67/67 [==============================] - 0s 1ms/step - loss: 0.5754 - accuracy: 0.7021\n",
      "Epoch 28/100\n",
      "67/67 [==============================] - 0s 1ms/step - loss: 0.5766 - accuracy: 0.7066\n",
      "Epoch 29/100\n",
      "67/67 [==============================] - 0s 1ms/step - loss: 0.5757 - accuracy: 0.7096\n",
      "Epoch 30/100\n",
      "67/67 [==============================] - 0s 997us/step - loss: 0.5761 - accuracy: 0.7021\n",
      "Epoch 31/100\n",
      "67/67 [==============================] - 0s 1ms/step - loss: 0.5760 - accuracy: 0.7096\n",
      "Epoch 32/100\n",
      "67/67 [==============================] - 0s 1ms/step - loss: 0.5756 - accuracy: 0.7021\n",
      "Epoch 33/100\n",
      "67/67 [==============================] - 0s 1ms/step - loss: 0.5761 - accuracy: 0.7036\n",
      "Epoch 34/100\n",
      "67/67 [==============================] - 0s 1ms/step - loss: 0.5752 - accuracy: 0.7036\n",
      "Epoch 35/100\n",
      "67/67 [==============================] - 0s 1ms/step - loss: 0.5772 - accuracy: 0.7036\n",
      "Epoch 36/100\n",
      "67/67 [==============================] - 0s 1ms/step - loss: 0.5763 - accuracy: 0.7006\n",
      "Epoch 37/100\n",
      "67/67 [==============================] - 0s 1ms/step - loss: 0.5745 - accuracy: 0.6991\n",
      "Epoch 38/100\n",
      "67/67 [==============================] - 0s 1ms/step - loss: 0.5760 - accuracy: 0.7066\n",
      "Epoch 39/100\n",
      "67/67 [==============================] - 0s 1ms/step - loss: 0.5759 - accuracy: 0.7051\n",
      "Epoch 40/100\n",
      "67/67 [==============================] - 0s 1ms/step - loss: 0.5760 - accuracy: 0.7066\n",
      "Epoch 41/100\n",
      "67/67 [==============================] - 0s 1ms/step - loss: 0.5764 - accuracy: 0.7021\n",
      "Epoch 42/100\n",
      "67/67 [==============================] - 0s 982us/step - loss: 0.5754 - accuracy: 0.6976\n",
      "Epoch 43/100\n",
      "67/67 [==============================] - 0s 997us/step - loss: 0.5759 - accuracy: 0.7066\n",
      "Epoch 44/100\n",
      "67/67 [==============================] - 0s 982us/step - loss: 0.5768 - accuracy: 0.7096\n",
      "Epoch 45/100\n",
      "67/67 [==============================] - 0s 1ms/step - loss: 0.5762 - accuracy: 0.7006\n",
      "Epoch 46/100\n",
      "67/67 [==============================] - 0s 997us/step - loss: 0.5750 - accuracy: 0.7066\n",
      "Epoch 47/100\n",
      "67/67 [==============================] - 0s 953us/step - loss: 0.5745 - accuracy: 0.7066\n",
      "Epoch 48/100\n",
      "67/67 [==============================] - 0s 1ms/step - loss: 0.5748 - accuracy: 0.7021\n",
      "Epoch 49/100\n",
      "67/67 [==============================] - 0s 1ms/step - loss: 0.5750 - accuracy: 0.7081\n",
      "Epoch 50/100\n",
      "67/67 [==============================] - 0s 1ms/step - loss: 0.5753 - accuracy: 0.7066\n",
      "Epoch 51/100\n",
      "67/67 [==============================] - 0s 1ms/step - loss: 0.5741 - accuracy: 0.7051\n",
      "Epoch 52/100\n",
      "67/67 [==============================] - 0s 1ms/step - loss: 0.5748 - accuracy: 0.7081\n",
      "Epoch 53/100\n",
      "67/67 [==============================] - 0s 893us/step - loss: 0.5748 - accuracy: 0.7036\n",
      "Epoch 54/100\n",
      "67/67 [==============================] - 0s 953us/step - loss: 0.5779 - accuracy: 0.7006\n",
      "Epoch 55/100\n",
      "67/67 [==============================] - 0s 1ms/step - loss: 0.5732 - accuracy: 0.7066\n",
      "Epoch 56/100\n",
      "67/67 [==============================] - 0s 1ms/step - loss: 0.5748 - accuracy: 0.7096\n",
      "Epoch 57/100\n",
      "67/67 [==============================] - 0s 1ms/step - loss: 0.5748 - accuracy: 0.7066\n",
      "Epoch 58/100\n",
      "67/67 [==============================] - 0s 1ms/step - loss: 0.5743 - accuracy: 0.7066\n",
      "Epoch 59/100\n",
      "67/67 [==============================] - 0s 1ms/step - loss: 0.5734 - accuracy: 0.7096\n",
      "Epoch 60/100\n",
      "67/67 [==============================] - 0s 1ms/step - loss: 0.5749 - accuracy: 0.7066\n",
      "Epoch 61/100\n",
      "67/67 [==============================] - 0s 1ms/step - loss: 0.5750 - accuracy: 0.7051\n",
      "Epoch 62/100\n",
      "67/67 [==============================] - 0s 1ms/step - loss: 0.5747 - accuracy: 0.7051\n",
      "Epoch 63/100\n",
      "67/67 [==============================] - 0s 997us/step - loss: 0.5762 - accuracy: 0.7081\n",
      "Epoch 64/100\n",
      "67/67 [==============================] - 0s 1ms/step - loss: 0.5752 - accuracy: 0.7066\n",
      "Epoch 65/100\n",
      "67/67 [==============================] - 0s 1ms/step - loss: 0.5753 - accuracy: 0.7081\n",
      "Epoch 66/100\n",
      "67/67 [==============================] - 0s 1ms/step - loss: 0.5749 - accuracy: 0.7081\n",
      "Epoch 67/100\n",
      "67/67 [==============================] - 0s 1ms/step - loss: 0.5744 - accuracy: 0.7066\n",
      "Epoch 68/100\n",
      "67/67 [==============================] - 0s 938us/step - loss: 0.5750 - accuracy: 0.7081\n",
      "Epoch 69/100\n",
      "67/67 [==============================] - 0s 1ms/step - loss: 0.5752 - accuracy: 0.7096\n",
      "Epoch 70/100\n",
      "67/67 [==============================] - 0s 938us/step - loss: 0.5755 - accuracy: 0.7066\n",
      "Epoch 71/100\n",
      "67/67 [==============================] - 0s 965us/step - loss: 0.5746 - accuracy: 0.7096\n",
      "Epoch 72/100\n",
      "67/67 [==============================] - 0s 1ms/step - loss: 0.5737 - accuracy: 0.7066\n",
      "Epoch 73/100\n",
      "67/67 [==============================] - 0s 1ms/step - loss: 0.5748 - accuracy: 0.7081\n",
      "Epoch 74/100\n",
      "67/67 [==============================] - 0s 1ms/step - loss: 0.5737 - accuracy: 0.7051\n",
      "Epoch 75/100\n",
      "67/67 [==============================] - 0s 1ms/step - loss: 0.5735 - accuracy: 0.7081\n",
      "Epoch 76/100\n",
      "67/67 [==============================] - 0s 908us/step - loss: 0.5735 - accuracy: 0.7096\n",
      "Epoch 77/100\n",
      "67/67 [==============================] - 0s 1ms/step - loss: 0.5748 - accuracy: 0.7036\n",
      "Epoch 78/100\n",
      "67/67 [==============================] - 0s 1ms/step - loss: 0.5750 - accuracy: 0.7096\n",
      "Epoch 79/100\n",
      "67/67 [==============================] - 0s 1ms/step - loss: 0.5742 - accuracy: 0.7096\n",
      "Epoch 80/100\n",
      "67/67 [==============================] - 0s 1ms/step - loss: 0.5734 - accuracy: 0.7096\n",
      "Epoch 81/100\n",
      "67/67 [==============================] - 0s 1ms/step - loss: 0.5733 - accuracy: 0.7081\n",
      "Epoch 82/100\n",
      "67/67 [==============================] - 0s 1ms/step - loss: 0.5735 - accuracy: 0.7096\n",
      "Epoch 83/100\n",
      "67/67 [==============================] - 0s 982us/step - loss: 0.5744 - accuracy: 0.6946\n",
      "Epoch 84/100\n",
      "67/67 [==============================] - 0s 1ms/step - loss: 0.5742 - accuracy: 0.7051\n",
      "Epoch 85/100\n",
      "67/67 [==============================] - 0s 1ms/step - loss: 0.5733 - accuracy: 0.7081\n",
      "Epoch 86/100\n",
      "67/67 [==============================] - 0s 1ms/step - loss: 0.5733 - accuracy: 0.7081\n",
      "Epoch 87/100\n",
      "67/67 [==============================] - 0s 1ms/step - loss: 0.5738 - accuracy: 0.7111\n",
      "Epoch 88/100\n",
      "67/67 [==============================] - 0s 1ms/step - loss: 0.5743 - accuracy: 0.6991\n",
      "Epoch 89/100\n",
      "67/67 [==============================] - 0s 1ms/step - loss: 0.5725 - accuracy: 0.7081\n",
      "Epoch 90/100\n",
      "67/67 [==============================] - 0s 1ms/step - loss: 0.5740 - accuracy: 0.7006\n",
      "Epoch 91/100\n",
      "67/67 [==============================] - 0s 1ms/step - loss: 0.5727 - accuracy: 0.7096\n",
      "Epoch 92/100\n",
      "67/67 [==============================] - 0s 1ms/step - loss: 0.5731 - accuracy: 0.7111\n",
      "Epoch 93/100\n",
      "67/67 [==============================] - 0s 1ms/step - loss: 0.5736 - accuracy: 0.7096\n",
      "Epoch 94/100\n",
      "67/67 [==============================] - 0s 1ms/step - loss: 0.5734 - accuracy: 0.7081\n",
      "Epoch 95/100\n",
      "67/67 [==============================] - 0s 1ms/step - loss: 0.5743 - accuracy: 0.7036\n",
      "Epoch 96/100\n",
      "67/67 [==============================] - 0s 1ms/step - loss: 0.5731 - accuracy: 0.7036\n",
      "Epoch 97/100\n",
      "67/67 [==============================] - 0s 1ms/step - loss: 0.5730 - accuracy: 0.7051\n",
      "Epoch 98/100\n",
      "67/67 [==============================] - 0s 1ms/step - loss: 0.5754 - accuracy: 0.7081\n",
      "Epoch 99/100\n",
      "67/67 [==============================] - 0s 1ms/step - loss: 0.5752 - accuracy: 0.7051\n",
      "Epoch 100/100\n",
      "67/67 [==============================] - 0s 1ms/step - loss: 0.5735 - accuracy: 0.7051\n"
     ]
    },
    {
     "output_type": "execute_result",
     "data": {
      "text/plain": [
       "<tensorflow.python.keras.callbacks.History at 0x1e21cc061f0>"
      ]
     },
     "metadata": {},
     "execution_count": 13
    }
   ],
   "source": [
    "model.compile(loss='binary_crossentropy', optimizer='adam',metrics=['accuracy'])\n",
    "model.fit(X_train, y_train, epochs=100, batch_size=10)"
   ]
  },
  {
   "cell_type": "code",
   "execution_count": 14,
   "metadata": {},
   "outputs": [
    {
     "output_type": "stream",
     "name": "stdout",
     "text": [
      "7/7 [==============================] - 0s 1ms/step - loss: 0.5959 - accuracy: 0.7309\n"
     ]
    },
    {
     "output_type": "execute_result",
     "data": {
      "text/plain": [
       "[0.5959435105323792, 0.7309417128562927]"
      ]
     },
     "metadata": {},
     "execution_count": 14
    }
   ],
   "source": [
    "model.evaluate(X_test, y_test)"
   ]
  },
  {
   "cell_type": "code",
   "execution_count": null,
   "metadata": {},
   "outputs": [],
   "source": []
  }
 ]
}