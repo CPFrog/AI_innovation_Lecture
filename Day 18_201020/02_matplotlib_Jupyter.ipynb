{
 "cells": [
  {
   "cell_type": "code",
   "execution_count": null,
   "metadata": {},
   "outputs": [],
   "source": [
    "import pandas as pd\n",
    "import numpy as np\n",
    "from matplotlib import pyplot as plt\n",
    "from matplotlib import *"
   ]
  },
  {
   "cell_type": "code",
   "execution_count": null,
   "metadata": {},
   "outputs": [],
   "source": [
    "train = pd.read_csv(\"california_housing_train.csv\") \n",
    "test = pd.read_csv(\"california_housing_test.csv\")\n",
    "print(\"train 행, 열\", train.shape)\n",
    "print(\"test 행, 열\", test.shape)"
   ]
  },
  {
   "cell_type": "code",
   "execution_count": null,
   "metadata": {},
   "outputs": [],
   "source": [
    "train.describe()"
   ]
  },
  {
   "cell_type": "code",
   "execution_count": null,
   "metadata": {},
   "outputs": [],
   "source": [
    "a=[1,2,3,10,6,5,7]\n",
    "\n",
    "# 평균값\n",
    "print(np.mean(a))\n",
    "\n",
    "# 중앙값\n",
    "print(np.median(a))"
   ]
  },
  {
   "source": [
    "### 시각화\n",
    "\n",
    "* matplotllib.pyplot\n",
    "* seaborn\n",
    "* folium\n",
    "* pandas 시각화\n",
    "*plotly"
   ],
   "cell_type": "markdown",
   "metadata": {}
  },
  {
   "cell_type": "code",
   "execution_count": null,
   "metadata": {},
   "outputs": [],
   "source": [
    "type(train)"
   ]
  },
  {
   "source": [
    "### 막대그래프와 히스토그램\n",
    "* 막대그래프 : 표시한 막대기와 막대기 사이에 간격이 있음 (범주형 변수)\n",
    "* 히스토그램 : 표시한 막대기와 막대기 사이에 간격이 없음 (범위형 변수)"
   ],
   "cell_type": "markdown",
   "metadata": {}
  },
  {
   "cell_type": "code",
   "execution_count": null,
   "metadata": {},
   "outputs": [],
   "source": [
    "train.hist(bins=50, figsize=(20,15))\n"
   ]
  },
  {
   "cell_type": "code",
   "execution_count": null,
   "metadata": {},
   "outputs": [],
   "source": [
    "train.plot(kind=\"scatter\", x=\"longitude\", y=\"latitude\", \n",
    "             alpha=0.4, s=train[\"population\"]/100, \n",
    "             label=\"population\", c=\"median_house_value\", figsize=(12,8),\n",
    "             cmap=plt.get_cmap(\"jet\"), colorbar=True)"
   ]
  },
  {
   "cell_type": "code",
   "execution_count": null,
   "metadata": {},
   "outputs": [],
   "source": [
    "train.columns"
   ]
  },
  {
   "cell_type": "code",
   "execution_count": null,
   "metadata": {},
   "outputs": [],
   "source": [
    "sel=['total_rooms','total_bedrooms','population']\n",
    "temp_train=train[sel]\n",
    "\n",
    "print('데이터 가공 셋의 크기 :', temp_train.shape)\n",
    "print('데이터 가공 셋의 일부 :', temp_train.head())"
   ]
  },
  {
   "cell_type": "code",
   "execution_count": null,
   "metadata": {},
   "outputs": [],
   "source": [
    "import seaborn as sns"
   ]
  },
  {
   "cell_type": "code",
   "execution_count": null,
   "metadata": {},
   "outputs": [],
   "source": [
    "plt.figure(figsize=(10,10))\n",
    "\n",
    "plt.subplot(3,1,1)\n",
    "sns.boxplot(x='total_rooms',data=temp_train)\n",
    "plt.subplot(3,1,2)\n",
    "sns.boxplot(x='total_bedrooms',data=temp_train)\n",
    "plt.subplot(3,1,3)\n",
    "sns.boxplot(x='population',data=temp_train)"
   ]
  },
  {
   "cell_type": "code",
   "execution_count": null,
   "metadata": {},
   "outputs": [],
   "source": []
  }
 ],
 "metadata": {
  "kernelspec": {
   "display_name": "Python 3",
   "language": "python",
   "name": "python3"
  },
  "language_info": {
   "codemirror_mode": {
    "name": "ipython",
    "version": 3
   },
   "file_extension": ".py",
   "mimetype": "text/x-python",
   "name": "python",
   "nbconvert_exporter": "python",
   "pygments_lexer": "ipython3",
   "version": "3.8.5-final"
  }
 },
 "nbformat": 4,
 "nbformat_minor": 4
}