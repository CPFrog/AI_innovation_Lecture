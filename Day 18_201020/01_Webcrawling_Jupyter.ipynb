{
 "cells": [
  {
   "cell_type": "code",
   "execution_count": 1,
   "metadata": {},
   "outputs": [],
   "source": [
    "from urllib.request import urlopen\n",
    "from bs4 import BeautifulSoup\n",
    "import time\n",
    "import re\n",
    "from selenium import webdriver"
   ]
  },
  {
   "cell_type": "code",
   "execution_count": null,
   "metadata": {},
   "outputs": [],
   "source": [
    "url='https://www.youtube.com/c/SKtelecom/videos'\n",
    "driver=webdriver.Chrome('chromedriver.exe')\n",
    "driver.get(url)"
   ]
  },
  {
   "cell_type": "code",
   "execution_count": 7,
   "metadata": {},
   "outputs": [
    {
     "output_type": "execute_result",
     "data": {
      "text/plain": [
       "<title>SK telecom - YouTube</title>"
      ]
     },
     "metadata": {},
     "execution_count": 7
    }
   ],
   "source": [
    "page = driver.page_source\n",
    "soup = BeautifulSoup(page, 'html.parser')\n",
    "soup.title"
   ]
  },
  {
   "cell_type": "code",
   "execution_count": 8,
   "metadata": {},
   "outputs": [
    {
     "output_type": "execute_result",
     "data": {
      "text/plain": [
       "'긴급 재난 문자 수신 설정 방법'"
      ]
     },
     "metadata": {},
     "execution_count": 8
    }
   ],
   "source": [
    "# 하나의 제목 가져오기\n",
    "soup.find(\"a\", class_=\"yt-simple-endpoint style-scope ytd-grid-video-renderer\").text"
   ]
  },
  {
   "cell_type": "code",
   "execution_count": 10,
   "metadata": {},
   "outputs": [
    {
     "output_type": "execute_result",
     "data": {
      "text/plain": [
       "['긴급 재난 문자 수신 설정 방법',\n",
       " '[SK텔레콤 5G] 누구든 보고 어디서든 느낄 수 있도록 ‘창덕ARirang at Home’',\n",
       " '행복을 드리는 SK텔레콤 고객센터 김은혜입니다',\n",
       " '[SKT x 최태성] 언택트 시대 & 4차 산업혁명, 기업의 미래는?',\n",
       " 'T전화 활용하기_T114 업체 정보 등록 방법',\n",
       " '임요환과 G식백과가 푹~ 빠진 이것은 무엇..!? 🎮SKT 5GX 클라우드 게임🎮',\n",
       " '[SKT IMPACTUPS] 스마프',\n",
       " '[SKT IMPACTUPS] 칸필터',\n",
       " '[SK텔레콤] V 컬러링, 김연아의 힐링 편',\n",
       " '[SK텔레콤] V 컬러링, 김연아의 구름이링 편',\n",
       " '[SK텔레콤] V 컬러링, 김연아의 전화위복링 편',\n",
       " '[SK텔레콤] V 컬러링, 김연아의 매너링 편',\n",
       " '[SK텔레콤] V 컬러링, 김연아의 힐링 콘텐츠 편',\n",
       " '♡나와 소중한 사람들을 위해 이번 추석은 여기서 만나요♡ (feat.미더스(MeetUs))',\n",
       " '[SKT IMPACTUPS] 유메인',\n",
       " '[SKT IMPACTUPS] 수퍼빈',\n",
       " '[SKT IMPACTUPS] 에이런',\n",
       " '[SK텔레콤] V 컬러링, 김연아의 매너링 편',\n",
       " '[SK텔레콤] V 컬러링, 김연아의 힐링 편',\n",
       " '[SKT IMPACTUPS] atlab',\n",
       " '[SKT IMPACTUPS] H2K',\n",
       " '[SKT IMPACTUPS] 룩시드랩스',\n",
       " '[Like a Local] Only at SK Telecom!',\n",
       " '[SKT IMPACTUPS] 닥터스팹',\n",
       " '[SKT IMPACTUPS] 리그넘',\n",
       " '[SKT IMPACTUPS] 종합편',\n",
       " '🤳🏻이제 컬러링을 듣는게 아니라 본대..!!! 👀 (Feat.  V컬러링 체험기)',\n",
       " '[SK텔레콤] V 컬러링, 서장훈의 추석링 편',\n",
       " '[SK텔레콤] V 컬러링, 서장훈의 잔소링 편',\n",
       " '[SK텔레콤] V 컬러링, 서장훈의 응원링 편']"
      ]
     },
     "metadata": {},
     "execution_count": 10
    }
   ],
   "source": [
    "all_title = soup.find_all(\"a\", class_=\"yt-simple-endpoint style-scope ytd-grid-video-renderer\")\n",
    "\n",
    "title = []\n",
    "for one in all_title:\n",
    "    # print(one.text)\n",
    "    title.append(one.text)\n",
    "title"
   ]
  },
  {
   "source": [
    "### 실습. 유튜브 조회수만 가져오기"
   ],
   "cell_type": "markdown",
   "metadata": {}
  },
  {
   "cell_type": "code",
   "execution_count": 25,
   "metadata": {},
   "outputs": [
    {
     "output_type": "execute_result",
     "data": {
      "text/plain": [
       "['조회수 932회',\n",
       " '조회수 2천회',\n",
       " '조회수 3.3만회',\n",
       " '조회수 4.1만회',\n",
       " '조회수 361회',\n",
       " '조회수 4.5천회',\n",
       " '조회수 395회',\n",
       " '조회수 162회',\n",
       " '조회수 6.9천회',\n",
       " '조회수 7.1천회',\n",
       " '조회수 4.9천회',\n",
       " '조회수 5.9천회',\n",
       " '조회수 8.3천회',\n",
       " '조회수 2만회',\n",
       " '조회수 142회',\n",
       " '조회수 80회',\n",
       " '조회수 146회',\n",
       " '조회수 87만회',\n",
       " '조회수 178만회',\n",
       " '조회수 105회',\n",
       " '조회수 57회',\n",
       " '조회수 64회',\n",
       " '조회수 800회',\n",
       " '조회수 181회',\n",
       " '조회수 106회',\n",
       " '조회수 148회',\n",
       " '조회수 3.8만회',\n",
       " '조회수 17만회',\n",
       " '조회수 17만회',\n",
       " '조회수 18만회']"
      ]
     },
     "metadata": {},
     "execution_count": 25
    }
   ],
   "source": [
    "all_hit = soup.find_all('span', class_='style-scope ytd-grid-video-renderer')\n",
    "\n",
    "hits=[]\n",
    "\n",
    "a=1\n",
    "for i in all_hit :\n",
    "    if a%2==1: # 조회수랑 업로드일자가 같이 나와 분리하기 위한 조건문\n",
    "        hits.append(i.text)\n",
    "    a+=1\n",
    "hits"
   ]
  },
  {
   "cell_type": "code",
   "execution_count": 26,
   "metadata": {},
   "outputs": [
    {
     "output_type": "execute_result",
     "data": {
      "text/plain": [
       "['6일 전',\n",
       " '6일 전',\n",
       " '1주 전',\n",
       " '1주 전',\n",
       " '2주 전',\n",
       " '2주 전',\n",
       " '2주 전',\n",
       " '2주 전',\n",
       " '2주 전',\n",
       " '2주 전',\n",
       " '2주 전',\n",
       " '2주 전',\n",
       " '2주 전',\n",
       " '2주 전',\n",
       " '3주 전',\n",
       " '3주 전',\n",
       " '3주 전',\n",
       " '3주 전',\n",
       " '3주 전',\n",
       " '3주 전',\n",
       " '3주 전',\n",
       " '3주 전',\n",
       " '3주 전',\n",
       " '3주 전',\n",
       " '3주 전',\n",
       " '3주 전',\n",
       " '3주 전',\n",
       " '3주 전',\n",
       " '3주 전',\n",
       " '3주 전']"
      ]
     },
     "metadata": {},
     "execution_count": 26
    }
   ],
   "source": [
    "times=[]\n",
    "\n",
    "a=1\n",
    "for i in all_hit :\n",
    "    if a%2==0: # 조회수랑 업로드일자가 같이 나와 분리하기 위한 조건문\n",
    "        times.append(i.text)\n",
    "    a+=1\n",
    "times"
   ]
  },
  {
   "cell_type": "code",
   "execution_count": 21,
   "metadata": {},
   "outputs": [],
   "source": [
    "import pandas as pd"
   ]
  },
  {
   "cell_type": "code",
   "execution_count": 27,
   "metadata": {},
   "outputs": [],
   "source": [
    "dat = {\"영상제목\":title, \"조회수\":hits, \"시간\":times}\n",
    "all_data = pd.DataFrame(dat)\n",
    "all_data\n",
    "### 파일로 만들기\n",
    "all_data.to_excel(\"sk_youtube.xlsx\", index=False)"
   ]
  },
  {
   "source": [
    "### 링크 가져오기"
   ],
   "cell_type": "markdown",
   "metadata": {}
  },
  {
   "cell_type": "code",
   "execution_count": 33,
   "metadata": {},
   "outputs": [
    {
     "output_type": "error",
     "ename": "AttributeError",
     "evalue": "ResultSet object has no attribute 'href'. You're probably treating a list of items like a single item. Did you call find_all() when you meant to call find()?",
     "traceback": [
      "\u001b[1;31m---------------------------------------------------------------------------\u001b[0m",
      "\u001b[1;31mAttributeError\u001b[0m                            Traceback (most recent call last)",
      "\u001b[1;32m<ipython-input-33-1874de774c33>\u001b[0m in \u001b[0;36m<module>\u001b[1;34m\u001b[0m\n\u001b[0;32m      2\u001b[0m \u001b[0mall_urls\u001b[0m\u001b[1;33m=\u001b[0m\u001b[1;33m[\u001b[0m\u001b[1;33m]\u001b[0m\u001b[1;33m\u001b[0m\u001b[1;33m\u001b[0m\u001b[0m\n\u001b[0;32m      3\u001b[0m \u001b[1;32mfor\u001b[0m \u001b[0mi\u001b[0m \u001b[1;32min\u001b[0m \u001b[0murls\u001b[0m\u001b[1;33m:\u001b[0m\u001b[1;33m\u001b[0m\u001b[1;33m\u001b[0m\u001b[0m\n\u001b[1;32m----> 4\u001b[1;33m     \u001b[0mall_urls\u001b[0m\u001b[1;33m.\u001b[0m\u001b[0mappend\u001b[0m\u001b[1;33m(\u001b[0m\u001b[0murls\u001b[0m\u001b[1;33m.\u001b[0m\u001b[0mhref\u001b[0m\u001b[1;33m)\u001b[0m\u001b[1;33m\u001b[0m\u001b[1;33m\u001b[0m\u001b[0m\n\u001b[0m",
      "\u001b[1;32mC:\\ProgramData\\Anaconda3\\lib\\site-packages\\bs4\\element.py\u001b[0m in \u001b[0;36m__getattr__\u001b[1;34m(self, key)\u001b[0m\n\u001b[0;32m   1804\u001b[0m \u001b[1;33m\u001b[0m\u001b[0m\n\u001b[0;32m   1805\u001b[0m     \u001b[1;32mdef\u001b[0m \u001b[0m__getattr__\u001b[0m\u001b[1;33m(\u001b[0m\u001b[0mself\u001b[0m\u001b[1;33m,\u001b[0m \u001b[0mkey\u001b[0m\u001b[1;33m)\u001b[0m\u001b[1;33m:\u001b[0m\u001b[1;33m\u001b[0m\u001b[1;33m\u001b[0m\u001b[0m\n\u001b[1;32m-> 1806\u001b[1;33m         raise AttributeError(\n\u001b[0m\u001b[0;32m   1807\u001b[0m             \u001b[1;34m\"ResultSet object has no attribute '%s'. You're probably treating a list of items like a single item. Did you call find_all() when you meant to call find()?\"\u001b[0m \u001b[1;33m%\u001b[0m \u001b[0mkey\u001b[0m\u001b[1;33m\u001b[0m\u001b[1;33m\u001b[0m\u001b[0m\n\u001b[0;32m   1808\u001b[0m         )\n",
      "\u001b[1;31mAttributeError\u001b[0m: ResultSet object has no attribute 'href'. You're probably treating a list of items like a single item. Did you call find_all() when you meant to call find()?"
     ]
    }
   ],
   "source": [
    "urls = soup.find_all('a', class_='yt-simple-endpoint style-scope ytd-grid-video-renderer')\n",
    "all_urls=[]\n",
    "for i in urls:\n",
    "    all_urls.append(urls.href)\n",
    "\n",
    "    ################# 수업시간관계상 포기 ######################"
   ]
  },
  {
   "cell_type": "code",
   "execution_count": null,
   "metadata": {},
   "outputs": [],
   "source": []
  }
 ],
 "metadata": {
  "kernelspec": {
   "display_name": "Python 3",
   "language": "python",
   "name": "python3"
  },
  "language_info": {
   "codemirror_mode": {
    "name": "ipython",
    "version": 3
   },
   "file_extension": ".py",
   "mimetype": "text/x-python",
   "name": "python",
   "nbconvert_exporter": "python",
   "pygments_lexer": "ipython3",
   "version": "3.8.5-final"
  }
 },
 "nbformat": 4,
 "nbformat_minor": 4
}