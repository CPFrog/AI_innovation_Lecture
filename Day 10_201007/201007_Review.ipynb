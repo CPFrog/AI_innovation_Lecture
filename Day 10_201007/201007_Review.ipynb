{
 "cells": [
  {
   "cell_type": "markdown",
   "metadata": {},
   "source": [
    "### 라이브러리를 불러올 때, import를 사용"
   ]
  },
  {
   "cell_type": "code",
   "execution_count": null,
   "metadata": {},
   "outputs": [],
   "source": [
    "import numpy as np\n",
    "import seaborn as sns\n",
    "import matplotlib.pyplot as plt\n",
    "import pandas as pd"
   ]
  },
  {
   "cell_type": "markdown",
   "metadata": {},
   "source": [
    "### np.linspace(a, b, c)\n",
    "* 간격이 동일한 a부터 b까지 범위 중 c개의 인수를 리스트로 생성\n",
    "### np.sin()\n",
    "* 어떤 값에 대한 sin 함수 값 출력\n",
    "\n",
    "### plt.plot()\n",
    "* 그래프 그리기\n",
    "\n",
    "### matplotlib의 기능\n",
    "* plt.legend() : 범례를 시각화 (label이 있어야 함)\n",
    "* plt.title() : 그래프에 제목 시각화.\n",
    "\n",
    "### seaborn\n",
    "* sns.load_dataset() : 데이터셋을 로드해줌.\n",
    "\n",
    "### 데이터셋을 pandas로 가져왔을 때\n",
    "* head(n=5), tail(n=5) : 데이터셋의 앞/뒤에서 n개만큼 가져옴\n",
    "* info() : 그 데이터셋에 대한 정보 표시 (행이름, 열이름, 데이터 수, 열의 자료형)\n",
    "* describe() : 그 데이터 셋에 대한 요약 (데이터 갯수, 평균, 표준편차, 사분위수, 최소, 최대값)\n",
    "* columns : 열 이름 확인\n",
    "* isnull().sum() : 결측치 갯수 확인."
   ]
  },
  {
   "cell_type": "code",
   "execution_count": null,
   "metadata": {},
   "outputs": [],
   "source": [
    "tips = sns.load_dataset('tips')"
   ]
  },
  {
   "cell_type": "code",
   "execution_count": null,
   "metadata": {},
   "outputs": [],
   "source": [
    "plt.figure(figsize=(8,6))\n",
    "sns.barplot(x='day', y='total_bill', data=tips)\n",
    "plt.title('bills per days')\n",
    "plt.show()"
   ]
  },
  {
   "cell_type": "code",
   "execution_count": null,
   "metadata": {},
   "outputs": [],
   "source": [
    "plt.figure(figsize=(8,6))\n",
    "sns.barplot(x='day', y='total_bill',hue='smoker', data=tips)\n",
    "plt.title('bills per days')\n",
    "plt.show()"
   ]
  },
  {
   "cell_type": "code",
   "execution_count": null,
   "metadata": {},
   "outputs": [],
   "source": [
    "plt.figure(figsize=(8,6))\n",
    "sns.barplot(x='day', y='tip',hue='sex', data=tips)\n",
    "plt.title('bills per days')\n",
    "plt.show()"
   ]
  }
 ],
 "metadata": {
  "kernelspec": {
   "display_name": "Python 3",
   "language": "python",
   "name": "python3"
  },
  "language_info": {
   "codemirror_mode": {
    "name": "ipython",
    "version": 3
   },
   "file_extension": ".py",
   "mimetype": "text/x-python",
   "name": "python",
   "nbconvert_exporter": "python",
   "pygments_lexer": "ipython3",
   "version": "3.8.3"
  }
 },
 "nbformat": 4,
 "nbformat_minor": 4
}