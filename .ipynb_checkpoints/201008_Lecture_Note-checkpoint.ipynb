{
 "cells": [
  {
   "cell_type": "code",
   "execution_count": 1,
   "metadata": {},
   "outputs": [
    {
     "data": {
      "text/plain": [
       "{1, 2, 3, 4, 5}"
      ]
     },
     "execution_count": 1,
     "metadata": {},
     "output_type": "execute_result"
    }
   ],
   "source": [
    "a=set([1,2,3,4,5,4]) # set은 중복된 값을 자동으로 제거해줌.\n",
    "a"
   ]
  },
  {
   "cell_type": "markdown",
   "metadata": {},
   "source": [
    "#### import pandas as pd  \n",
    "ㄴ 불필요한 요소까지 모두 불러오며, 경로 지정을 통한 간접사용\n",
    "#### from pandas import Series, DataFrame  \n",
    "ㄴ 필요한 요소만 지정해 불러올 수 있어 메모리 관리 측면에 이득, 직접 사용 가능"
   ]
  },
  {
   "cell_type": "code",
   "execution_count": 4,
   "metadata": {},
   "outputs": [],
   "source": [
    "from pandas import Series, DataFrame"
   ]
  },
  {
   "cell_type": "code",
   "execution_count": 5,
   "metadata": {},
   "outputs": [
    {
     "name": "stdout",
     "output_type": "stream",
     "text": [
      "0    1000\n",
      "1    2000\n",
      "2    3000\n",
      "3    4000\n",
      "4    5000\n",
      "dtype: int64\n"
     ]
    }
   ],
   "source": [
    "score = Series([1000,2000,3000,4000,5000])\n",
    "print(score)"
   ]
  },
  {
   "cell_type": "code",
   "execution_count": 6,
   "metadata": {},
   "outputs": [
    {
     "data": {
      "text/plain": [
       "4000"
      ]
     },
     "execution_count": 6,
     "metadata": {},
     "output_type": "execute_result"
    }
   ],
   "source": [
    "score[3]"
   ]
  },
  {
   "cell_type": "code",
   "execution_count": 8,
   "metadata": {},
   "outputs": [
    {
     "name": "stdout",
     "output_type": "stream",
     "text": [
      "2020-10-04    1000\n",
      "2020-10-05    2000\n",
      "2020-10-03    3000\n",
      "dtype: int64\n"
     ]
    }
   ],
   "source": [
    "score=Series([1000,2000,3000],\n",
    "            index=['2020-10-04','2020-10-05','2020-10-03'])\n",
    "print(score)"
   ]
  },
  {
   "cell_type": "code",
   "execution_count": 11,
   "metadata": {},
   "outputs": [
    {
     "data": {
      "text/plain": [
       "2020-10-04    1000\n",
       "2020-10-05    2000\n",
       "2020-10-03    3000\n",
       "dtype: int64"
      ]
     },
     "execution_count": 11,
     "metadata": {},
     "output_type": "execute_result"
    }
   ],
   "source": [
    "score['2020-10-04':'2020-10-03']"
   ]
  },
  {
   "cell_type": "code",
   "execution_count": 10,
   "metadata": {},
   "outputs": [
    {
     "name": "stdout",
     "output_type": "stream",
     "text": [
      "2020-10-04\n",
      "2020-10-05\n",
      "2020-10-03\n"
     ]
    }
   ],
   "source": [
    "for idx in score.index:\n",
    "    print(idx)"
   ]
  },
  {
   "cell_type": "code",
   "execution_count": 12,
   "metadata": {},
   "outputs": [
    {
     "name": "stdout",
     "output_type": "stream",
     "text": [
      "1000\n",
      "2000\n",
      "3000\n"
     ]
    }
   ],
   "source": [
    "for idx in score.values:\n",
    "    print(idx)"
   ]
  },
  {
   "cell_type": "code",
   "execution_count": 13,
   "metadata": {},
   "outputs": [
    {
     "name": "stdout",
     "output_type": "stream",
     "text": [
      "<class 'pandas.core.series.Series'>\n"
     ]
    }
   ],
   "source": [
    "print(type(score))"
   ]
  },
  {
   "cell_type": "code",
   "execution_count": 14,
   "metadata": {},
   "outputs": [
    {
     "name": "stdout",
     "output_type": "stream",
     "text": [
      "<class 'numpy.ndarray'>\n"
     ]
    }
   ],
   "source": [
    "print(type(score.values))"
   ]
  },
  {
   "cell_type": "code",
   "execution_count": 15,
   "metadata": {},
   "outputs": [
    {
     "data": {
      "text/html": [
       "<div>\n",
       "<style scoped>\n",
       "    .dataframe tbody tr th:only-of-type {\n",
       "        vertical-align: middle;\n",
       "    }\n",
       "\n",
       "    .dataframe tbody tr th {\n",
       "        vertical-align: top;\n",
       "    }\n",
       "\n",
       "    .dataframe thead th {\n",
       "        text-align: right;\n",
       "    }\n",
       "</style>\n",
       "<table border=\"1\" class=\"dataframe\">\n",
       "  <thead>\n",
       "    <tr style=\"text-align: right;\">\n",
       "      <th></th>\n",
       "      <th>col1</th>\n",
       "      <th>col2</th>\n",
       "      <th>col3</th>\n",
       "    </tr>\n",
       "  </thead>\n",
       "  <tbody>\n",
       "    <tr>\n",
       "      <th>0</th>\n",
       "      <td>1</td>\n",
       "      <td>10</td>\n",
       "      <td>A</td>\n",
       "    </tr>\n",
       "    <tr>\n",
       "      <th>1</th>\n",
       "      <td>2</td>\n",
       "      <td>20</td>\n",
       "      <td>B</td>\n",
       "    </tr>\n",
       "    <tr>\n",
       "      <th>2</th>\n",
       "      <td>3</td>\n",
       "      <td>30</td>\n",
       "      <td>C</td>\n",
       "    </tr>\n",
       "    <tr>\n",
       "      <th>3</th>\n",
       "      <td>4</td>\n",
       "      <td>40</td>\n",
       "      <td>D</td>\n",
       "    </tr>\n",
       "  </tbody>\n",
       "</table>\n",
       "</div>"
      ],
      "text/plain": [
       "   col1  col2 col3\n",
       "0     1    10    A\n",
       "1     2    20    B\n",
       "2     3    30    C\n",
       "3     4    40    D"
      ]
     },
     "execution_count": 15,
     "metadata": {},
     "output_type": "execute_result"
    }
   ],
   "source": [
    "dat={ 'col1':[1,2,3,4],\n",
    "    'col2' : [10,20,30,40],\n",
    "    'col3' : ['A','B','C','D']}\n",
    "df=DataFrame(dat)\n",
    "df"
   ]
  },
  {
   "cell_type": "code",
   "execution_count": 22,
   "metadata": {},
   "outputs": [
    {
     "name": "stdout",
     "output_type": "stream",
     "text": [
      "<class 'pandas.core.series.Series'>\n",
      "2020-10-01    1000.0\n",
      "2020-10-02    2000.0\n",
      "2020-10-03    3000.0\n",
      "2020-10-04    1000.0\n",
      "2020-10-05    2000.0\n",
      "2020-10-06    3000.0\n",
      "dtype: float64\n"
     ]
    }
   ],
   "source": [
    "score1=Series([1000,2000,3000],\n",
    "            index=['2020-10-04','2020-10-05','2020-10-03'])\n",
    "score2=Series([1000,2000,3000],\n",
    "            index=['2020-10-01','2020-10-02','2020-10-06'])\n",
    "print(type(score1))\n",
    "print(score1.add(score2,fill_value=0))"
   ]
  },
  {
   "cell_type": "code",
   "execution_count": 23,
   "metadata": {},
   "outputs": [
    {
     "name": "stdout",
     "output_type": "stream",
     "text": [
      "pandas 버전 :  1.0.5\n"
     ]
    }
   ],
   "source": [
    "print('pandas 버전 : ', pd.__version__)"
   ]
  },
  {
   "cell_type": "markdown",
   "metadata": {},
   "source": [
    "### 실습 2-1 시리즈 만들어보기\n",
    "* 5일간의 걸음 수를 시리즈 자료형으로 만들어보자."
   ]
  },
  {
   "cell_type": "code",
   "execution_count": 25,
   "metadata": {},
   "outputs": [
    {
     "name": "stdout",
     "output_type": "stream",
     "text": [
      "2020.10.03.    6205\n",
      "2020.10.04.    5430\n",
      "2020.10.05.    9263\n",
      "2020.10.06.    3470\n",
      "2020.10.07.    8464\n",
      "dtype: int64\n"
     ]
    }
   ],
   "source": [
    "walks=Series([6205, 5430, 9263, 3470, 8464],\n",
    "            index=['2020.10.03.','2020.10.04.','2020.10.05.','2020.10.06.','2020.10.07.'])\n",
    "print(walks)"
   ]
  },
  {
   "cell_type": "code",
   "execution_count": 29,
   "metadata": {},
   "outputs": [
    {
     "name": "stdout",
     "output_type": "stream",
     "text": [
      "Index(['2020.10.03.', '2020.10.04.', '2020.10.05.', '2020.10.06.',\n",
      "       '2020.10.07.'],\n",
      "      dtype='object')\n"
     ]
    }
   ],
   "source": [
    "print(walks.index)"
   ]
  },
  {
   "cell_type": "code",
   "execution_count": 30,
   "metadata": {},
   "outputs": [
    {
     "name": "stdout",
     "output_type": "stream",
     "text": [
      "[6205 5430 9263 3470 8464]\n"
     ]
    }
   ],
   "source": [
    "print(walks.values)"
   ]
  },
  {
   "cell_type": "code",
   "execution_count": 31,
   "metadata": {},
   "outputs": [
    {
     "name": "stdout",
     "output_type": "stream",
     "text": [
      "int64\n"
     ]
    }
   ],
   "source": [
    "print(walks.dtype)"
   ]
  },
  {
   "cell_type": "code",
   "execution_count": null,
   "metadata": {},
   "outputs": [],
   "source": []
  }
 ],
 "metadata": {
  "kernelspec": {
   "display_name": "Python 3",
   "language": "python",
   "name": "python3"
  },
  "language_info": {
   "codemirror_mode": {
    "name": "ipython",
    "version": 3
   },
   "file_extension": ".py",
   "mimetype": "text/x-python",
   "name": "python",
   "nbconvert_exporter": "python",
   "pygments_lexer": "ipython3",
   "version": "3.8.3"
  }
 },
 "nbformat": 4,
 "nbformat_minor": 4
}
