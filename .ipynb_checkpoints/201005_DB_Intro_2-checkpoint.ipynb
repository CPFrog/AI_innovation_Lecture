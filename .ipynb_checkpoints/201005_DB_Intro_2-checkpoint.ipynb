{
 "cells": [
  {
   "cell_type": "code",
   "execution_count": 1,
   "metadata": {},
   "outputs": [],
   "source": [
    "import sqlite3"
   ]
  },
  {
   "cell_type": "code",
   "execution_count": 2,
   "metadata": {},
   "outputs": [
    {
     "data": {
      "text/plain": [
       "<sqlite3.Connection at 0x1ef47d407b0>"
      ]
     },
     "execution_count": 2,
     "metadata": {},
     "output_type": "execute_result"
    }
   ],
   "source": [
    "conn=sqlite3.connect('student.db')\n",
    "conn"
   ]
  },
  {
   "cell_type": "code",
   "execution_count": 3,
   "metadata": {},
   "outputs": [],
   "source": [
    "sql='''\n",
    " CREATE TABLE student\n",
    " (\n",
    " name text,\n",
    " no integer,\n",
    " addr text,\n",
    " gender text\n",
    " )\n",
    "'''\n",
    "\n",
    "c = conn.cursor()\n",
    "c.execute(\"DROP TABLE IF EXISTS student\")\n",
    "c.execute(sql)\n",
    "c.close()"
   ]
  },
  {
   "cell_type": "markdown",
   "metadata": {},
   "source": [
    "## 여러개의 데이터를 넣고 조회하기"
   ]
  },
  {
   "cell_type": "code",
   "execution_count": 5,
   "metadata": {},
   "outputs": [],
   "source": [
    "sql='''\n",
    " INSERT INTO student VALUES\n",
    " (?, ?, ?, ?)\n",
    "'''\n",
    "\n",
    "c=conn.cursor()\n",
    "c.execute(sql, ('학생2', 2, '안양', 'female'))\n",
    "\n",
    "## 여러개 데이터 넣기\n",
    "data=[\n",
    "    ('학생3', 3, '경기도', 'female'), \n",
    "    ('학생4', 4, '춘천', 'female'), \n",
    "    ('학생5', 5, '대구', 'male')\n",
    "]\n",
    "\n",
    "c.executemany(sql, data)\n",
    "c.close()\n",
    "conn.commit()"
   ]
  },
  {
   "cell_type": "code",
   "execution_count": 6,
   "metadata": {},
   "outputs": [
    {
     "name": "stdout",
     "output_type": "stream",
     "text": [
      "('학생2', 2, '안양', 'female')\n"
     ]
    }
   ],
   "source": [
    "sql='select * from student'\n",
    "c=conn.cursor()\n",
    "c.execute(sql)\n",
    "\n",
    "print(c.fetchone())"
   ]
  },
  {
   "cell_type": "code",
   "execution_count": 7,
   "metadata": {},
   "outputs": [
    {
     "name": "stdout",
     "output_type": "stream",
     "text": [
      "('학생2', 2, '안양', 'female')\n",
      "('학생3', 3, '경기도', 'female')\n",
      "('학생4', 4, '춘천', 'female')\n",
      "('학생5', 5, '대구', 'male')\n"
     ]
    }
   ],
   "source": [
    "for s in c.fetchmany(10):\n",
    "    print(s)"
   ]
  },
  {
   "cell_type": "markdown",
   "metadata": {},
   "source": [
    "## 실습 3-1\n",
    "* student1 안에 데이터 7개 넣고,\n",
    "  1. fetchmany(10)를 이용해 검색\n",
    "  2. fetchall()을 이용해 검색"
   ]
  },
  {
   "cell_type": "code",
   "execution_count": 29,
   "metadata": {},
   "outputs": [],
   "source": [
    "sql='''\n",
    " INSERT INTO student VALUES\n",
    " (?, ?, ?, ?)\n",
    "'''\n",
    "\n",
    "c=conn.cursor()\n",
    "\n",
    "data=[\n",
    "    ('학생6', 6, '서울', 'male'), \n",
    "    ('학생7', 7, '대전', 'female'), \n",
    "    ('학생8', 8, '인천', 'male'),\n",
    "    ('학생9', 9, '강원', 'female'),\n",
    "    ('학생10', 10, '경남', 'male'),\n",
    "    ('학생11', 11, '경북', 'female'),\n",
    "    ('학생12', 12, '전북', 'male')\n",
    "]\n",
    "\n",
    "c.executemany(sql, data)\n",
    "c.close()\n",
    "conn.commit()"
   ]
  },
  {
   "cell_type": "code",
   "execution_count": 30,
   "metadata": {},
   "outputs": [
    {
     "name": "stdout",
     "output_type": "stream",
     "text": [
      "('학생2', 2, '안양', 'female')\n",
      "('학생2', 2, '안양', 'female')\n",
      "('학생3', 3, '경기도', 'female')\n",
      "('학생4', 4, '춘천', 'female')\n",
      "('학생5', 5, '대구', 'male')\n",
      "('학생6', 6, '서울', 'male')\n",
      "('학생7', 7, '대전', 'female')\n",
      "('학생8', 8, '인천', 'male')\n",
      "('학생9', 9, '강원', 'female')\n",
      "('학생10', 10, '경남', 'male')\n"
     ]
    }
   ],
   "source": [
    "c=conn.cursor()\n",
    "sql='select * from student'\n",
    "c.execute(sql)\n",
    "for s in c.fetchmany(10):\n",
    "    print(s)"
   ]
  }
 ],
 "metadata": {
  "kernelspec": {
   "display_name": "Python 3",
   "language": "python",
   "name": "python3"
  },
  "language_info": {
   "codemirror_mode": {
    "name": "ipython",
    "version": 3
   },
   "file_extension": ".py",
   "mimetype": "text/x-python",
   "name": "python",
   "nbconvert_exporter": "python",
   "pygments_lexer": "ipython3",
   "version": "3.8.3"
  }
 },
 "nbformat": 4,
 "nbformat_minor": 4
}
