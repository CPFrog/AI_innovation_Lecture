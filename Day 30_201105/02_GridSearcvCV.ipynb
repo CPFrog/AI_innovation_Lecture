{
 "metadata": {
  "language_info": {
   "codemirror_mode": {
    "name": "ipython",
    "version": 3
   },
   "file_extension": ".py",
   "mimetype": "text/x-python",
   "name": "python",
   "nbconvert_exporter": "python",
   "pygments_lexer": "ipython3",
   "version": "3.8.5-final"
  },
  "orig_nbformat": 2,
  "kernelspec": {
   "name": "python3",
   "display_name": "Python 3"
  }
 },
 "nbformat": 4,
 "nbformat_minor": 2,
 "cells": [
  {
   "cell_type": "code",
   "execution_count": null,
   "metadata": {},
   "outputs": [],
   "source": [
    "import os, warnings\n",
    "import numpy as np\n",
    "# 경고 메시지 무시하거나 숨길때(ignore), 다시보이게(default)\n",
    "# warnings.filterwarnings(action='default')\n",
    "warnings.filterwarnings(action='ignore')"
   ]
  },
  {
   "cell_type": "code",
   "execution_count": null,
   "metadata": {},
   "outputs": [],
   "source": [
    "from sklearn.model_selection import cross_val_score\n",
    "from sklearn.datasets import load_iris\n",
    "from sklearn.linear_model import LogisticRegression\n",
    "\n",
    "from sklearn.model_selection import train_test_split\n",
    "import mglearn\n",
    "from sklearn.model_selection import KFold\n",
    "from sklearn.svm import SVC"
   ]
  },
  {
   "cell_type": "code",
   "execution_count": null,
   "metadata": {},
   "outputs": [],
   "source": [
    "iris = load_iris() \n",
    "logreg = LogisticRegression()   # 모델 선택\n"
   ]
  },
  {
   "cell_type": "code",
   "execution_count": null,
   "metadata": {},
   "outputs": [],
   "source": [
    "# 데이터 셋 나누기\n",
    "X = iris.data\n",
    "y = iris.target\n",
    "\n",
    "X_train, X_test, y_train, y_test = train_test_split(X, y,random_state=0)"
   ]
  },
  {
   "cell_type": "code",
   "execution_count": null,
   "metadata": {},
   "outputs": [],
   "source": [
    "best_score = 0\n",
    "\n",
    "gamma_par = [0.001, 0.01, 0.1, 1, 10, 100]\n",
    "C_par = [0.001, 0.01, 0.1, 1, 10, 100]\n",
    "\n",
    "for par_g in gamma_par:\n",
    "    for par_c in C_par:\n",
    "        svm = SVC(gamma=par_g, C=par_c)\n",
    "        svm.fit(X_train, y_train)\n",
    "\n",
    "        # 테스트 세트로 SVC 평가\n",
    "        score = svm.score(X_test, y_test)\n",
    "\n",
    "        if score>best_score:\n",
    "            best_score=score\n",
    "            best_parameters={'C':par_c,'gamma':par_g}\n",
    "            print(\"gamma : {}, C :{}  score : {}\".format(par_g, par_c, score))"
   ]
  },
  {
   "cell_type": "code",
   "execution_count": null,
   "metadata": {},
   "outputs": [],
   "source": [
    "from sklearn.svm import SVC\n",
    "\n",
    "# 학습(훈련 + 검증), 테스트로 분할\n",
    "X_trainval,X_test,y_trainval,y_test=train_test_split(X,y,random_state=0)"
   ]
  },
  {
   "cell_type": "code",
   "execution_count": null,
   "metadata": {},
   "outputs": [],
   "source": [
    "X_train, X_valid, y_train, y_valid = train_test_split(X_trainval, y_trainval, random_state=0)"
   ]
  },
  {
   "cell_type": "code",
   "execution_count": null,
   "metadata": {},
   "outputs": [],
   "source": [
    "print('훈련세트: {}, 검증세트: {}, 테스트 세트: {}'.format(X_train.shape, X_valid.shape, X_test.shape))"
   ]
  },
  {
   "cell_type": "code",
   "execution_count": null,
   "metadata": {},
   "outputs": [],
   "source": [
    "best_score = 0\n",
    "\n",
    "gamma_par = [0.001, 0.01, 0.1, 1, 10, 100]\n",
    "C_par = [0.001, 0.01, 0.1, 1, 10, 100]\n",
    "\n",
    "for par_g in gamma_par:\n",
    "    for par_c in C_par:\n",
    "        svm = SVC(gamma=par_g, C=par_c)\n",
    "        svm.fit(X_train, y_train)\n",
    "\n",
    "        # 검증 세트로 SVC 평가\n",
    "        score = svm.score(X_valid, y_valid)\n",
    "\n",
    "        if score>best_score:\n",
    "            best_score=score\n",
    "            best_parameters={'C':par_c,'gamma':par_g}\n",
    "            print(\"gamma : {}, C :{}  score : {}\".format(par_g, par_c, score))"
   ]
  },
  {
   "cell_type": "code",
   "execution_count": null,
   "metadata": {},
   "outputs": [],
   "source": [
    "### 최종 평가\n",
    "svm=SVC(**best_parameters)\n",
    "svm.fit(X_trainval, y_trainval)\n",
    "test_score=svm.score(X_test, y_test)\n",
    "\n",
    "print('최적의 매개변수 : {}'.format(best_parameters))\n",
    "print('최적의 매개변수(테스트) 평가 점수 : {:.2f}'.format(test_score))"
   ]
  },
  {
   "cell_type": "code",
   "execution_count": null,
   "metadata": {},
   "outputs": [],
   "source": [
    "best_score = 0\n",
    "\n",
    "gamma_par = [0.001, 0.01, 0.1, 1, 10, 100]\n",
    "C_par = [0.001, 0.01, 0.1, 1, 10, 100]\n",
    "\n",
    "for par_g in gamma_par:\n",
    "    for par_c in C_par:\n",
    "        svm = SVC(gamma=par_g, C=par_c)\n",
    "        svm.fit(X_train, y_train)\n",
    "\n",
    "        # 검증 세트로 SVC 평가 *****\n",
    "        scores = cross_val_score(svm,X_trainval,y_trainval,cv=5)\n",
    "        score=np.mean(scores)\n",
    "\n",
    "\n",
    "        if score > best_score:\n",
    "            best_score = score\n",
    "            best_parameters = {'C':par_c, 'gamma':par_g}\n",
    "            print(\"gamma : {}, C :{}  score : {}\".format(par_g, par_c, score)) "
   ]
  },
  {
   "cell_type": "code",
   "execution_count": null,
   "metadata": {},
   "outputs": [],
   "source": [
    "### 최종 평가.\n",
    "svm = SVC(**best_parameters)\n",
    "svm.fit(X_trainval, y_trainval)\n",
    "test_score = svm.score(X_test, y_test)\n",
    "\n",
    "print(\"검증 세트에서 최고 점수 : {:.2f}\".format(best_score))\n",
    "print(\"최적의 매개변수 : {} \".format(best_parameters))\n",
    "print(\"최적의 매개변수(테스트) 평가 점수 : {:.2f}\".format(test_score))"
   ]
  },
  {
   "cell_type": "code",
   "execution_count": null,
   "metadata": {},
   "outputs": [],
   "source": [
    "mglearn.plots.plot_cross_val_selection()"
   ]
  },
  {
   "cell_type": "code",
   "execution_count": null,
   "metadata": {},
   "outputs": [],
   "source": [
    "mglearn.plots.plot_grid_search_overview()"
   ]
  },
  {
   "source": [
    "### GridSearchCV를 사용한 최적의 매개변수 찾기"
   ],
   "cell_type": "markdown",
   "metadata": {}
  },
  {
   "cell_type": "code",
   "execution_count": null,
   "metadata": {},
   "outputs": [],
   "source": [
    "from sklearn.model_selection import GridSearchCV\n",
    "from sklearn.svm import SVC\n",
    "\n",
    "grid_search=GridSearchCV(SVC(), param_grid,cv=5,return_train_score=True)\n",
    "print(grid_search)"
   ]
  },
  {
   "cell_type": "code",
   "execution_count": null,
   "metadata": {},
   "outputs": [],
   "source": [
    "param_grid = {'C':[0.001, 0.01, 0.1, 1, 10, 100],\n",
    "              'gamma':[0.001, 0.01, 0.1, 1, 10, 100] }"
   ]
  },
  {
   "cell_type": "code",
   "execution_count": null,
   "metadata": {},
   "outputs": [],
   "source": [
    "X_train,X_test,y_train,y_test=train_test_split(iris.data, iris.target, random_state=0)"
   ]
  },
  {
   "cell_type": "code",
   "execution_count": null,
   "metadata": {},
   "outputs": [],
   "source": [
    "grid_search.fit(X_train, y_train)\n",
    "grid_search.score(X_test, y_test)"
   ]
  },
  {
   "cell_type": "code",
   "execution_count": null,
   "metadata": {},
   "outputs": [],
   "source": [
    "print('최적 매개 변수 : ',grid_search.best_params_)\n",
    "print('최고 교차 검증 점수 : {:.2f}'.format(grid_search.best_score_))\n",
    "\n",
    "#최고 성능 모델 확인\n",
    "print('최고 성능 모델\\n',grid_search.best_estimator_)"
   ]
  },
  {
   "source": [
    "### GridSearchCV를 이용해 확인한 매개변수 결과값 전체를 확인해보자"
   ],
   "cell_type": "markdown",
   "metadata": {}
  },
  {
   "cell_type": "code",
   "execution_count": null,
   "metadata": {},
   "outputs": [],
   "source": [
    "import pandas as pd "
   ]
  },
  {
   "cell_type": "code",
   "execution_count": null,
   "metadata": {},
   "outputs": [],
   "source": [
    "pd.set_option('display.max_columns',None) #화면에 출력하는 열 수 제한 해제\n",
    "\n",
    "results = pd.DataFrame(grid_search.cv_results_)\n",
    "results.shape\n"
   ]
  },
  {
   "cell_type": "code",
   "execution_count": null,
   "metadata": {},
   "outputs": [],
   "source": [
    "display(np.transpose(results.head() ))"
   ]
  },
  {
   "cell_type": "code",
   "execution_count": null,
   "metadata": {},
   "outputs": [],
   "source": [
    "scores = np.array(results.mean_test_score).reshape(6,6)\n",
    "\n",
    "# 교차 검증 평균 점수 히트맵 그래프\n",
    "mglearn.tools.heatmap(scores, \n",
    "                      xlabel='gamma', xticklabels=param_grid['gamma'],\n",
    "                      ylabel='C', yticklabels=param_grid['C'],\n",
    "                      cmap='viridis'            \n",
    "                      )"
   ]
  },
  {
   "source": [
    "### 매개변수의 검색 범위가 적절하지 않다면"
   ],
   "cell_type": "markdown",
   "metadata": {}
  },
  {
   "cell_type": "code",
   "execution_count": null,
   "metadata": {},
   "outputs": [],
   "source": [
    "import matplotlib.pyplot as plt"
   ]
  },
  {
   "cell_type": "code",
   "execution_count": null,
   "metadata": {},
   "outputs": [],
   "source": [
    "fig, axes = plt.subplots(1,3, figsize=(13,5))\n",
    "\n",
    "param_grid_linear = {'C':np.linspace(1.0,1.1,6),\n",
    "                     'gamma': np.linspace(1.0,1.1,6) }\n",
    "\n",
    "# C의 값 설정이 잘못됨. --> 감마에 비해 C의 범위를 너무 작게 잡음.\n",
    "param_grid_one_log = {'C':np.linspace(1,2,6), \n",
    "                     'gamma': np.logspace(-3,2,6) }\n",
    "\n",
    "param_grid_range = {'C': np.logspace(-3,2,6),\n",
    "                    'gamma': np.logspace(-7,-2,6) }\n",
    "\n",
    "for param_grid, ax in zip([param_grid_linear,\n",
    "                            param_grid_one_log,\n",
    "                            param_grid_range], axes):\n",
    "    grid_search = GridSearchCV(SVC(), param_grid, cv=5)\n",
    "    grid_search.fit(X_train, y_train)\n",
    "    scores = grid_search.cv_results_['mean_test_score'].reshape(6,6)\n",
    "    \n",
    "\n",
    "    # 교차 검증 평균 점수 히트맵 그래프\n",
    "    scores_image = mglearn.tools.heatmap(scores, \n",
    "                      xlabel='gamma', xticklabels=param_grid['gamma'],\n",
    "                      ylabel='C', yticklabels=param_grid['C'],\n",
    "                      cmap='viridis', ax=ax                                       \n",
    "                      )"
   ]
  },
  {
   "source": [
    "#### 적절한 방법\n",
    "* 최초 값을 매우 극단적으로 주고, 정확도에 따라 매개변수값 변경."
   ],
   "cell_type": "markdown",
   "metadata": {}
  }
 ]
}