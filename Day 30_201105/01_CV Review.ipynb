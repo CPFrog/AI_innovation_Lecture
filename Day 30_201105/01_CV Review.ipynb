{
 "metadata": {
  "language_info": {
   "codemirror_mode": {
    "name": "ipython",
    "version": 3
   },
   "file_extension": ".py",
   "mimetype": "text/x-python",
   "name": "python",
   "nbconvert_exporter": "python",
   "pygments_lexer": "ipython3",
   "version": "3.8.5-final"
  },
  "orig_nbformat": 2,
  "kernelspec": {
   "name": "python3",
   "display_name": "Python 3"
  }
 },
 "nbformat": 4,
 "nbformat_minor": 2,
 "cells": [
  {
   "cell_type": "code",
   "execution_count": 1,
   "metadata": {},
   "outputs": [],
   "source": [
    "import os, warnings\n",
    "import numpy as np\n",
    "# 경고 메시지 무시하거나 숨길때(ignore), 다시보이게(default)\n",
    "# warnings.filterwarnings(action='default')\n",
    "warnings.filterwarnings(action='ignore')"
   ]
  },
  {
   "cell_type": "code",
   "execution_count": 2,
   "metadata": {},
   "outputs": [],
   "source": [
    "import mglearn"
   ]
  },
  {
   "cell_type": "code",
   "execution_count": 3,
   "metadata": {},
   "outputs": [
    {
     "output_type": "display_data",
     "data": {
      "text/plain": "<Figure size 864x144 with 1 Axes>",
      "image/svg+xml": "<?xml version=\"1.0\" encoding=\"utf-8\" standalone=\"no\"?>\r\n<!DOCTYPE svg PUBLIC \"-//W3C//DTD SVG 1.1//EN\"\r\n  \"http://www.w3.org/Graphics/SVG/1.1/DTD/svg11.dtd\">\r\n<!-- Created with matplotlib (https://matplotlib.org/) -->\r\n<svg height=\"168.594375pt\" version=\"1.1\" viewBox=\"0 0 871.026875 168.594375\" width=\"871.026875pt\" xmlns=\"http://www.w3.org/2000/svg\" xmlns:xlink=\"http://www.w3.org/1999/xlink\">\r\n <metadata>\r\n  <rdf:RDF xmlns:cc=\"http://creativecommons.org/ns#\" xmlns:dc=\"http://purl.org/dc/elements/1.1/\" xmlns:rdf=\"http://www.w3.org/1999/02/22-rdf-syntax-ns#\">\r\n   <cc:Work>\r\n    <dc:type rdf:resource=\"http://purl.org/dc/dcmitype/StillImage\"/>\r\n    <dc:date>2020-11-05T09:10:16.545926</dc:date>\r\n    <dc:format>image/svg+xml</dc:format>\r\n    <dc:creator>\r\n     <cc:Agent>\r\n      <dc:title>Matplotlib v3.3.1, https://matplotlib.org/</dc:title>\r\n     </cc:Agent>\r\n    </dc:creator>\r\n   </cc:Work>\r\n  </rdf:RDF>\r\n </metadata>\r\n <defs>\r\n  <style type=\"text/css\">*{stroke-linecap:butt;stroke-linejoin:round;}</style>\r\n </defs>\r\n <g id=\"figure_1\">\r\n  <g id=\"patch_1\">\r\n   <path d=\"M 0 168.594375 \r\nL 871.026875 168.594375 \r\nL 871.026875 0 \r\nL 0 0 \r\nz\r\n\" style=\"fill:none;\"/>\r\n  </g>\r\n  <g id=\"axes_1\">\r\n   <g id=\"patch_2\">\r\n    <path clip-path=\"url(#pde447c37c4)\" d=\"M 59.592187 27.259943 \r\nL 185.786034 27.259943 \r\nL 185.786034 40.151643 \r\nL 59.592187 40.151643 \r\nz\r\n\" style=\"fill:url(#h700bad3c64);stroke:#000000;stroke-linejoin:miter;\"/>\r\n   </g>\r\n   <g id=\"patch_3\">\r\n    <path clip-path=\"url(#pde447c37c4)\" d=\"M 59.592187 48.746109 \r\nL 185.786034 48.746109 \r\nL 185.786034 61.637809 \r\nL 59.592187 61.637809 \r\nz\r\n\" style=\"fill:url(#h9e68ae0c39);stroke:#000000;stroke-linejoin:miter;\"/>\r\n   </g>\r\n   <g id=\"patch_4\">\r\n    <path clip-path=\"url(#pde447c37c4)\" d=\"M 59.592187 70.232275 \r\nL 185.786034 70.232275 \r\nL 185.786034 83.123975 \r\nL 59.592187 83.123975 \r\nz\r\n\" style=\"fill:url(#h9e68ae0c39);stroke:#000000;stroke-linejoin:miter;\"/>\r\n   </g>\r\n   <g id=\"patch_5\">\r\n    <path clip-path=\"url(#pde447c37c4)\" d=\"M 59.592187 91.718441 \r\nL 185.786034 91.718441 \r\nL 185.786034 104.610141 \r\nL 59.592187 104.610141 \r\nz\r\n\" style=\"fill:url(#h9e68ae0c39);stroke:#000000;stroke-linejoin:miter;\"/>\r\n   </g>\r\n   <g id=\"patch_6\">\r\n    <path clip-path=\"url(#pde447c37c4)\" d=\"M 59.592187 113.204607 \r\nL 185.786034 113.204607 \r\nL 185.786034 126.096307 \r\nL 59.592187 126.096307 \r\nz\r\n\" style=\"fill:url(#h9e68ae0c39);stroke:#000000;stroke-linejoin:miter;\"/>\r\n   </g>\r\n   <g id=\"patch_7\">\r\n    <path clip-path=\"url(#pde447c37c4)\" d=\"M 188.361418 27.259943 \r\nL 314.555264 27.259943 \r\nL 314.555264 40.151643 \r\nL 188.361418 40.151643 \r\nz\r\n\" style=\"fill:url(#h9e68ae0c39);stroke:#000000;stroke-linejoin:miter;\"/>\r\n   </g>\r\n   <g id=\"patch_8\">\r\n    <path clip-path=\"url(#pde447c37c4)\" d=\"M 188.361418 48.746109 \r\nL 314.555264 48.746109 \r\nL 314.555264 61.637809 \r\nL 188.361418 61.637809 \r\nz\r\n\" style=\"fill:url(#h700bad3c64);stroke:#000000;stroke-linejoin:miter;\"/>\r\n   </g>\r\n   <g id=\"patch_9\">\r\n    <path clip-path=\"url(#pde447c37c4)\" d=\"M 188.361418 70.232275 \r\nL 314.555264 70.232275 \r\nL 314.555264 83.123975 \r\nL 188.361418 83.123975 \r\nz\r\n\" style=\"fill:url(#h9e68ae0c39);stroke:#000000;stroke-linejoin:miter;\"/>\r\n   </g>\r\n   <g id=\"patch_10\">\r\n    <path clip-path=\"url(#pde447c37c4)\" d=\"M 188.361418 91.718441 \r\nL 314.555264 91.718441 \r\nL 314.555264 104.610141 \r\nL 188.361418 104.610141 \r\nz\r\n\" style=\"fill:url(#h9e68ae0c39);stroke:#000000;stroke-linejoin:miter;\"/>\r\n   </g>\r\n   <g id=\"patch_11\">\r\n    <path clip-path=\"url(#pde447c37c4)\" d=\"M 188.361418 113.204607 \r\nL 314.555264 113.204607 \r\nL 314.555264 126.096307 \r\nL 188.361418 126.096307 \r\nz\r\n\" style=\"fill:url(#h9e68ae0c39);stroke:#000000;stroke-linejoin:miter;\"/>\r\n   </g>\r\n   <g id=\"patch_12\">\r\n    <path clip-path=\"url(#pde447c37c4)\" d=\"M 317.130649 27.259943 \r\nL 443.324495 27.259943 \r\nL 443.324495 40.151643 \r\nL 317.130649 40.151643 \r\nz\r\n\" style=\"fill:url(#h9e68ae0c39);stroke:#000000;stroke-linejoin:miter;\"/>\r\n   </g>\r\n   <g id=\"patch_13\">\r\n    <path clip-path=\"url(#pde447c37c4)\" d=\"M 317.130649 48.746109 \r\nL 443.324495 48.746109 \r\nL 443.324495 61.637809 \r\nL 317.130649 61.637809 \r\nz\r\n\" style=\"fill:url(#h9e68ae0c39);stroke:#000000;stroke-linejoin:miter;\"/>\r\n   </g>\r\n   <g id=\"patch_14\">\r\n    <path clip-path=\"url(#pde447c37c4)\" d=\"M 317.130649 70.232275 \r\nL 443.324495 70.232275 \r\nL 443.324495 83.123975 \r\nL 317.130649 83.123975 \r\nz\r\n\" style=\"fill:url(#h700bad3c64);stroke:#000000;stroke-linejoin:miter;\"/>\r\n   </g>\r\n   <g id=\"patch_15\">\r\n    <path clip-path=\"url(#pde447c37c4)\" d=\"M 317.130649 91.718441 \r\nL 443.324495 91.718441 \r\nL 443.324495 104.610141 \r\nL 317.130649 104.610141 \r\nz\r\n\" style=\"fill:url(#h9e68ae0c39);stroke:#000000;stroke-linejoin:miter;\"/>\r\n   </g>\r\n   <g id=\"patch_16\">\r\n    <path clip-path=\"url(#pde447c37c4)\" d=\"M 317.130649 113.204607 \r\nL 443.324495 113.204607 \r\nL 443.324495 126.096307 \r\nL 317.130649 126.096307 \r\nz\r\n\" style=\"fill:url(#h9e68ae0c39);stroke:#000000;stroke-linejoin:miter;\"/>\r\n   </g>\r\n   <g id=\"patch_17\">\r\n    <path clip-path=\"url(#pde447c37c4)\" d=\"M 445.89988 27.259943 \r\nL 572.093726 27.259943 \r\nL 572.093726 40.151643 \r\nL 445.89988 40.151643 \r\nz\r\n\" style=\"fill:url(#h9e68ae0c39);stroke:#000000;stroke-linejoin:miter;\"/>\r\n   </g>\r\n   <g id=\"patch_18\">\r\n    <path clip-path=\"url(#pde447c37c4)\" d=\"M 445.89988 48.746109 \r\nL 572.093726 48.746109 \r\nL 572.093726 61.637809 \r\nL 445.89988 61.637809 \r\nz\r\n\" style=\"fill:url(#h9e68ae0c39);stroke:#000000;stroke-linejoin:miter;\"/>\r\n   </g>\r\n   <g id=\"patch_19\">\r\n    <path clip-path=\"url(#pde447c37c4)\" d=\"M 445.89988 70.232275 \r\nL 572.093726 70.232275 \r\nL 572.093726 83.123975 \r\nL 445.89988 83.123975 \r\nz\r\n\" style=\"fill:url(#h9e68ae0c39);stroke:#000000;stroke-linejoin:miter;\"/>\r\n   </g>\r\n   <g id=\"patch_20\">\r\n    <path clip-path=\"url(#pde447c37c4)\" d=\"M 445.89988 91.718441 \r\nL 572.093726 91.718441 \r\nL 572.093726 104.610141 \r\nL 445.89988 104.610141 \r\nz\r\n\" style=\"fill:url(#h700bad3c64);stroke:#000000;stroke-linejoin:miter;\"/>\r\n   </g>\r\n   <g id=\"patch_21\">\r\n    <path clip-path=\"url(#pde447c37c4)\" d=\"M 445.89988 113.204607 \r\nL 572.093726 113.204607 \r\nL 572.093726 126.096307 \r\nL 445.89988 126.096307 \r\nz\r\n\" style=\"fill:url(#h9e68ae0c39);stroke:#000000;stroke-linejoin:miter;\"/>\r\n   </g>\r\n   <g id=\"patch_22\">\r\n    <path clip-path=\"url(#pde447c37c4)\" d=\"M 574.669111 27.259943 \r\nL 700.862957 27.259943 \r\nL 700.862957 40.151643 \r\nL 574.669111 40.151643 \r\nz\r\n\" style=\"fill:url(#h9e68ae0c39);stroke:#000000;stroke-linejoin:miter;\"/>\r\n   </g>\r\n   <g id=\"patch_23\">\r\n    <path clip-path=\"url(#pde447c37c4)\" d=\"M 574.669111 48.746109 \r\nL 700.862957 48.746109 \r\nL 700.862957 61.637809 \r\nL 574.669111 61.637809 \r\nz\r\n\" style=\"fill:url(#h9e68ae0c39);stroke:#000000;stroke-linejoin:miter;\"/>\r\n   </g>\r\n   <g id=\"patch_24\">\r\n    <path clip-path=\"url(#pde447c37c4)\" d=\"M 574.669111 70.232275 \r\nL 700.862957 70.232275 \r\nL 700.862957 83.123975 \r\nL 574.669111 83.123975 \r\nz\r\n\" style=\"fill:url(#h9e68ae0c39);stroke:#000000;stroke-linejoin:miter;\"/>\r\n   </g>\r\n   <g id=\"patch_25\">\r\n    <path clip-path=\"url(#pde447c37c4)\" d=\"M 574.669111 91.718441 \r\nL 700.862957 91.718441 \r\nL 700.862957 104.610141 \r\nL 574.669111 104.610141 \r\nz\r\n\" style=\"fill:url(#h9e68ae0c39);stroke:#000000;stroke-linejoin:miter;\"/>\r\n   </g>\r\n   <g id=\"patch_26\">\r\n    <path clip-path=\"url(#pde447c37c4)\" d=\"M 574.669111 113.204607 \r\nL 700.862957 113.204607 \r\nL 700.862957 126.096307 \r\nL 574.669111 126.096307 \r\nz\r\n\" style=\"fill:url(#h700bad3c64);stroke:#000000;stroke-linejoin:miter;\"/>\r\n   </g>\r\n   <g id=\"matplotlib.axis_1\">\r\n    <g id=\"xtick_1\">\r\n     <g id=\"line2d_1\">\r\n      <defs>\r\n       <path d=\"M 0 0 \r\nL 0 3.5 \r\n\" id=\"mb684f6c3e2\" style=\"stroke:#000000;stroke-width:0.8;\"/>\r\n      </defs>\r\n      <g>\r\n       <use style=\"stroke:#000000;stroke-width:0.8;\" x=\"123.976803\" xlink:href=\"#mb684f6c3e2\" y=\"131.038125\"/>\r\n      </g>\r\n     </g>\r\n     <g id=\"text_1\">\r\n      <!-- Fold 1 -->\r\n      <g transform=\"translate(108.889303 145.636562)scale(0.1 -0.1)\">\r\n       <defs>\r\n        <path d=\"M 9.8125 72.90625 \r\nL 51.703125 72.90625 \r\nL 51.703125 64.59375 \r\nL 19.671875 64.59375 \r\nL 19.671875 43.109375 \r\nL 48.578125 43.109375 \r\nL 48.578125 34.8125 \r\nL 19.671875 34.8125 \r\nL 19.671875 0 \r\nL 9.8125 0 \r\nz\r\n\" id=\"DejaVuSans-70\"/>\r\n        <path d=\"M 30.609375 48.390625 \r\nQ 23.390625 48.390625 19.1875 42.75 \r\nQ 14.984375 37.109375 14.984375 27.296875 \r\nQ 14.984375 17.484375 19.15625 11.84375 \r\nQ 23.34375 6.203125 30.609375 6.203125 \r\nQ 37.796875 6.203125 41.984375 11.859375 \r\nQ 46.1875 17.53125 46.1875 27.296875 \r\nQ 46.1875 37.015625 41.984375 42.703125 \r\nQ 37.796875 48.390625 30.609375 48.390625 \r\nz\r\nM 30.609375 56 \r\nQ 42.328125 56 49.015625 48.375 \r\nQ 55.71875 40.765625 55.71875 27.296875 \r\nQ 55.71875 13.875 49.015625 6.21875 \r\nQ 42.328125 -1.421875 30.609375 -1.421875 \r\nQ 18.84375 -1.421875 12.171875 6.21875 \r\nQ 5.515625 13.875 5.515625 27.296875 \r\nQ 5.515625 40.765625 12.171875 48.375 \r\nQ 18.84375 56 30.609375 56 \r\nz\r\n\" id=\"DejaVuSans-111\"/>\r\n        <path d=\"M 9.421875 75.984375 \r\nL 18.40625 75.984375 \r\nL 18.40625 0 \r\nL 9.421875 0 \r\nz\r\n\" id=\"DejaVuSans-108\"/>\r\n        <path d=\"M 45.40625 46.390625 \r\nL 45.40625 75.984375 \r\nL 54.390625 75.984375 \r\nL 54.390625 0 \r\nL 45.40625 0 \r\nL 45.40625 8.203125 \r\nQ 42.578125 3.328125 38.25 0.953125 \r\nQ 33.9375 -1.421875 27.875 -1.421875 \r\nQ 17.96875 -1.421875 11.734375 6.484375 \r\nQ 5.515625 14.40625 5.515625 27.296875 \r\nQ 5.515625 40.1875 11.734375 48.09375 \r\nQ 17.96875 56 27.875 56 \r\nQ 33.9375 56 38.25 53.625 \r\nQ 42.578125 51.265625 45.40625 46.390625 \r\nz\r\nM 14.796875 27.296875 \r\nQ 14.796875 17.390625 18.875 11.75 \r\nQ 22.953125 6.109375 30.078125 6.109375 \r\nQ 37.203125 6.109375 41.296875 11.75 \r\nQ 45.40625 17.390625 45.40625 27.296875 \r\nQ 45.40625 37.203125 41.296875 42.84375 \r\nQ 37.203125 48.484375 30.078125 48.484375 \r\nQ 22.953125 48.484375 18.875 42.84375 \r\nQ 14.796875 37.203125 14.796875 27.296875 \r\nz\r\n\" id=\"DejaVuSans-100\"/>\r\n        <path id=\"DejaVuSans-32\"/>\r\n        <path d=\"M 12.40625 8.296875 \r\nL 28.515625 8.296875 \r\nL 28.515625 63.921875 \r\nL 10.984375 60.40625 \r\nL 10.984375 69.390625 \r\nL 28.421875 72.90625 \r\nL 38.28125 72.90625 \r\nL 38.28125 8.296875 \r\nL 54.390625 8.296875 \r\nL 54.390625 0 \r\nL 12.40625 0 \r\nz\r\n\" id=\"DejaVuSans-49\"/>\r\n       </defs>\r\n       <use xlink:href=\"#DejaVuSans-70\"/>\r\n       <use x=\"53.894531\" xlink:href=\"#DejaVuSans-111\"/>\r\n       <use x=\"115.076172\" xlink:href=\"#DejaVuSans-108\"/>\r\n       <use x=\"142.859375\" xlink:href=\"#DejaVuSans-100\"/>\r\n       <use x=\"206.335938\" xlink:href=\"#DejaVuSans-32\"/>\r\n       <use x=\"238.123047\" xlink:href=\"#DejaVuSans-49\"/>\r\n      </g>\r\n     </g>\r\n    </g>\r\n    <g id=\"xtick_2\">\r\n     <g id=\"line2d_2\">\r\n      <g>\r\n       <use style=\"stroke:#000000;stroke-width:0.8;\" x=\"252.746034\" xlink:href=\"#mb684f6c3e2\" y=\"131.038125\"/>\r\n      </g>\r\n     </g>\r\n     <g id=\"text_2\">\r\n      <!-- Fold 2 -->\r\n      <g transform=\"translate(237.658534 145.636562)scale(0.1 -0.1)\">\r\n       <defs>\r\n        <path d=\"M 19.1875 8.296875 \r\nL 53.609375 8.296875 \r\nL 53.609375 0 \r\nL 7.328125 0 \r\nL 7.328125 8.296875 \r\nQ 12.9375 14.109375 22.625 23.890625 \r\nQ 32.328125 33.6875 34.8125 36.53125 \r\nQ 39.546875 41.84375 41.421875 45.53125 \r\nQ 43.3125 49.21875 43.3125 52.78125 \r\nQ 43.3125 58.59375 39.234375 62.25 \r\nQ 35.15625 65.921875 28.609375 65.921875 \r\nQ 23.96875 65.921875 18.8125 64.3125 \r\nQ 13.671875 62.703125 7.8125 59.421875 \r\nL 7.8125 69.390625 \r\nQ 13.765625 71.78125 18.9375 73 \r\nQ 24.125 74.21875 28.421875 74.21875 \r\nQ 39.75 74.21875 46.484375 68.546875 \r\nQ 53.21875 62.890625 53.21875 53.421875 \r\nQ 53.21875 48.921875 51.53125 44.890625 \r\nQ 49.859375 40.875 45.40625 35.40625 \r\nQ 44.1875 33.984375 37.640625 27.21875 \r\nQ 31.109375 20.453125 19.1875 8.296875 \r\nz\r\n\" id=\"DejaVuSans-50\"/>\r\n       </defs>\r\n       <use xlink:href=\"#DejaVuSans-70\"/>\r\n       <use x=\"53.894531\" xlink:href=\"#DejaVuSans-111\"/>\r\n       <use x=\"115.076172\" xlink:href=\"#DejaVuSans-108\"/>\r\n       <use x=\"142.859375\" xlink:href=\"#DejaVuSans-100\"/>\r\n       <use x=\"206.335938\" xlink:href=\"#DejaVuSans-32\"/>\r\n       <use x=\"238.123047\" xlink:href=\"#DejaVuSans-50\"/>\r\n      </g>\r\n     </g>\r\n    </g>\r\n    <g id=\"xtick_3\">\r\n     <g id=\"line2d_3\">\r\n      <g>\r\n       <use style=\"stroke:#000000;stroke-width:0.8;\" x=\"381.515264\" xlink:href=\"#mb684f6c3e2\" y=\"131.038125\"/>\r\n      </g>\r\n     </g>\r\n     <g id=\"text_3\">\r\n      <!-- Fold 3 -->\r\n      <g transform=\"translate(366.427764 145.636562)scale(0.1 -0.1)\">\r\n       <defs>\r\n        <path d=\"M 40.578125 39.3125 \r\nQ 47.65625 37.796875 51.625 33 \r\nQ 55.609375 28.21875 55.609375 21.1875 \r\nQ 55.609375 10.40625 48.1875 4.484375 \r\nQ 40.765625 -1.421875 27.09375 -1.421875 \r\nQ 22.515625 -1.421875 17.65625 -0.515625 \r\nQ 12.796875 0.390625 7.625 2.203125 \r\nL 7.625 11.71875 \r\nQ 11.71875 9.328125 16.59375 8.109375 \r\nQ 21.484375 6.890625 26.8125 6.890625 \r\nQ 36.078125 6.890625 40.9375 10.546875 \r\nQ 45.796875 14.203125 45.796875 21.1875 \r\nQ 45.796875 27.640625 41.28125 31.265625 \r\nQ 36.765625 34.90625 28.71875 34.90625 \r\nL 20.21875 34.90625 \r\nL 20.21875 43.015625 \r\nL 29.109375 43.015625 \r\nQ 36.375 43.015625 40.234375 45.921875 \r\nQ 44.09375 48.828125 44.09375 54.296875 \r\nQ 44.09375 59.90625 40.109375 62.90625 \r\nQ 36.140625 65.921875 28.71875 65.921875 \r\nQ 24.65625 65.921875 20.015625 65.03125 \r\nQ 15.375 64.15625 9.8125 62.3125 \r\nL 9.8125 71.09375 \r\nQ 15.4375 72.65625 20.34375 73.4375 \r\nQ 25.25 74.21875 29.59375 74.21875 \r\nQ 40.828125 74.21875 47.359375 69.109375 \r\nQ 53.90625 64.015625 53.90625 55.328125 \r\nQ 53.90625 49.265625 50.4375 45.09375 \r\nQ 46.96875 40.921875 40.578125 39.3125 \r\nz\r\n\" id=\"DejaVuSans-51\"/>\r\n       </defs>\r\n       <use xlink:href=\"#DejaVuSans-70\"/>\r\n       <use x=\"53.894531\" xlink:href=\"#DejaVuSans-111\"/>\r\n       <use x=\"115.076172\" xlink:href=\"#DejaVuSans-108\"/>\r\n       <use x=\"142.859375\" xlink:href=\"#DejaVuSans-100\"/>\r\n       <use x=\"206.335938\" xlink:href=\"#DejaVuSans-32\"/>\r\n       <use x=\"238.123047\" xlink:href=\"#DejaVuSans-51\"/>\r\n      </g>\r\n     </g>\r\n    </g>\r\n    <g id=\"xtick_4\">\r\n     <g id=\"line2d_4\">\r\n      <g>\r\n       <use style=\"stroke:#000000;stroke-width:0.8;\" x=\"510.284495\" xlink:href=\"#mb684f6c3e2\" y=\"131.038125\"/>\r\n      </g>\r\n     </g>\r\n     <g id=\"text_4\">\r\n      <!-- Fold 4 -->\r\n      <g transform=\"translate(495.196995 145.636562)scale(0.1 -0.1)\">\r\n       <defs>\r\n        <path d=\"M 37.796875 64.3125 \r\nL 12.890625 25.390625 \r\nL 37.796875 25.390625 \r\nz\r\nM 35.203125 72.90625 \r\nL 47.609375 72.90625 \r\nL 47.609375 25.390625 \r\nL 58.015625 25.390625 \r\nL 58.015625 17.1875 \r\nL 47.609375 17.1875 \r\nL 47.609375 0 \r\nL 37.796875 0 \r\nL 37.796875 17.1875 \r\nL 4.890625 17.1875 \r\nL 4.890625 26.703125 \r\nz\r\n\" id=\"DejaVuSans-52\"/>\r\n       </defs>\r\n       <use xlink:href=\"#DejaVuSans-70\"/>\r\n       <use x=\"53.894531\" xlink:href=\"#DejaVuSans-111\"/>\r\n       <use x=\"115.076172\" xlink:href=\"#DejaVuSans-108\"/>\r\n       <use x=\"142.859375\" xlink:href=\"#DejaVuSans-100\"/>\r\n       <use x=\"206.335938\" xlink:href=\"#DejaVuSans-32\"/>\r\n       <use x=\"238.123047\" xlink:href=\"#DejaVuSans-52\"/>\r\n      </g>\r\n     </g>\r\n    </g>\r\n    <g id=\"xtick_5\">\r\n     <g id=\"line2d_5\">\r\n      <g>\r\n       <use style=\"stroke:#000000;stroke-width:0.8;\" x=\"639.053726\" xlink:href=\"#mb684f6c3e2\" y=\"131.038125\"/>\r\n      </g>\r\n     </g>\r\n     <g id=\"text_5\">\r\n      <!-- Fold 5 -->\r\n      <g transform=\"translate(623.966226 145.636562)scale(0.1 -0.1)\">\r\n       <defs>\r\n        <path d=\"M 10.796875 72.90625 \r\nL 49.515625 72.90625 \r\nL 49.515625 64.59375 \r\nL 19.828125 64.59375 \r\nL 19.828125 46.734375 \r\nQ 21.96875 47.46875 24.109375 47.828125 \r\nQ 26.265625 48.1875 28.421875 48.1875 \r\nQ 40.625 48.1875 47.75 41.5 \r\nQ 54.890625 34.8125 54.890625 23.390625 \r\nQ 54.890625 11.625 47.5625 5.09375 \r\nQ 40.234375 -1.421875 26.90625 -1.421875 \r\nQ 22.3125 -1.421875 17.546875 -0.640625 \r\nQ 12.796875 0.140625 7.71875 1.703125 \r\nL 7.71875 11.625 \r\nQ 12.109375 9.234375 16.796875 8.0625 \r\nQ 21.484375 6.890625 26.703125 6.890625 \r\nQ 35.15625 6.890625 40.078125 11.328125 \r\nQ 45.015625 15.765625 45.015625 23.390625 \r\nQ 45.015625 31 40.078125 35.4375 \r\nQ 35.15625 39.890625 26.703125 39.890625 \r\nQ 22.75 39.890625 18.8125 39.015625 \r\nQ 14.890625 38.140625 10.796875 36.28125 \r\nz\r\n\" id=\"DejaVuSans-53\"/>\r\n       </defs>\r\n       <use xlink:href=\"#DejaVuSans-70\"/>\r\n       <use x=\"53.894531\" xlink:href=\"#DejaVuSans-111\"/>\r\n       <use x=\"115.076172\" xlink:href=\"#DejaVuSans-108\"/>\r\n       <use x=\"142.859375\" xlink:href=\"#DejaVuSans-100\"/>\r\n       <use x=\"206.335938\" xlink:href=\"#DejaVuSans-32\"/>\r\n       <use x=\"238.123047\" xlink:href=\"#DejaVuSans-53\"/>\r\n      </g>\r\n     </g>\r\n    </g>\r\n    <g id=\"text_6\">\r\n     <!-- Data points -->\r\n     <g transform=\"translate(365.508594 159.314687)scale(0.1 -0.1)\">\r\n      <defs>\r\n       <path d=\"M 19.671875 64.796875 \r\nL 19.671875 8.109375 \r\nL 31.59375 8.109375 \r\nQ 46.6875 8.109375 53.6875 14.9375 \r\nQ 60.6875 21.78125 60.6875 36.53125 \r\nQ 60.6875 51.171875 53.6875 57.984375 \r\nQ 46.6875 64.796875 31.59375 64.796875 \r\nz\r\nM 9.8125 72.90625 \r\nL 30.078125 72.90625 \r\nQ 51.265625 72.90625 61.171875 64.09375 \r\nQ 71.09375 55.28125 71.09375 36.53125 \r\nQ 71.09375 17.671875 61.125 8.828125 \r\nQ 51.171875 0 30.078125 0 \r\nL 9.8125 0 \r\nz\r\n\" id=\"DejaVuSans-68\"/>\r\n       <path d=\"M 34.28125 27.484375 \r\nQ 23.390625 27.484375 19.1875 25 \r\nQ 14.984375 22.515625 14.984375 16.5 \r\nQ 14.984375 11.71875 18.140625 8.90625 \r\nQ 21.296875 6.109375 26.703125 6.109375 \r\nQ 34.1875 6.109375 38.703125 11.40625 \r\nQ 43.21875 16.703125 43.21875 25.484375 \r\nL 43.21875 27.484375 \r\nz\r\nM 52.203125 31.203125 \r\nL 52.203125 0 \r\nL 43.21875 0 \r\nL 43.21875 8.296875 \r\nQ 40.140625 3.328125 35.546875 0.953125 \r\nQ 30.953125 -1.421875 24.3125 -1.421875 \r\nQ 15.921875 -1.421875 10.953125 3.296875 \r\nQ 6 8.015625 6 15.921875 \r\nQ 6 25.140625 12.171875 29.828125 \r\nQ 18.359375 34.515625 30.609375 34.515625 \r\nL 43.21875 34.515625 \r\nL 43.21875 35.40625 \r\nQ 43.21875 41.609375 39.140625 45 \r\nQ 35.0625 48.390625 27.6875 48.390625 \r\nQ 23 48.390625 18.546875 47.265625 \r\nQ 14.109375 46.140625 10.015625 43.890625 \r\nL 10.015625 52.203125 \r\nQ 14.9375 54.109375 19.578125 55.046875 \r\nQ 24.21875 56 28.609375 56 \r\nQ 40.484375 56 46.34375 49.84375 \r\nQ 52.203125 43.703125 52.203125 31.203125 \r\nz\r\n\" id=\"DejaVuSans-97\"/>\r\n       <path d=\"M 18.3125 70.21875 \r\nL 18.3125 54.6875 \r\nL 36.8125 54.6875 \r\nL 36.8125 47.703125 \r\nL 18.3125 47.703125 \r\nL 18.3125 18.015625 \r\nQ 18.3125 11.328125 20.140625 9.421875 \r\nQ 21.96875 7.515625 27.59375 7.515625 \r\nL 36.8125 7.515625 \r\nL 36.8125 0 \r\nL 27.59375 0 \r\nQ 17.1875 0 13.234375 3.875 \r\nQ 9.28125 7.765625 9.28125 18.015625 \r\nL 9.28125 47.703125 \r\nL 2.6875 47.703125 \r\nL 2.6875 54.6875 \r\nL 9.28125 54.6875 \r\nL 9.28125 70.21875 \r\nz\r\n\" id=\"DejaVuSans-116\"/>\r\n       <path d=\"M 18.109375 8.203125 \r\nL 18.109375 -20.796875 \r\nL 9.078125 -20.796875 \r\nL 9.078125 54.6875 \r\nL 18.109375 54.6875 \r\nL 18.109375 46.390625 \r\nQ 20.953125 51.265625 25.265625 53.625 \r\nQ 29.59375 56 35.59375 56 \r\nQ 45.5625 56 51.78125 48.09375 \r\nQ 58.015625 40.1875 58.015625 27.296875 \r\nQ 58.015625 14.40625 51.78125 6.484375 \r\nQ 45.5625 -1.421875 35.59375 -1.421875 \r\nQ 29.59375 -1.421875 25.265625 0.953125 \r\nQ 20.953125 3.328125 18.109375 8.203125 \r\nz\r\nM 48.6875 27.296875 \r\nQ 48.6875 37.203125 44.609375 42.84375 \r\nQ 40.53125 48.484375 33.40625 48.484375 \r\nQ 26.265625 48.484375 22.1875 42.84375 \r\nQ 18.109375 37.203125 18.109375 27.296875 \r\nQ 18.109375 17.390625 22.1875 11.75 \r\nQ 26.265625 6.109375 33.40625 6.109375 \r\nQ 40.53125 6.109375 44.609375 11.75 \r\nQ 48.6875 17.390625 48.6875 27.296875 \r\nz\r\n\" id=\"DejaVuSans-112\"/>\r\n       <path d=\"M 9.421875 54.6875 \r\nL 18.40625 54.6875 \r\nL 18.40625 0 \r\nL 9.421875 0 \r\nz\r\nM 9.421875 75.984375 \r\nL 18.40625 75.984375 \r\nL 18.40625 64.59375 \r\nL 9.421875 64.59375 \r\nz\r\n\" id=\"DejaVuSans-105\"/>\r\n       <path d=\"M 54.890625 33.015625 \r\nL 54.890625 0 \r\nL 45.90625 0 \r\nL 45.90625 32.71875 \r\nQ 45.90625 40.484375 42.875 44.328125 \r\nQ 39.84375 48.1875 33.796875 48.1875 \r\nQ 26.515625 48.1875 22.3125 43.546875 \r\nQ 18.109375 38.921875 18.109375 30.90625 \r\nL 18.109375 0 \r\nL 9.078125 0 \r\nL 9.078125 54.6875 \r\nL 18.109375 54.6875 \r\nL 18.109375 46.1875 \r\nQ 21.34375 51.125 25.703125 53.5625 \r\nQ 30.078125 56 35.796875 56 \r\nQ 45.21875 56 50.046875 50.171875 \r\nQ 54.890625 44.34375 54.890625 33.015625 \r\nz\r\n\" id=\"DejaVuSans-110\"/>\r\n       <path d=\"M 44.28125 53.078125 \r\nL 44.28125 44.578125 \r\nQ 40.484375 46.53125 36.375 47.5 \r\nQ 32.28125 48.484375 27.875 48.484375 \r\nQ 21.1875 48.484375 17.84375 46.4375 \r\nQ 14.5 44.390625 14.5 40.28125 \r\nQ 14.5 37.15625 16.890625 35.375 \r\nQ 19.28125 33.59375 26.515625 31.984375 \r\nL 29.59375 31.296875 \r\nQ 39.15625 29.25 43.1875 25.515625 \r\nQ 47.21875 21.78125 47.21875 15.09375 \r\nQ 47.21875 7.46875 41.1875 3.015625 \r\nQ 35.15625 -1.421875 24.609375 -1.421875 \r\nQ 20.21875 -1.421875 15.453125 -0.5625 \r\nQ 10.6875 0.296875 5.421875 2 \r\nL 5.421875 11.28125 \r\nQ 10.40625 8.6875 15.234375 7.390625 \r\nQ 20.0625 6.109375 24.8125 6.109375 \r\nQ 31.15625 6.109375 34.5625 8.28125 \r\nQ 37.984375 10.453125 37.984375 14.40625 \r\nQ 37.984375 18.0625 35.515625 20.015625 \r\nQ 33.0625 21.96875 24.703125 23.78125 \r\nL 21.578125 24.515625 \r\nQ 13.234375 26.265625 9.515625 29.90625 \r\nQ 5.8125 33.546875 5.8125 39.890625 \r\nQ 5.8125 47.609375 11.28125 51.796875 \r\nQ 16.75 56 26.8125 56 \r\nQ 31.78125 56 36.171875 55.265625 \r\nQ 40.578125 54.546875 44.28125 53.078125 \r\nz\r\n\" id=\"DejaVuSans-115\"/>\r\n      </defs>\r\n      <use xlink:href=\"#DejaVuSans-68\"/>\r\n      <use x=\"77.001953\" xlink:href=\"#DejaVuSans-97\"/>\r\n      <use x=\"138.28125\" xlink:href=\"#DejaVuSans-116\"/>\r\n      <use x=\"177.490234\" xlink:href=\"#DejaVuSans-97\"/>\r\n      <use x=\"238.769531\" xlink:href=\"#DejaVuSans-32\"/>\r\n      <use x=\"270.556641\" xlink:href=\"#DejaVuSans-112\"/>\r\n      <use x=\"334.033203\" xlink:href=\"#DejaVuSans-111\"/>\r\n      <use x=\"395.214844\" xlink:href=\"#DejaVuSans-105\"/>\r\n      <use x=\"422.998047\" xlink:href=\"#DejaVuSans-110\"/>\r\n      <use x=\"486.376953\" xlink:href=\"#DejaVuSans-116\"/>\r\n      <use x=\"525.585938\" xlink:href=\"#DejaVuSans-115\"/>\r\n     </g>\r\n    </g>\r\n   </g>\r\n   <g id=\"matplotlib.axis_2\">\r\n    <g id=\"ytick_1\">\r\n     <g id=\"line2d_6\">\r\n      <defs>\r\n       <path d=\"M 0 0 \r\nL -3.5 0 \r\n\" id=\"m2dda1c7466\" style=\"stroke:#000000;stroke-width:0.8;\"/>\r\n      </defs>\r\n      <g>\r\n       <use style=\"stroke:#000000;stroke-width:0.8;\" x=\"59.592187\" xlink:href=\"#m2dda1c7466\" y=\"33.705793\"/>\r\n      </g>\r\n     </g>\r\n     <g id=\"text_7\">\r\n      <!-- Split 1 -->\r\n      <g transform=\"translate(20.878125 37.505012)scale(0.1 -0.1)\">\r\n       <defs>\r\n        <path d=\"M 53.515625 70.515625 \r\nL 53.515625 60.890625 \r\nQ 47.90625 63.578125 42.921875 64.890625 \r\nQ 37.9375 66.21875 33.296875 66.21875 \r\nQ 25.25 66.21875 20.875 63.09375 \r\nQ 16.5 59.96875 16.5 54.203125 \r\nQ 16.5 49.359375 19.40625 46.890625 \r\nQ 22.3125 44.4375 30.421875 42.921875 \r\nL 36.375 41.703125 \r\nQ 47.40625 39.59375 52.65625 34.296875 \r\nQ 57.90625 29 57.90625 20.125 \r\nQ 57.90625 9.515625 50.796875 4.046875 \r\nQ 43.703125 -1.421875 29.984375 -1.421875 \r\nQ 24.8125 -1.421875 18.96875 -0.25 \r\nQ 13.140625 0.921875 6.890625 3.21875 \r\nL 6.890625 13.375 \r\nQ 12.890625 10.015625 18.65625 8.296875 \r\nQ 24.421875 6.59375 29.984375 6.59375 \r\nQ 38.421875 6.59375 43.015625 9.90625 \r\nQ 47.609375 13.234375 47.609375 19.390625 \r\nQ 47.609375 24.75 44.3125 27.78125 \r\nQ 41.015625 30.8125 33.5 32.328125 \r\nL 27.484375 33.5 \r\nQ 16.453125 35.6875 11.515625 40.375 \r\nQ 6.59375 45.0625 6.59375 53.421875 \r\nQ 6.59375 63.09375 13.40625 68.65625 \r\nQ 20.21875 74.21875 32.171875 74.21875 \r\nQ 37.3125 74.21875 42.625 73.28125 \r\nQ 47.953125 72.359375 53.515625 70.515625 \r\nz\r\n\" id=\"DejaVuSans-83\"/>\r\n       </defs>\r\n       <use xlink:href=\"#DejaVuSans-83\"/>\r\n       <use x=\"63.476562\" xlink:href=\"#DejaVuSans-112\"/>\r\n       <use x=\"126.953125\" xlink:href=\"#DejaVuSans-108\"/>\r\n       <use x=\"154.736328\" xlink:href=\"#DejaVuSans-105\"/>\r\n       <use x=\"182.519531\" xlink:href=\"#DejaVuSans-116\"/>\r\n       <use x=\"221.728516\" xlink:href=\"#DejaVuSans-32\"/>\r\n       <use x=\"253.515625\" xlink:href=\"#DejaVuSans-49\"/>\r\n      </g>\r\n     </g>\r\n    </g>\r\n    <g id=\"ytick_2\">\r\n     <g id=\"line2d_7\">\r\n      <g>\r\n       <use style=\"stroke:#000000;stroke-width:0.8;\" x=\"59.592187\" xlink:href=\"#m2dda1c7466\" y=\"55.191959\"/>\r\n      </g>\r\n     </g>\r\n     <g id=\"text_8\">\r\n      <!-- Split 2 -->\r\n      <g transform=\"translate(20.878125 58.991178)scale(0.1 -0.1)\">\r\n       <use xlink:href=\"#DejaVuSans-83\"/>\r\n       <use x=\"63.476562\" xlink:href=\"#DejaVuSans-112\"/>\r\n       <use x=\"126.953125\" xlink:href=\"#DejaVuSans-108\"/>\r\n       <use x=\"154.736328\" xlink:href=\"#DejaVuSans-105\"/>\r\n       <use x=\"182.519531\" xlink:href=\"#DejaVuSans-116\"/>\r\n       <use x=\"221.728516\" xlink:href=\"#DejaVuSans-32\"/>\r\n       <use x=\"253.515625\" xlink:href=\"#DejaVuSans-50\"/>\r\n      </g>\r\n     </g>\r\n    </g>\r\n    <g id=\"ytick_3\">\r\n     <g id=\"line2d_8\">\r\n      <g>\r\n       <use style=\"stroke:#000000;stroke-width:0.8;\" x=\"59.592187\" xlink:href=\"#m2dda1c7466\" y=\"76.678125\"/>\r\n      </g>\r\n     </g>\r\n     <g id=\"text_9\">\r\n      <!-- Split 3 -->\r\n      <g transform=\"translate(20.878125 80.477344)scale(0.1 -0.1)\">\r\n       <use xlink:href=\"#DejaVuSans-83\"/>\r\n       <use x=\"63.476562\" xlink:href=\"#DejaVuSans-112\"/>\r\n       <use x=\"126.953125\" xlink:href=\"#DejaVuSans-108\"/>\r\n       <use x=\"154.736328\" xlink:href=\"#DejaVuSans-105\"/>\r\n       <use x=\"182.519531\" xlink:href=\"#DejaVuSans-116\"/>\r\n       <use x=\"221.728516\" xlink:href=\"#DejaVuSans-32\"/>\r\n       <use x=\"253.515625\" xlink:href=\"#DejaVuSans-51\"/>\r\n      </g>\r\n     </g>\r\n    </g>\r\n    <g id=\"ytick_4\">\r\n     <g id=\"line2d_9\">\r\n      <g>\r\n       <use style=\"stroke:#000000;stroke-width:0.8;\" x=\"59.592187\" xlink:href=\"#m2dda1c7466\" y=\"98.164291\"/>\r\n      </g>\r\n     </g>\r\n     <g id=\"text_10\">\r\n      <!-- Split 4 -->\r\n      <g transform=\"translate(20.878125 101.96351)scale(0.1 -0.1)\">\r\n       <use xlink:href=\"#DejaVuSans-83\"/>\r\n       <use x=\"63.476562\" xlink:href=\"#DejaVuSans-112\"/>\r\n       <use x=\"126.953125\" xlink:href=\"#DejaVuSans-108\"/>\r\n       <use x=\"154.736328\" xlink:href=\"#DejaVuSans-105\"/>\r\n       <use x=\"182.519531\" xlink:href=\"#DejaVuSans-116\"/>\r\n       <use x=\"221.728516\" xlink:href=\"#DejaVuSans-32\"/>\r\n       <use x=\"253.515625\" xlink:href=\"#DejaVuSans-52\"/>\r\n      </g>\r\n     </g>\r\n    </g>\r\n    <g id=\"ytick_5\">\r\n     <g id=\"line2d_10\">\r\n      <g>\r\n       <use style=\"stroke:#000000;stroke-width:0.8;\" x=\"59.592187\" xlink:href=\"#m2dda1c7466\" y=\"119.650457\"/>\r\n      </g>\r\n     </g>\r\n     <g id=\"text_11\">\r\n      <!-- Split 5 -->\r\n      <g transform=\"translate(20.878125 123.449676)scale(0.1 -0.1)\">\r\n       <use xlink:href=\"#DejaVuSans-83\"/>\r\n       <use x=\"63.476562\" xlink:href=\"#DejaVuSans-112\"/>\r\n       <use x=\"126.953125\" xlink:href=\"#DejaVuSans-108\"/>\r\n       <use x=\"154.736328\" xlink:href=\"#DejaVuSans-105\"/>\r\n       <use x=\"182.519531\" xlink:href=\"#DejaVuSans-116\"/>\r\n       <use x=\"221.728516\" xlink:href=\"#DejaVuSans-32\"/>\r\n       <use x=\"253.515625\" xlink:href=\"#DejaVuSans-53\"/>\r\n      </g>\r\n     </g>\r\n    </g>\r\n    <g id=\"text_12\">\r\n     <!-- CV iterations -->\r\n     <g transform=\"translate(14.798437 108.90625)rotate(-90)scale(0.1 -0.1)\">\r\n      <defs>\r\n       <path d=\"M 64.40625 67.28125 \r\nL 64.40625 56.890625 \r\nQ 59.421875 61.53125 53.78125 63.8125 \r\nQ 48.140625 66.109375 41.796875 66.109375 \r\nQ 29.296875 66.109375 22.65625 58.46875 \r\nQ 16.015625 50.828125 16.015625 36.375 \r\nQ 16.015625 21.96875 22.65625 14.328125 \r\nQ 29.296875 6.6875 41.796875 6.6875 \r\nQ 48.140625 6.6875 53.78125 8.984375 \r\nQ 59.421875 11.28125 64.40625 15.921875 \r\nL 64.40625 5.609375 \r\nQ 59.234375 2.09375 53.4375 0.328125 \r\nQ 47.65625 -1.421875 41.21875 -1.421875 \r\nQ 24.65625 -1.421875 15.125 8.703125 \r\nQ 5.609375 18.84375 5.609375 36.375 \r\nQ 5.609375 53.953125 15.125 64.078125 \r\nQ 24.65625 74.21875 41.21875 74.21875 \r\nQ 47.75 74.21875 53.53125 72.484375 \r\nQ 59.328125 70.75 64.40625 67.28125 \r\nz\r\n\" id=\"DejaVuSans-67\"/>\r\n       <path d=\"M 28.609375 0 \r\nL 0.78125 72.90625 \r\nL 11.078125 72.90625 \r\nL 34.1875 11.53125 \r\nL 57.328125 72.90625 \r\nL 67.578125 72.90625 \r\nL 39.796875 0 \r\nz\r\n\" id=\"DejaVuSans-86\"/>\r\n       <path d=\"M 56.203125 29.59375 \r\nL 56.203125 25.203125 \r\nL 14.890625 25.203125 \r\nQ 15.484375 15.921875 20.484375 11.0625 \r\nQ 25.484375 6.203125 34.421875 6.203125 \r\nQ 39.59375 6.203125 44.453125 7.46875 \r\nQ 49.3125 8.734375 54.109375 11.28125 \r\nL 54.109375 2.78125 \r\nQ 49.265625 0.734375 44.1875 -0.34375 \r\nQ 39.109375 -1.421875 33.890625 -1.421875 \r\nQ 20.796875 -1.421875 13.15625 6.1875 \r\nQ 5.515625 13.8125 5.515625 26.8125 \r\nQ 5.515625 40.234375 12.765625 48.109375 \r\nQ 20.015625 56 32.328125 56 \r\nQ 43.359375 56 49.78125 48.890625 \r\nQ 56.203125 41.796875 56.203125 29.59375 \r\nz\r\nM 47.21875 32.234375 \r\nQ 47.125 39.59375 43.09375 43.984375 \r\nQ 39.0625 48.390625 32.421875 48.390625 \r\nQ 24.90625 48.390625 20.390625 44.140625 \r\nQ 15.875 39.890625 15.1875 32.171875 \r\nz\r\n\" id=\"DejaVuSans-101\"/>\r\n       <path d=\"M 41.109375 46.296875 \r\nQ 39.59375 47.171875 37.8125 47.578125 \r\nQ 36.03125 48 33.890625 48 \r\nQ 26.265625 48 22.1875 43.046875 \r\nQ 18.109375 38.09375 18.109375 28.8125 \r\nL 18.109375 0 \r\nL 9.078125 0 \r\nL 9.078125 54.6875 \r\nL 18.109375 54.6875 \r\nL 18.109375 46.1875 \r\nQ 20.953125 51.171875 25.484375 53.578125 \r\nQ 30.03125 56 36.53125 56 \r\nQ 37.453125 56 38.578125 55.875 \r\nQ 39.703125 55.765625 41.0625 55.515625 \r\nz\r\n\" id=\"DejaVuSans-114\"/>\r\n      </defs>\r\n      <use xlink:href=\"#DejaVuSans-67\"/>\r\n      <use x=\"69.824219\" xlink:href=\"#DejaVuSans-86\"/>\r\n      <use x=\"138.232422\" xlink:href=\"#DejaVuSans-32\"/>\r\n      <use x=\"170.019531\" xlink:href=\"#DejaVuSans-105\"/>\r\n      <use x=\"197.802734\" xlink:href=\"#DejaVuSans-116\"/>\r\n      <use x=\"237.011719\" xlink:href=\"#DejaVuSans-101\"/>\r\n      <use x=\"298.535156\" xlink:href=\"#DejaVuSans-114\"/>\r\n      <use x=\"339.648438\" xlink:href=\"#DejaVuSans-97\"/>\r\n      <use x=\"400.927734\" xlink:href=\"#DejaVuSans-116\"/>\r\n      <use x=\"440.136719\" xlink:href=\"#DejaVuSans-105\"/>\r\n      <use x=\"467.919922\" xlink:href=\"#DejaVuSans-111\"/>\r\n      <use x=\"529.101562\" xlink:href=\"#DejaVuSans-110\"/>\r\n      <use x=\"592.480469\" xlink:href=\"#DejaVuSans-115\"/>\r\n     </g>\r\n    </g>\r\n   </g>\r\n   <g id=\"text_13\">\r\n    <!-- cross_validation -->\r\n    <g transform=\"translate(346.298437 16.318125)scale(0.12 -0.12)\">\r\n     <defs>\r\n      <path d=\"M 48.78125 52.59375 \r\nL 48.78125 44.1875 \r\nQ 44.96875 46.296875 41.140625 47.34375 \r\nQ 37.3125 48.390625 33.40625 48.390625 \r\nQ 24.65625 48.390625 19.8125 42.84375 \r\nQ 14.984375 37.3125 14.984375 27.296875 \r\nQ 14.984375 17.28125 19.8125 11.734375 \r\nQ 24.65625 6.203125 33.40625 6.203125 \r\nQ 37.3125 6.203125 41.140625 7.25 \r\nQ 44.96875 8.296875 48.78125 10.40625 \r\nL 48.78125 2.09375 \r\nQ 45.015625 0.34375 40.984375 -0.53125 \r\nQ 36.96875 -1.421875 32.421875 -1.421875 \r\nQ 20.0625 -1.421875 12.78125 6.34375 \r\nQ 5.515625 14.109375 5.515625 27.296875 \r\nQ 5.515625 40.671875 12.859375 48.328125 \r\nQ 20.21875 56 33.015625 56 \r\nQ 37.15625 56 41.109375 55.140625 \r\nQ 45.0625 54.296875 48.78125 52.59375 \r\nz\r\n\" id=\"DejaVuSans-99\"/>\r\n      <path d=\"M 50.984375 -16.609375 \r\nL 50.984375 -23.578125 \r\nL -0.984375 -23.578125 \r\nL -0.984375 -16.609375 \r\nz\r\n\" id=\"DejaVuSans-95\"/>\r\n      <path d=\"M 2.984375 54.6875 \r\nL 12.5 54.6875 \r\nL 29.59375 8.796875 \r\nL 46.6875 54.6875 \r\nL 56.203125 54.6875 \r\nL 35.6875 0 \r\nL 23.484375 0 \r\nz\r\n\" id=\"DejaVuSans-118\"/>\r\n     </defs>\r\n     <use xlink:href=\"#DejaVuSans-99\"/>\r\n     <use x=\"54.980469\" xlink:href=\"#DejaVuSans-114\"/>\r\n     <use x=\"93.84375\" xlink:href=\"#DejaVuSans-111\"/>\r\n     <use x=\"155.025391\" xlink:href=\"#DejaVuSans-115\"/>\r\n     <use x=\"207.125\" xlink:href=\"#DejaVuSans-115\"/>\r\n     <use x=\"259.224609\" xlink:href=\"#DejaVuSans-95\"/>\r\n     <use x=\"309.224609\" xlink:href=\"#DejaVuSans-118\"/>\r\n     <use x=\"368.404297\" xlink:href=\"#DejaVuSans-97\"/>\r\n     <use x=\"429.683594\" xlink:href=\"#DejaVuSans-108\"/>\r\n     <use x=\"457.466797\" xlink:href=\"#DejaVuSans-105\"/>\r\n     <use x=\"485.25\" xlink:href=\"#DejaVuSans-100\"/>\r\n     <use x=\"548.726562\" xlink:href=\"#DejaVuSans-97\"/>\r\n     <use x=\"610.005859\" xlink:href=\"#DejaVuSans-116\"/>\r\n     <use x=\"649.214844\" xlink:href=\"#DejaVuSans-105\"/>\r\n     <use x=\"676.998047\" xlink:href=\"#DejaVuSans-111\"/>\r\n     <use x=\"738.179688\" xlink:href=\"#DejaVuSans-110\"/>\r\n    </g>\r\n   </g>\r\n   <g id=\"legend_1\">\r\n    <g id=\"patch_27\">\r\n     <path d=\"M 766.672188 66.792312 \r\nL 786.672188 66.792312 \r\nL 786.672188 59.792312 \r\nL 766.672188 59.792312 \r\nz\r\n\" style=\"fill:url(#h9e68ae0c39);stroke:#000000;stroke-linejoin:miter;\"/>\r\n    </g>\r\n    <g id=\"text_14\">\r\n     <!-- Training data -->\r\n     <g transform=\"translate(794.672188 66.792312)scale(0.1 -0.1)\">\r\n      <defs>\r\n       <path d=\"M -0.296875 72.90625 \r\nL 61.375 72.90625 \r\nL 61.375 64.59375 \r\nL 35.5 64.59375 \r\nL 35.5 0 \r\nL 25.59375 0 \r\nL 25.59375 64.59375 \r\nL -0.296875 64.59375 \r\nz\r\n\" id=\"DejaVuSans-84\"/>\r\n       <path d=\"M 45.40625 27.984375 \r\nQ 45.40625 37.75 41.375 43.109375 \r\nQ 37.359375 48.484375 30.078125 48.484375 \r\nQ 22.859375 48.484375 18.828125 43.109375 \r\nQ 14.796875 37.75 14.796875 27.984375 \r\nQ 14.796875 18.265625 18.828125 12.890625 \r\nQ 22.859375 7.515625 30.078125 7.515625 \r\nQ 37.359375 7.515625 41.375 12.890625 \r\nQ 45.40625 18.265625 45.40625 27.984375 \r\nz\r\nM 54.390625 6.78125 \r\nQ 54.390625 -7.171875 48.1875 -13.984375 \r\nQ 42 -20.796875 29.203125 -20.796875 \r\nQ 24.46875 -20.796875 20.265625 -20.09375 \r\nQ 16.0625 -19.390625 12.109375 -17.921875 \r\nL 12.109375 -9.1875 \r\nQ 16.0625 -11.328125 19.921875 -12.34375 \r\nQ 23.78125 -13.375 27.78125 -13.375 \r\nQ 36.625 -13.375 41.015625 -8.765625 \r\nQ 45.40625 -4.15625 45.40625 5.171875 \r\nL 45.40625 9.625 \r\nQ 42.625 4.78125 38.28125 2.390625 \r\nQ 33.9375 0 27.875 0 \r\nQ 17.828125 0 11.671875 7.65625 \r\nQ 5.515625 15.328125 5.515625 27.984375 \r\nQ 5.515625 40.671875 11.671875 48.328125 \r\nQ 17.828125 56 27.875 56 \r\nQ 33.9375 56 38.28125 53.609375 \r\nQ 42.625 51.21875 45.40625 46.390625 \r\nL 45.40625 54.6875 \r\nL 54.390625 54.6875 \r\nz\r\n\" id=\"DejaVuSans-103\"/>\r\n      </defs>\r\n      <use xlink:href=\"#DejaVuSans-84\"/>\r\n      <use x=\"46.333984\" xlink:href=\"#DejaVuSans-114\"/>\r\n      <use x=\"87.447266\" xlink:href=\"#DejaVuSans-97\"/>\r\n      <use x=\"148.726562\" xlink:href=\"#DejaVuSans-105\"/>\r\n      <use x=\"176.509766\" xlink:href=\"#DejaVuSans-110\"/>\r\n      <use x=\"239.888672\" xlink:href=\"#DejaVuSans-105\"/>\r\n      <use x=\"267.671875\" xlink:href=\"#DejaVuSans-110\"/>\r\n      <use x=\"331.050781\" xlink:href=\"#DejaVuSans-103\"/>\r\n      <use x=\"394.527344\" xlink:href=\"#DejaVuSans-32\"/>\r\n      <use x=\"426.314453\" xlink:href=\"#DejaVuSans-100\"/>\r\n      <use x=\"489.791016\" xlink:href=\"#DejaVuSans-97\"/>\r\n      <use x=\"551.070312\" xlink:href=\"#DejaVuSans-116\"/>\r\n      <use x=\"590.279297\" xlink:href=\"#DejaVuSans-97\"/>\r\n     </g>\r\n    </g>\r\n    <g id=\"patch_28\">\r\n     <path d=\"M 766.672188 81.470437 \r\nL 786.672188 81.470437 \r\nL 786.672188 74.470437 \r\nL 766.672188 74.470437 \r\nz\r\n\" style=\"fill:url(#h700bad3c64);stroke:#000000;stroke-linejoin:miter;\"/>\r\n    </g>\r\n    <g id=\"text_15\">\r\n     <!-- Test data -->\r\n     <g transform=\"translate(794.672188 81.470437)scale(0.1 -0.1)\">\r\n      <use xlink:href=\"#DejaVuSans-84\"/>\r\n      <use x=\"44.083984\" xlink:href=\"#DejaVuSans-101\"/>\r\n      <use x=\"105.607422\" xlink:href=\"#DejaVuSans-115\"/>\r\n      <use x=\"157.707031\" xlink:href=\"#DejaVuSans-116\"/>\r\n      <use x=\"196.916016\" xlink:href=\"#DejaVuSans-32\"/>\r\n      <use x=\"228.703125\" xlink:href=\"#DejaVuSans-100\"/>\r\n      <use x=\"292.179688\" xlink:href=\"#DejaVuSans-97\"/>\r\n      <use x=\"353.458984\" xlink:href=\"#DejaVuSans-116\"/>\r\n      <use x=\"392.667969\" xlink:href=\"#DejaVuSans-97\"/>\r\n     </g>\r\n    </g>\r\n   </g>\r\n  </g>\r\n </g>\r\n <defs>\r\n  <clipPath id=\"pde447c37c4\">\r\n   <rect height=\"108.72\" width=\"669.6\" x=\"59.592187\" y=\"22.318125\"/>\r\n  </clipPath>\r\n </defs>\r\n <defs>\r\n  <pattern height=\"72\" id=\"h700bad3c64\" patternUnits=\"userSpaceOnUse\" width=\"72\" x=\"0\" y=\"0\">\r\n   <rect fill=\"#808080\" height=\"73\" width=\"73\" x=\"0\" y=\"0\"/>\r\n   <path d=\"M -36 36 \r\nL 36 -36 \r\nM -30 42 \r\nL 42 -30 \r\nM -24 48 \r\nL 48 -24 \r\nM -18 54 \r\nL 54 -18 \r\nM -12 60 \r\nL 60 -12 \r\nM -6 66 \r\nL 66 -6 \r\nM 0 72 \r\nL 72 0 \r\nM 6 78 \r\nL 78 6 \r\nM 12 84 \r\nL 84 12 \r\nM 18 90 \r\nL 90 18 \r\nM 24 96 \r\nL 96 24 \r\nM 30 102 \r\nL 102 30 \r\nM 36 108 \r\nL 108 36 \r\n\" style=\"fill:#000000;stroke:#000000;stroke-linecap:butt;stroke-linejoin:miter;stroke-width:1.0;\"/>\r\n  </pattern>\r\n  <pattern height=\"72\" id=\"h9e68ae0c39\" patternUnits=\"userSpaceOnUse\" width=\"72\" x=\"0\" y=\"0\">\r\n   <rect fill=\"#ffffff\" height=\"73\" width=\"73\" x=\"0\" y=\"0\"/>\r\n   <path d=\"M -36 36 \r\nL 36 -36 \r\nM -30 42 \r\nL 42 -30 \r\nM -24 48 \r\nL 48 -24 \r\nM -18 54 \r\nL 54 -18 \r\nM -12 60 \r\nL 60 -12 \r\nM -6 66 \r\nL 66 -6 \r\nM 0 72 \r\nL 72 0 \r\nM 6 78 \r\nL 78 6 \r\nM 12 84 \r\nL 84 12 \r\nM 18 90 \r\nL 90 18 \r\nM 24 96 \r\nL 96 24 \r\nM 30 102 \r\nL 102 30 \r\nM 36 108 \r\nL 108 36 \r\n\" style=\"fill:#000000;stroke:#000000;stroke-linecap:butt;stroke-linejoin:miter;stroke-width:1.0;\"/>\r\n  </pattern>\r\n </defs>\r\n</svg>\r\n",
      "image/png": "[encoded data removed]"
     },
     "metadata": {
      "needs_background": "light"
     }
    }
   ],
   "source": [
    "mglearn.plots.plot_cross_validation()"
   ]
  },
  {
   "cell_type": "code",
   "execution_count": 5,
   "metadata": {},
   "outputs": [],
   "source": [
    "from sklearn.model_selection import cross_val_score\n",
    "from sklearn.datasets import load_iris\n",
    "from sklearn.linear_model import LogisticRegression"
   ]
  },
  {
   "cell_type": "code",
   "execution_count": 6,
   "metadata": {},
   "outputs": [],
   "source": [
    "iris=load_iris()\n",
    "logreg=LogisticRegression() #모델 선택"
   ]
  },
  {
   "cell_type": "code",
   "execution_count": 7,
   "metadata": {},
   "outputs": [
    {
     "output_type": "stream",
     "name": "stdout",
     "text": [
      "교차 검증 점수 : [0.96666667 1.         0.93333333 0.96666667 1.        ]\n"
     ]
    }
   ],
   "source": [
    "score=cross_val_score(logreg, iris.data, iris.target)\n",
    "print('교차 검증 점수 : {}'.format(score))"
   ]
  },
  {
   "source": [
    "### 계층별 iris 데이터 분석"
   ],
   "cell_type": "markdown",
   "metadata": {}
  },
  {
   "cell_type": "code",
   "execution_count": 8,
   "metadata": {},
   "outputs": [
    {
     "output_type": "stream",
     "name": "stdout",
     "text": [
      "iris 레이블 :\n[0 0 0 0 0 0 0 0 0 0 0 0 0 0 0 0 0 0 0 0 0 0 0 0 0 0 0 0 0 0 0 0 0 0 0 0 0\n 0 0 0 0 0 0 0 0 0 0 0 0 0 1 1 1 1 1 1 1 1 1 1 1 1 1 1 1 1 1 1 1 1 1 1 1 1\n 1 1 1 1 1 1 1 1 1 1 1 1 1 1 1 1 1 1 1 1 1 1 1 1 1 1 2 2 2 2 2 2 2 2 2 2 2\n 2 2 2 2 2 2 2 2 2 2 2 2 2 2 2 2 2 2 2 2 2 2 2 2 2 2 2 2 2 2 2 2 2 2 2 2 2\n 2 2]\n"
     ]
    }
   ],
   "source": [
    "from sklearn.datasets import load_iris\n",
    "iris = load_iris()\n",
    "print(\"iris 레이블 :\\n{}\".format(iris.target))"
   ]
  },
  {
   "cell_type": "code",
   "execution_count": 9,
   "metadata": {},
   "outputs": [
    {
     "output_type": "stream",
     "name": "stdout",
     "text": [
      "[0.96666667 1.         0.93333333 0.96666667 1.        ]\n"
     ]
    }
   ],
   "source": [
    "scores=cross_val_score(logreg,iris.data,iris.target, cv=3)\n",
    "print(score)"
   ]
  },
  {
   "cell_type": "code",
   "execution_count": 11,
   "metadata": {},
   "outputs": [],
   "source": [
    "from sklearn.model_selection import KFold"
   ]
  },
  {
   "cell_type": "code",
   "execution_count": 12,
   "metadata": {},
   "outputs": [
    {
     "output_type": "stream",
     "name": "stdout",
     "text": [
      "교차검증 점수 : \n[0. 0. 0.]\n"
     ]
    }
   ],
   "source": [
    "kfold=KFold(n_splits=3)\n",
    "score=cross_val_score(logreg, iris.data,iris.target, cv=kfold)\n",
    "print('교차검증 점수 : \\n{}'.format(score))\n",
    "### KFold는 데이터를 섞지 않고 뽑기 때문에 0이 뜸."
   ]
  },
  {
   "cell_type": "code",
   "execution_count": 13,
   "metadata": {},
   "outputs": [
    {
     "output_type": "stream",
     "name": "stdout",
     "text": [
      "교차검증 점수 : \n[0.98 0.96 0.96]\n"
     ]
    }
   ],
   "source": [
    "kfold=KFold(n_splits=3,shuffle=True,random_state=0)\n",
    "score=cross_val_score(logreg, iris.data,iris.target, cv=kfold)\n",
    "print('교차검증 점수 : \\n{}'.format(score))"
   ]
  },
  {
   "source": [
    "### LOOCV (Leave One Out Cross Validation)\n",
    "* 폴드 하나에 샘플 하나만 들어있는 k겹 교차검증.\n",
    "* 각 반복에 하나의 데이터 포인트를 선택해 테스트 데이터 세트로 제공\n",
    "* 한 세트에 여러겹을 실행하므로 대용량 데이터에는 부적합."
   ],
   "cell_type": "markdown",
   "metadata": {}
  },
  {
   "cell_type": "code",
   "execution_count": 14,
   "metadata": {},
   "outputs": [
    {
     "output_type": "stream",
     "name": "stdout",
     "text": [
      "교차 검증 분할 횟수 :  150\n평균 점수 : 0.97\n"
     ]
    }
   ],
   "source": [
    "from sklearn.model_selection import LeaveOneOut\n",
    "loo=LeaveOneOut()\n",
    "\n",
    "score=cross_val_score(logreg, iris.data, iris.target, cv=loo)\n",
    "\n",
    "print('교차 검증 분할 횟수 : ',len(score))\n",
    "print('평균 점수 : {:.2f}'.format(scores.mean()))"
   ]
  },
  {
   "source": [
    "### 모델 평가\n",
    "* GridSearch\n",
    "    * 하이퍼 파라미터는 사용자가 조정할 수 있는 매개변수."
   ],
   "cell_type": "markdown",
   "metadata": {}
  },
  {
   "cell_type": "code",
   "execution_count": 18,
   "metadata": {},
   "outputs": [],
   "source": [
    "# 코드 재실행용 라이브러리 호출 함수\n",
    "from sklearn.model_selection import train_test_split\n",
    "import mglearn\n",
    "from sklearn.datasets import load_iris\n",
    "from sklearn.model_selection import cross_val_score"
   ]
  },
  {
   "cell_type": "code",
   "execution_count": 16,
   "metadata": {},
   "outputs": [],
   "source": [
    "from sklearn.svm import SVC"
   ]
  },
  {
   "cell_type": "code",
   "execution_count": 17,
   "metadata": {},
   "outputs": [],
   "source": [
    "iris=load_iris()"
   ]
  },
  {
   "cell_type": "code",
   "execution_count": 19,
   "metadata": {},
   "outputs": [],
   "source": [
    "## 데이터 셋 나누기\n",
    "X=iris.data\n",
    "y=iris.target\n",
    "\n",
    "X_train, X_test, y_train, y_test = train_test_split(X,y,random_state=0)"
   ]
  },
  {
   "cell_type": "code",
   "execution_count": 20,
   "metadata": {},
   "outputs": [],
   "source": [
    "### SVC 매개변수 gamma, 규제 매개변수 C"
   ]
  },
  {
   "cell_type": "code",
   "execution_count": 21,
   "metadata": {},
   "outputs": [
    {
     "output_type": "stream",
     "name": "stdout",
     "text": [
      "gamma: 0.001, C: 0.001, score: 0.23684210526315788\ngamma: 0.001, C: 0.01, score: 0.23684210526315788\ngamma: 0.001, C: 0.1, score: 0.23684210526315788\ngamma: 0.001, C: 1, score: 0.5789473684210527\ngamma: 0.001, C: 10, score: 0.9210526315789473\ngamma: 0.001, C: 100, score: 0.9736842105263158\ngamma: 0.01, C: 0.001, score: 0.23684210526315788\ngamma: 0.01, C: 0.01, score: 0.23684210526315788\ngamma: 0.01, C: 0.1, score: 0.5789473684210527\ngamma: 0.01, C: 1, score: 0.9210526315789473\ngamma: 0.01, C: 10, score: 0.9736842105263158\ngamma: 0.01, C: 100, score: 0.9736842105263158\ngamma: 0.1, C: 0.001, score: 0.23684210526315788\ngamma: 0.1, C: 0.01, score: 0.23684210526315788\ngamma: 0.1, C: 0.1, score: 0.9210526315789473\ngamma: 0.1, C: 1, score: 0.9736842105263158\ngamma: 0.1, C: 10, score: 0.9736842105263158\ngamma: 0.1, C: 100, score: 0.9473684210526315\ngamma: 1, C: 0.001, score: 0.23684210526315788\ngamma: 1, C: 0.01, score: 0.23684210526315788\ngamma: 1, C: 0.1, score: 0.9736842105263158\ngamma: 1, C: 1, score: 0.9736842105263158\ngamma: 1, C: 10, score: 0.9736842105263158\ngamma: 1, C: 100, score: 0.9736842105263158\ngamma: 10, C: 0.001, score: 0.23684210526315788\ngamma: 10, C: 0.01, score: 0.23684210526315788\ngamma: 10, C: 0.1, score: 0.2894736842105263\ngamma: 10, C: 1, score: 0.9210526315789473\ngamma: 10, C: 10, score: 0.9210526315789473\ngamma: 10, C: 100, score: 0.9210526315789473\ngamma: 100, C: 0.001, score: 0.23684210526315788\ngamma: 100, C: 0.01, score: 0.23684210526315788\ngamma: 100, C: 0.1, score: 0.23684210526315788\ngamma: 100, C: 1, score: 0.34210526315789475\ngamma: 100, C: 10, score: 0.4473684210526316\ngamma: 100, C: 100, score: 0.4473684210526316\n"
     ]
    }
   ],
   "source": [
    "best_score=0\n",
    "\n",
    "gamma_par=[.001, .01, .1, 1, 10, 100]\n",
    "par_C=[.001,.01,.1,1,10,100]\n",
    "\n",
    "for g in gamma_par:\n",
    "    for pc in par_C:\n",
    "        svm=SVC(gamma=g, C=pc)\n",
    "        svm.fit(X_train, y_train)\n",
    "\n",
    "        # 테스트 세로로 SVC 평가\n",
    "        score = svm.score(X_test,y_test)\n",
    "\n",
    "        print('gamma: {}, C: {}, score: {}'.format(g,pc,score))"
   ]
  },
  {
   "cell_type": "code",
   "execution_count": null,
   "metadata": {},
   "outputs": [],
   "source": []
  }
 ]
}