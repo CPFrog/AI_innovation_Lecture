{
 "cells": [
  {
   "cell_type": "code",
   "execution_count": 20,
   "metadata": {},
   "outputs": [],
   "source": [
    "# 필요 라이브러리 및 파일 불러오기\n",
    "import pandas as pd\n",
    "import numpy as np\n",
    "from matplotlib import pyplot as plt\n",
    "from matplotlib import *\n",
    "import seaborn as sns\n",
    "\n",
    "train = pd.read_csv(\"california_housing_train.csv\") \n",
    "test = pd.read_csv(\"california_housing_test.csv\")"
   ]
  },
  {
   "cell_type": "code",
   "execution_count": 21,
   "metadata": {},
   "outputs": [
    {
     "output_type": "execute_result",
     "data": {
      "text/plain": [
       "       longitude  latitude  housing_median_age  total_rooms  total_bedrooms  \\\n",
       "0        -114.31     34.19                15.0       5612.0          1283.0   \n",
       "1        -114.47     34.40                19.0       7650.0          1901.0   \n",
       "2        -114.56     33.69                17.0        720.0           174.0   \n",
       "3        -114.57     33.64                14.0       1501.0           337.0   \n",
       "4        -114.57     33.57                20.0       1454.0           326.0   \n",
       "...          ...       ...                 ...          ...             ...   \n",
       "16995    -124.26     40.58                52.0       2217.0           394.0   \n",
       "16996    -124.27     40.69                36.0       2349.0           528.0   \n",
       "16997    -124.30     41.84                17.0       2677.0           531.0   \n",
       "16998    -124.30     41.80                19.0       2672.0           552.0   \n",
       "16999    -124.35     40.54                52.0       1820.0           300.0   \n",
       "\n",
       "       population  households  median_income  median_house_value  room_level  \n",
       "0          1015.0       472.0         1.4936             66900.0         1.0  \n",
       "1          1129.0       463.0         1.8200             80100.0         1.0  \n",
       "2           333.0       117.0         1.6509             85700.0         4.0  \n",
       "3           515.0       226.0         3.1917             73400.0         3.0  \n",
       "4           624.0       262.0         1.9250             65500.0         4.0  \n",
       "...           ...         ...            ...                 ...         ...  \n",
       "16995       907.0       369.0         2.3571            111400.0         2.0  \n",
       "16996      1194.0       465.0         2.5179             79000.0         2.0  \n",
       "16997      1244.0       456.0         3.0313            103600.0         2.0  \n",
       "16998      1298.0       478.0         1.9797             85800.0         2.0  \n",
       "16999       806.0       270.0         3.0147             94600.0         3.0  \n",
       "\n",
       "[17000 rows x 10 columns]"
      ],
      "text/html": "<div>\n<style scoped>\n    .dataframe tbody tr th:only-of-type {\n        vertical-align: middle;\n    }\n\n    .dataframe tbody tr th {\n        vertical-align: top;\n    }\n\n    .dataframe thead th {\n        text-align: right;\n    }\n</style>\n<table border=\"1\" class=\"dataframe\">\n  <thead>\n    <tr style=\"text-align: right;\">\n      <th></th>\n      <th>longitude</th>\n      <th>latitude</th>\n      <th>housing_median_age</th>\n      <th>total_rooms</th>\n      <th>total_bedrooms</th>\n      <th>population</th>\n      <th>households</th>\n      <th>median_income</th>\n      <th>median_house_value</th>\n      <th>room_level</th>\n    </tr>\n  </thead>\n  <tbody>\n    <tr>\n      <th>0</th>\n      <td>-114.31</td>\n      <td>34.19</td>\n      <td>15.0</td>\n      <td>5612.0</td>\n      <td>1283.0</td>\n      <td>1015.0</td>\n      <td>472.0</td>\n      <td>1.4936</td>\n      <td>66900.0</td>\n      <td>1.0</td>\n    </tr>\n    <tr>\n      <th>1</th>\n      <td>-114.47</td>\n      <td>34.40</td>\n      <td>19.0</td>\n      <td>7650.0</td>\n      <td>1901.0</td>\n      <td>1129.0</td>\n      <td>463.0</td>\n      <td>1.8200</td>\n      <td>80100.0</td>\n      <td>1.0</td>\n    </tr>\n    <tr>\n      <th>2</th>\n      <td>-114.56</td>\n      <td>33.69</td>\n      <td>17.0</td>\n      <td>720.0</td>\n      <td>174.0</td>\n      <td>333.0</td>\n      <td>117.0</td>\n      <td>1.6509</td>\n      <td>85700.0</td>\n      <td>4.0</td>\n    </tr>\n    <tr>\n      <th>3</th>\n      <td>-114.57</td>\n      <td>33.64</td>\n      <td>14.0</td>\n      <td>1501.0</td>\n      <td>337.0</td>\n      <td>515.0</td>\n      <td>226.0</td>\n      <td>3.1917</td>\n      <td>73400.0</td>\n      <td>3.0</td>\n    </tr>\n    <tr>\n      <th>4</th>\n      <td>-114.57</td>\n      <td>33.57</td>\n      <td>20.0</td>\n      <td>1454.0</td>\n      <td>326.0</td>\n      <td>624.0</td>\n      <td>262.0</td>\n      <td>1.9250</td>\n      <td>65500.0</td>\n      <td>4.0</td>\n    </tr>\n    <tr>\n      <th>...</th>\n      <td>...</td>\n      <td>...</td>\n      <td>...</td>\n      <td>...</td>\n      <td>...</td>\n      <td>...</td>\n      <td>...</td>\n      <td>...</td>\n      <td>...</td>\n      <td>...</td>\n    </tr>\n    <tr>\n      <th>16995</th>\n      <td>-124.26</td>\n      <td>40.58</td>\n      <td>52.0</td>\n      <td>2217.0</td>\n      <td>394.0</td>\n      <td>907.0</td>\n      <td>369.0</td>\n      <td>2.3571</td>\n      <td>111400.0</td>\n      <td>2.0</td>\n    </tr>\n    <tr>\n      <th>16996</th>\n      <td>-124.27</td>\n      <td>40.69</td>\n      <td>36.0</td>\n      <td>2349.0</td>\n      <td>528.0</td>\n      <td>1194.0</td>\n      <td>465.0</td>\n      <td>2.5179</td>\n      <td>79000.0</td>\n      <td>2.0</td>\n    </tr>\n    <tr>\n      <th>16997</th>\n      <td>-124.30</td>\n      <td>41.84</td>\n      <td>17.0</td>\n      <td>2677.0</td>\n      <td>531.0</td>\n      <td>1244.0</td>\n      <td>456.0</td>\n      <td>3.0313</td>\n      <td>103600.0</td>\n      <td>2.0</td>\n    </tr>\n    <tr>\n      <th>16998</th>\n      <td>-124.30</td>\n      <td>41.80</td>\n      <td>19.0</td>\n      <td>2672.0</td>\n      <td>552.0</td>\n      <td>1298.0</td>\n      <td>478.0</td>\n      <td>1.9797</td>\n      <td>85800.0</td>\n      <td>2.0</td>\n    </tr>\n    <tr>\n      <th>16999</th>\n      <td>-124.35</td>\n      <td>40.54</td>\n      <td>52.0</td>\n      <td>1820.0</td>\n      <td>300.0</td>\n      <td>806.0</td>\n      <td>270.0</td>\n      <td>3.0147</td>\n      <td>94600.0</td>\n      <td>3.0</td>\n    </tr>\n  </tbody>\n</table>\n<p>17000 rows × 10 columns</p>\n</div>"
     },
     "metadata": {},
     "execution_count": 21
    }
   ],
   "source": [
    "# 새로운 컬럼 room_level\n",
    "train.loc[train['total_rooms'] > 3151 , 'room_level'] = 1\n",
    "train.loc[(train['total_rooms'] > 2127) & (train['total_rooms'] <= 3151) , 'room_level'] = 2\n",
    "train.loc[(train['total_rooms'] > 1462) & (train['total_rooms'] <= 2127) , 'room_level'] = 3\n",
    "train.loc[train['total_rooms'] <= 1462 , 'room_level'] = 4\n",
    "train"
   ]
  },
  {
   "cell_type": "code",
   "execution_count": 22,
   "metadata": {},
   "outputs": [
    {
     "output_type": "execute_result",
     "data": {
      "text/plain": [
       "             longitude   latitude  housing_median_age  total_rooms  \\\n",
       "room_level                                                           \n",
       "1.0        -119.465031  35.534266           21.170353  5239.102824   \n",
       "2.0        -119.617384  35.660367           28.872145  2581.885566   \n",
       "3.0        -119.570760  35.611163           31.580137  1785.842551   \n",
       "4.0        -119.595268  35.695059           32.731782   969.157264   \n",
       "\n",
       "            total_bedrooms   population  households  median_income  \\\n",
       "room_level                                                           \n",
       "1.0            1021.755529  2583.846118  938.221647       4.475522   \n",
       "2.0             534.408524  1410.986814  499.978338       4.015815   \n",
       "3.0             381.460814  1065.313250  359.089668       3.705447   \n",
       "4.0             220.278091   658.776211  207.839915       3.338093   \n",
       "\n",
       "            median_house_value  \n",
       "room_level                      \n",
       "1.0              234228.251529  \n",
       "2.0              217781.638568  \n",
       "3.0              198040.686514  \n",
       "4.0              179184.754349  "
      ],
      "text/html": "<div>\n<style scoped>\n    .dataframe tbody tr th:only-of-type {\n        vertical-align: middle;\n    }\n\n    .dataframe tbody tr th {\n        vertical-align: top;\n    }\n\n    .dataframe thead th {\n        text-align: right;\n    }\n</style>\n<table border=\"1\" class=\"dataframe\">\n  <thead>\n    <tr style=\"text-align: right;\">\n      <th></th>\n      <th>longitude</th>\n      <th>latitude</th>\n      <th>housing_median_age</th>\n      <th>total_rooms</th>\n      <th>total_bedrooms</th>\n      <th>population</th>\n      <th>households</th>\n      <th>median_income</th>\n      <th>median_house_value</th>\n    </tr>\n    <tr>\n      <th>room_level</th>\n      <th></th>\n      <th></th>\n      <th></th>\n      <th></th>\n      <th></th>\n      <th></th>\n      <th></th>\n      <th></th>\n      <th></th>\n    </tr>\n  </thead>\n  <tbody>\n    <tr>\n      <th>1.0</th>\n      <td>-119.465031</td>\n      <td>35.534266</td>\n      <td>21.170353</td>\n      <td>5239.102824</td>\n      <td>1021.755529</td>\n      <td>2583.846118</td>\n      <td>938.221647</td>\n      <td>4.475522</td>\n      <td>234228.251529</td>\n    </tr>\n    <tr>\n      <th>2.0</th>\n      <td>-119.617384</td>\n      <td>35.660367</td>\n      <td>28.872145</td>\n      <td>2581.885566</td>\n      <td>534.408524</td>\n      <td>1410.986814</td>\n      <td>499.978338</td>\n      <td>4.015815</td>\n      <td>217781.638568</td>\n    </tr>\n    <tr>\n      <th>3.0</th>\n      <td>-119.570760</td>\n      <td>35.611163</td>\n      <td>31.580137</td>\n      <td>1785.842551</td>\n      <td>381.460814</td>\n      <td>1065.313250</td>\n      <td>359.089668</td>\n      <td>3.705447</td>\n      <td>198040.686514</td>\n    </tr>\n    <tr>\n      <th>4.0</th>\n      <td>-119.595268</td>\n      <td>35.695059</td>\n      <td>32.731782</td>\n      <td>969.157264</td>\n      <td>220.278091</td>\n      <td>658.776211</td>\n      <td>207.839915</td>\n      <td>3.338093</td>\n      <td>179184.754349</td>\n    </tr>\n  </tbody>\n</table>\n</div>"
     },
     "metadata": {},
     "execution_count": 22
    }
   ],
   "source": [
    "train.groupby(\"room_level\").mean()"
   ]
  },
  {
   "cell_type": "code",
   "execution_count": 23,
   "metadata": {},
   "outputs": [
    {
     "output_type": "execute_result",
     "data": {
      "text/plain": [
       "            longitude   latitude  housing_median_age  total_rooms  \\\n",
       "room_level                                                          \n",
       "1.0        -507726.38  151020.63             89974.0   22266187.0   \n",
       "2.0        -508015.03  151449.58            122620.0   10965268.0   \n",
       "3.0        -508056.16  151311.83            134184.0    7588045.0   \n",
       "4.0        -508758.27  151846.78            139241.0    4122795.0   \n",
       "\n",
       "            total_bedrooms  population  households  median_income  \\\n",
       "room_level                                                          \n",
       "1.0              4342461.0  10981346.0   3987442.0     19020.9692   \n",
       "2.0              2269633.0   5992461.0   2123408.0     17055.1645   \n",
       "3.0              1620827.0   4526516.0   1525772.0     15744.4449   \n",
       "4.0               937063.0   2802434.0    884151.0     14200.2491   \n",
       "\n",
       "            median_house_value  \n",
       "room_level                      \n",
       "1.0                995470069.0  \n",
       "2.0                924918619.0  \n",
       "3.0                841474877.0  \n",
       "4.0                762251945.0  "
      ],
      "text/html": "<div>\n<style scoped>\n    .dataframe tbody tr th:only-of-type {\n        vertical-align: middle;\n    }\n\n    .dataframe tbody tr th {\n        vertical-align: top;\n    }\n\n    .dataframe thead th {\n        text-align: right;\n    }\n</style>\n<table border=\"1\" class=\"dataframe\">\n  <thead>\n    <tr style=\"text-align: right;\">\n      <th></th>\n      <th>longitude</th>\n      <th>latitude</th>\n      <th>housing_median_age</th>\n      <th>total_rooms</th>\n      <th>total_bedrooms</th>\n      <th>population</th>\n      <th>households</th>\n      <th>median_income</th>\n      <th>median_house_value</th>\n    </tr>\n    <tr>\n      <th>room_level</th>\n      <th></th>\n      <th></th>\n      <th></th>\n      <th></th>\n      <th></th>\n      <th></th>\n      <th></th>\n      <th></th>\n      <th></th>\n    </tr>\n  </thead>\n  <tbody>\n    <tr>\n      <th>1.0</th>\n      <td>-507726.38</td>\n      <td>151020.63</td>\n      <td>89974.0</td>\n      <td>22266187.0</td>\n      <td>4342461.0</td>\n      <td>10981346.0</td>\n      <td>3987442.0</td>\n      <td>19020.9692</td>\n      <td>995470069.0</td>\n    </tr>\n    <tr>\n      <th>2.0</th>\n      <td>-508015.03</td>\n      <td>151449.58</td>\n      <td>122620.0</td>\n      <td>10965268.0</td>\n      <td>2269633.0</td>\n      <td>5992461.0</td>\n      <td>2123408.0</td>\n      <td>17055.1645</td>\n      <td>924918619.0</td>\n    </tr>\n    <tr>\n      <th>3.0</th>\n      <td>-508056.16</td>\n      <td>151311.83</td>\n      <td>134184.0</td>\n      <td>7588045.0</td>\n      <td>1620827.0</td>\n      <td>4526516.0</td>\n      <td>1525772.0</td>\n      <td>15744.4449</td>\n      <td>841474877.0</td>\n    </tr>\n    <tr>\n      <th>4.0</th>\n      <td>-508758.27</td>\n      <td>151846.78</td>\n      <td>139241.0</td>\n      <td>4122795.0</td>\n      <td>937063.0</td>\n      <td>2802434.0</td>\n      <td>884151.0</td>\n      <td>14200.2491</td>\n      <td>762251945.0</td>\n    </tr>\n  </tbody>\n</table>\n</div>"
     },
     "metadata": {},
     "execution_count": 23
    }
   ],
   "source": [
    "train.groupby(\"room_level\").sum()"
   ]
  },
  {
   "cell_type": "code",
   "execution_count": 24,
   "metadata": {},
   "outputs": [
    {
     "output_type": "execute_result",
     "data": {
      "text/plain": [
       "            longitude  latitude  housing_median_age  total_rooms  \\\n",
       "room_level                                                         \n",
       "1.0           -114.31     41.86                52.0      37937.0   \n",
       "2.0           -114.58     41.95                52.0       3151.0   \n",
       "3.0           -114.57     41.95                52.0       2127.0   \n",
       "4.0           -114.56     41.82                52.0       1462.0   \n",
       "\n",
       "            total_bedrooms  population  households  median_income  \\\n",
       "room_level                                                          \n",
       "1.0                 6445.0     35682.0      6082.0        15.0001   \n",
       "2.0                 1944.0      5756.0      1605.0        15.0001   \n",
       "3.0                 1176.0      4731.0      1137.0        15.0001   \n",
       "4.0                  864.0      8733.0       784.0        15.0001   \n",
       "\n",
       "            median_house_value  \n",
       "room_level                      \n",
       "1.0                   500001.0  \n",
       "2.0                   500001.0  \n",
       "3.0                   500001.0  \n",
       "4.0                   500001.0  "
      ],
      "text/html": "<div>\n<style scoped>\n    .dataframe tbody tr th:only-of-type {\n        vertical-align: middle;\n    }\n\n    .dataframe tbody tr th {\n        vertical-align: top;\n    }\n\n    .dataframe thead th {\n        text-align: right;\n    }\n</style>\n<table border=\"1\" class=\"dataframe\">\n  <thead>\n    <tr style=\"text-align: right;\">\n      <th></th>\n      <th>longitude</th>\n      <th>latitude</th>\n      <th>housing_median_age</th>\n      <th>total_rooms</th>\n      <th>total_bedrooms</th>\n      <th>population</th>\n      <th>households</th>\n      <th>median_income</th>\n      <th>median_house_value</th>\n    </tr>\n    <tr>\n      <th>room_level</th>\n      <th></th>\n      <th></th>\n      <th></th>\n      <th></th>\n      <th></th>\n      <th></th>\n      <th></th>\n      <th></th>\n      <th></th>\n    </tr>\n  </thead>\n  <tbody>\n    <tr>\n      <th>1.0</th>\n      <td>-114.31</td>\n      <td>41.86</td>\n      <td>52.0</td>\n      <td>37937.0</td>\n      <td>6445.0</td>\n      <td>35682.0</td>\n      <td>6082.0</td>\n      <td>15.0001</td>\n      <td>500001.0</td>\n    </tr>\n    <tr>\n      <th>2.0</th>\n      <td>-114.58</td>\n      <td>41.95</td>\n      <td>52.0</td>\n      <td>3151.0</td>\n      <td>1944.0</td>\n      <td>5756.0</td>\n      <td>1605.0</td>\n      <td>15.0001</td>\n      <td>500001.0</td>\n    </tr>\n    <tr>\n      <th>3.0</th>\n      <td>-114.57</td>\n      <td>41.95</td>\n      <td>52.0</td>\n      <td>2127.0</td>\n      <td>1176.0</td>\n      <td>4731.0</td>\n      <td>1137.0</td>\n      <td>15.0001</td>\n      <td>500001.0</td>\n    </tr>\n    <tr>\n      <th>4.0</th>\n      <td>-114.56</td>\n      <td>41.82</td>\n      <td>52.0</td>\n      <td>1462.0</td>\n      <td>864.0</td>\n      <td>8733.0</td>\n      <td>784.0</td>\n      <td>15.0001</td>\n      <td>500001.0</td>\n    </tr>\n  </tbody>\n</table>\n</div>"
     },
     "metadata": {},
     "execution_count": 24
    }
   ],
   "source": [
    "train.groupby(\"room_level\").max()"
   ]
  },
  {
   "source": [
    "### 실습. housing_median_age 컬럼 활용한 새로운 column 만들기\n",
    "* 나이대별로 그룹 나누기 (4그룹) 25%, 50%, 75% (describe())\n",
    "* 특징(feature)를 만든다\n",
    "* groupby를 이용해서 값을 확인해보고, 그래프로 시각화 시켜보기"
   ],
   "cell_type": "markdown",
   "metadata": {}
  },
  {
   "cell_type": "code",
   "execution_count": 25,
   "metadata": {},
   "outputs": [
    {
     "output_type": "execute_result",
     "data": {
      "text/plain": [
       "Index(['longitude', 'latitude', 'housing_median_age', 'total_rooms',\n",
       "       'total_bedrooms', 'population', 'households', 'median_income',\n",
       "       'median_house_value', 'room_level'],\n",
       "      dtype='object')"
      ]
     },
     "metadata": {},
     "execution_count": 25
    }
   ],
   "source": [
    "train.columns"
   ]
  },
  {
   "cell_type": "code",
   "execution_count": 26,
   "metadata": {},
   "outputs": [
    {
     "output_type": "execute_result",
     "data": {
      "text/plain": [
       "count    17000.000000\n",
       "mean        28.589353\n",
       "std         12.586937\n",
       "min          1.000000\n",
       "25%         18.000000\n",
       "50%         29.000000\n",
       "75%         37.000000\n",
       "max         52.000000\n",
       "Name: housing_median_age, dtype: float64"
      ]
     },
     "metadata": {},
     "execution_count": 26
    }
   ],
   "source": [
    "train['housing_median_age'].describe()"
   ]
  },
  {
   "cell_type": "code",
   "execution_count": 27,
   "metadata": {},
   "outputs": [
    {
     "output_type": "execute_result",
     "data": {
      "text/plain": [
       "           longitude  latitude  housing_median_age  total_rooms  \\\n",
       "age_level                                                         \n",
       "1.0          -114.31     41.95                18.0      37937.0   \n",
       "2.0          -114.47     41.95                29.0      17738.0   \n",
       "3.0          -114.59     41.79                37.0      14556.0   \n",
       "4.0          -114.59     41.78                52.0       8193.0   \n",
       "\n",
       "           total_bedrooms  population  households  median_income  \\\n",
       "age_level                                                          \n",
       "1.0                6445.0     35682.0      6082.0        15.0001   \n",
       "2.0                4457.0     12427.0      4204.0        15.0001   \n",
       "3.0                2961.0      9879.0      2769.0        15.0001   \n",
       "4.0                2747.0      7443.0      2538.0        15.0001   \n",
       "\n",
       "           median_house_value  room_level  \n",
       "age_level                                  \n",
       "1.0                  500001.0         4.0  \n",
       "2.0                  500001.0         4.0  \n",
       "3.0                  500001.0         4.0  \n",
       "4.0                  500001.0         4.0  "
      ],
      "text/html": "<div>\n<style scoped>\n    .dataframe tbody tr th:only-of-type {\n        vertical-align: middle;\n    }\n\n    .dataframe tbody tr th {\n        vertical-align: top;\n    }\n\n    .dataframe thead th {\n        text-align: right;\n    }\n</style>\n<table border=\"1\" class=\"dataframe\">\n  <thead>\n    <tr style=\"text-align: right;\">\n      <th></th>\n      <th>longitude</th>\n      <th>latitude</th>\n      <th>housing_median_age</th>\n      <th>total_rooms</th>\n      <th>total_bedrooms</th>\n      <th>population</th>\n      <th>households</th>\n      <th>median_income</th>\n      <th>median_house_value</th>\n      <th>room_level</th>\n    </tr>\n    <tr>\n      <th>age_level</th>\n      <th></th>\n      <th></th>\n      <th></th>\n      <th></th>\n      <th></th>\n      <th></th>\n      <th></th>\n      <th></th>\n      <th></th>\n      <th></th>\n    </tr>\n  </thead>\n  <tbody>\n    <tr>\n      <th>1.0</th>\n      <td>-114.31</td>\n      <td>41.95</td>\n      <td>18.0</td>\n      <td>37937.0</td>\n      <td>6445.0</td>\n      <td>35682.0</td>\n      <td>6082.0</td>\n      <td>15.0001</td>\n      <td>500001.0</td>\n      <td>4.0</td>\n    </tr>\n    <tr>\n      <th>2.0</th>\n      <td>-114.47</td>\n      <td>41.95</td>\n      <td>29.0</td>\n      <td>17738.0</td>\n      <td>4457.0</td>\n      <td>12427.0</td>\n      <td>4204.0</td>\n      <td>15.0001</td>\n      <td>500001.0</td>\n      <td>4.0</td>\n    </tr>\n    <tr>\n      <th>3.0</th>\n      <td>-114.59</td>\n      <td>41.79</td>\n      <td>37.0</td>\n      <td>14556.0</td>\n      <td>2961.0</td>\n      <td>9879.0</td>\n      <td>2769.0</td>\n      <td>15.0001</td>\n      <td>500001.0</td>\n      <td>4.0</td>\n    </tr>\n    <tr>\n      <th>4.0</th>\n      <td>-114.59</td>\n      <td>41.78</td>\n      <td>52.0</td>\n      <td>8193.0</td>\n      <td>2747.0</td>\n      <td>7443.0</td>\n      <td>2538.0</td>\n      <td>15.0001</td>\n      <td>500001.0</td>\n      <td>4.0</td>\n    </tr>\n  </tbody>\n</table>\n</div>"
     },
     "metadata": {},
     "execution_count": 27
    }
   ],
   "source": [
    "train.loc[train['housing_median_age'] > 37 , 'age_level'] = 4\n",
    "train.loc[(train['housing_median_age'] > 29) & (train['housing_median_age'] <= 37) , 'age_level'] = 3\n",
    "train.loc[(train['housing_median_age'] > 18) & (train['housing_median_age'] <= 29) , 'age_level'] = 2\n",
    "train.loc[train['housing_median_age'] <= 18 , 'age_level'] = 1\n",
    "train.groupby('age_level').max()"
   ]
  },
  {
   "cell_type": "code",
   "execution_count": 28,
   "metadata": {},
   "outputs": [
    {
     "output_type": "error",
     "ename": "ValueError",
     "evalue": "Could not interpret input 'age_level'",
     "traceback": [
      "\u001b[1;31m---------------------------------------------------------------------------\u001b[0m",
      "\u001b[1;31mValueError\u001b[0m                                Traceback (most recent call last)",
      "\u001b[1;32m<ipython-input-28-84627efdb542>\u001b[0m in \u001b[0;36m<module>\u001b[1;34m\u001b[0m\n\u001b[1;32m----> 1\u001b[1;33m \u001b[0msns\u001b[0m\u001b[1;33m.\u001b[0m\u001b[0mboxplot\u001b[0m\u001b[1;33m(\u001b[0m\u001b[0mx\u001b[0m\u001b[1;33m=\u001b[0m\u001b[1;34m'age_level'\u001b[0m\u001b[1;33m,\u001b[0m \u001b[0my\u001b[0m\u001b[1;33m=\u001b[0m\u001b[1;34m'housing_median_age'\u001b[0m\u001b[1;33m)\u001b[0m\u001b[1;33m\u001b[0m\u001b[1;33m\u001b[0m\u001b[0m\n\u001b[0m",
      "\u001b[1;32mC:\\ProgramData\\Anaconda3\\lib\\site-packages\\seaborn\\_decorators.py\u001b[0m in \u001b[0;36minner_f\u001b[1;34m(*args, **kwargs)\u001b[0m\n\u001b[0;32m     44\u001b[0m             )\n\u001b[0;32m     45\u001b[0m         \u001b[0mkwargs\u001b[0m\u001b[1;33m.\u001b[0m\u001b[0mupdate\u001b[0m\u001b[1;33m(\u001b[0m\u001b[1;33m{\u001b[0m\u001b[0mk\u001b[0m\u001b[1;33m:\u001b[0m \u001b[0marg\u001b[0m \u001b[1;32mfor\u001b[0m \u001b[0mk\u001b[0m\u001b[1;33m,\u001b[0m \u001b[0marg\u001b[0m \u001b[1;32min\u001b[0m \u001b[0mzip\u001b[0m\u001b[1;33m(\u001b[0m\u001b[0msig\u001b[0m\u001b[1;33m.\u001b[0m\u001b[0mparameters\u001b[0m\u001b[1;33m,\u001b[0m \u001b[0margs\u001b[0m\u001b[1;33m)\u001b[0m\u001b[1;33m}\u001b[0m\u001b[1;33m)\u001b[0m\u001b[1;33m\u001b[0m\u001b[1;33m\u001b[0m\u001b[0m\n\u001b[1;32m---> 46\u001b[1;33m         \u001b[1;32mreturn\u001b[0m \u001b[0mf\u001b[0m\u001b[1;33m(\u001b[0m\u001b[1;33m**\u001b[0m\u001b[0mkwargs\u001b[0m\u001b[1;33m)\u001b[0m\u001b[1;33m\u001b[0m\u001b[1;33m\u001b[0m\u001b[0m\n\u001b[0m\u001b[0;32m     47\u001b[0m     \u001b[1;32mreturn\u001b[0m \u001b[0minner_f\u001b[0m\u001b[1;33m\u001b[0m\u001b[1;33m\u001b[0m\u001b[0m\n\u001b[0;32m     48\u001b[0m \u001b[1;33m\u001b[0m\u001b[0m\n",
      "\u001b[1;32mC:\\ProgramData\\Anaconda3\\lib\\site-packages\\seaborn\\categorical.py\u001b[0m in \u001b[0;36mboxplot\u001b[1;34m(x, y, hue, data, order, hue_order, orient, color, palette, saturation, width, dodge, fliersize, linewidth, whis, ax, **kwargs)\u001b[0m\n\u001b[0;32m   2228\u001b[0m ):\n\u001b[0;32m   2229\u001b[0m \u001b[1;33m\u001b[0m\u001b[0m\n\u001b[1;32m-> 2230\u001b[1;33m     plotter = _BoxPlotter(x, y, hue, data, order, hue_order,\n\u001b[0m\u001b[0;32m   2231\u001b[0m                           \u001b[0morient\u001b[0m\u001b[1;33m,\u001b[0m \u001b[0mcolor\u001b[0m\u001b[1;33m,\u001b[0m \u001b[0mpalette\u001b[0m\u001b[1;33m,\u001b[0m \u001b[0msaturation\u001b[0m\u001b[1;33m,\u001b[0m\u001b[1;33m\u001b[0m\u001b[1;33m\u001b[0m\u001b[0m\n\u001b[0;32m   2232\u001b[0m                           width, dodge, fliersize, linewidth)\n",
      "\u001b[1;32mC:\\ProgramData\\Anaconda3\\lib\\site-packages\\seaborn\\categorical.py\u001b[0m in \u001b[0;36m__init__\u001b[1;34m(self, x, y, hue, data, order, hue_order, orient, color, palette, saturation, width, dodge, fliersize, linewidth)\u001b[0m\n\u001b[0;32m    404\u001b[0m                  width, dodge, fliersize, linewidth):\n\u001b[0;32m    405\u001b[0m \u001b[1;33m\u001b[0m\u001b[0m\n\u001b[1;32m--> 406\u001b[1;33m         \u001b[0mself\u001b[0m\u001b[1;33m.\u001b[0m\u001b[0mestablish_variables\u001b[0m\u001b[1;33m(\u001b[0m\u001b[0mx\u001b[0m\u001b[1;33m,\u001b[0m \u001b[0my\u001b[0m\u001b[1;33m,\u001b[0m \u001b[0mhue\u001b[0m\u001b[1;33m,\u001b[0m \u001b[0mdata\u001b[0m\u001b[1;33m,\u001b[0m \u001b[0morient\u001b[0m\u001b[1;33m,\u001b[0m \u001b[0morder\u001b[0m\u001b[1;33m,\u001b[0m \u001b[0mhue_order\u001b[0m\u001b[1;33m)\u001b[0m\u001b[1;33m\u001b[0m\u001b[1;33m\u001b[0m\u001b[0m\n\u001b[0m\u001b[0;32m    407\u001b[0m         \u001b[0mself\u001b[0m\u001b[1;33m.\u001b[0m\u001b[0mestablish_colors\u001b[0m\u001b[1;33m(\u001b[0m\u001b[0mcolor\u001b[0m\u001b[1;33m,\u001b[0m \u001b[0mpalette\u001b[0m\u001b[1;33m,\u001b[0m \u001b[0msaturation\u001b[0m\u001b[1;33m)\u001b[0m\u001b[1;33m\u001b[0m\u001b[1;33m\u001b[0m\u001b[0m\n\u001b[0;32m    408\u001b[0m \u001b[1;33m\u001b[0m\u001b[0m\n",
      "\u001b[1;32mC:\\ProgramData\\Anaconda3\\lib\\site-packages\\seaborn\\categorical.py\u001b[0m in \u001b[0;36mestablish_variables\u001b[1;34m(self, x, y, hue, data, orient, order, hue_order, units)\u001b[0m\n\u001b[0;32m    151\u001b[0m                 \u001b[1;32mif\u001b[0m \u001b[0misinstance\u001b[0m\u001b[1;33m(\u001b[0m\u001b[0mvar\u001b[0m\u001b[1;33m,\u001b[0m \u001b[0mstr\u001b[0m\u001b[1;33m)\u001b[0m\u001b[1;33m:\u001b[0m\u001b[1;33m\u001b[0m\u001b[1;33m\u001b[0m\u001b[0m\n\u001b[0;32m    152\u001b[0m                     \u001b[0merr\u001b[0m \u001b[1;33m=\u001b[0m \u001b[1;34m\"Could not interpret input '{}'\"\u001b[0m\u001b[1;33m.\u001b[0m\u001b[0mformat\u001b[0m\u001b[1;33m(\u001b[0m\u001b[0mvar\u001b[0m\u001b[1;33m)\u001b[0m\u001b[1;33m\u001b[0m\u001b[1;33m\u001b[0m\u001b[0m\n\u001b[1;32m--> 153\u001b[1;33m                     \u001b[1;32mraise\u001b[0m \u001b[0mValueError\u001b[0m\u001b[1;33m(\u001b[0m\u001b[0merr\u001b[0m\u001b[1;33m)\u001b[0m\u001b[1;33m\u001b[0m\u001b[1;33m\u001b[0m\u001b[0m\n\u001b[0m\u001b[0;32m    154\u001b[0m \u001b[1;33m\u001b[0m\u001b[0m\n\u001b[0;32m    155\u001b[0m             \u001b[1;31m# Figure out the plotting orientation\u001b[0m\u001b[1;33m\u001b[0m\u001b[1;33m\u001b[0m\u001b[1;33m\u001b[0m\u001b[0m\n",
      "\u001b[1;31mValueError\u001b[0m: Could not interpret input 'age_level'"
     ]
    }
   ],
   "source": [
    "sns.boxplot(x='age_level', y='housing_median_age')"
   ]
  },
  {
   "cell_type": "code",
   "execution_count": null,
   "metadata": {},
   "outputs": [],
   "source": []
  },
  {
   "cell_type": "code",
   "execution_count": null,
   "metadata": {},
   "outputs": [],
   "source": []
  }
 ],
 "metadata": {
  "kernelspec": {
   "display_name": "Python 3",
   "language": "python",
   "name": "python3"
  },
  "language_info": {
   "codemirror_mode": {
    "name": "ipython",
    "version": 3
   },
   "file_extension": ".py",
   "mimetype": "text/x-python",
   "name": "python",
   "nbconvert_exporter": "python",
   "pygments_lexer": "ipython3",
   "version": "3.8.5-final"
  }
 },
 "nbformat": 4,
 "nbformat_minor": 4
}