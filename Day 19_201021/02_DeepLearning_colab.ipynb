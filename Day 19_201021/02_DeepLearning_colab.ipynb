{
  "nbformat": 4,
  "nbformat_minor": 0,
  "metadata": {
    "colab": {
      "name": "201021_02_DeepLearning.ipynb",
      "provenance": [],
      "collapsed_sections": [],
      "toc_visible": true
    },
    "kernelspec": {
      "name": "python3",
      "display_name": "Python 3"
    }
  },
  "cells": [
    {
      "cell_type": "code",
      "metadata": {
        "id": "M1pcaFMck_XU"
      },
      "source": [
        "import tensorflow as tf\n",
        "import keras\n",
        "import numpy as np\n",
        "import sys\n",
        "import pandas as pd\n",
        "\n",
        "### 머신러닝 - 딥러닝\n",
        "\n",
        "from keras.models import Sequential\n",
        "from keras.layers import Dense\n",
        "\n",
        "# 십진 숫자를 0,1의 구성으로\n",
        "\n",
        "from keras.utils import np_utils \n",
        "from keras.datasets import mnist"
      ],
      "execution_count": null,
      "outputs": []
    },
    {
      "cell_type": "markdown",
      "metadata": {
        "id": "56Cn0EeLOfZR"
      },
      "source": [
        "### 첫번째 모델 - 기본 모델"
      ]
    },
    {
      "cell_type": "code",
      "metadata": {
        "id": "_obW3_Rk4vhp"
      },
      "source": [
        "(x_train, y_train),(x_test,y_test)=mnist.load_data()"
      ],
      "execution_count": null,
      "outputs": []
    },
    {
      "cell_type": "code",
      "metadata": {
        "id": "JnKNYGevJ3Qs"
      },
      "source": [
        "X_train = x_train.reshape(60000, 784).astype('float32') / 255.0\n",
        "X_test = x_test.reshape(10000, 784).astype('float32') / 255.0\n",
        "Y_train = np_utils.to_categorical(y_train)\n",
        "Y_test = np_utils.to_categorical(y_test)"
      ],
      "execution_count": null,
      "outputs": []
    },
    {
      "cell_type": "code",
      "metadata": {
        "id": "CfVarkFaLcnl"
      },
      "source": [
        "model = Sequential()\n",
        "model.add( Dense(units=16, input_dim=28*28, activation='tanh'))  # 입력층(28*28=784노드) - 은닉층(64개노드)\n",
        "model.add(Dense(units=10, activation='softmax'))                # 출력층(10개 노드) "
      ],
      "execution_count": null,
      "outputs": []
    },
    {
      "cell_type": "code",
      "metadata": {
        "id": "YsxxJof_LmSl"
      },
      "source": [
        "model.compile(loss='categorical_crossentropy', \n",
        "              optimizer='sgd', metrics=['accuracy'])"
      ],
      "execution_count": null,
      "outputs": []
    },
    {
      "cell_type": "code",
      "metadata": {
        "id": "i5X5d7lgLn55",
        "colab": {
          "base_uri": "https://localhost:8080/",
          "height": 377
        },
        "outputId": "c1304d98-e9b6-4cc0-9d04-5d35753bec16"
      },
      "source": [
        "# hist = model.fit(x_train, y_train, epochs=5, batch_size=32)\n",
        "hist = model.fit(X_train, Y_train, epochs=10, batch_size=32)"
      ],
      "execution_count": null,
      "outputs": [
        {
          "output_type": "stream",
          "text": [
            "Epoch 1/10\n",
            "1875/1875 [==============================] - 2s 1ms/step - loss: 0.8726 - accuracy: 0.7944\n",
            "Epoch 2/10\n",
            "1875/1875 [==============================] - 2s 1ms/step - loss: 0.4445 - accuracy: 0.8874\n",
            "Epoch 3/10\n",
            "1875/1875 [==============================] - 2s 1ms/step - loss: 0.3658 - accuracy: 0.9019\n",
            "Epoch 4/10\n",
            "1875/1875 [==============================] - 2s 1ms/step - loss: 0.3281 - accuracy: 0.9101\n",
            "Epoch 5/10\n",
            "1875/1875 [==============================] - 2s 1ms/step - loss: 0.3039 - accuracy: 0.9159\n",
            "Epoch 6/10\n",
            "1875/1875 [==============================] - 2s 1ms/step - loss: 0.2863 - accuracy: 0.9209\n",
            "Epoch 7/10\n",
            "1875/1875 [==============================] - 2s 1ms/step - loss: 0.2728 - accuracy: 0.9246\n",
            "Epoch 8/10\n",
            "1875/1875 [==============================] - 2s 1ms/step - loss: 0.2616 - accuracy: 0.9273\n",
            "Epoch 9/10\n",
            "1875/1875 [==============================] - 2s 1ms/step - loss: 0.2522 - accuracy: 0.9304\n",
            "Epoch 10/10\n",
            "1875/1875 [==============================] - 2s 1ms/step - loss: 0.2441 - accuracy: 0.9326\n"
          ],
          "name": "stdout"
        }
      ]
    },
    {
      "cell_type": "code",
      "metadata": {
        "id": "JQxtcPcYLqrw",
        "colab": {
          "base_uri": "https://localhost:8080/",
          "height": 71
        },
        "outputId": "9e5dde6c-5f69-4716-cd88-b45b7be29809"
      },
      "source": [
        "loss_and_metrics = model.evaluate(X_test, Y_test, batch_size=32)\n",
        "print('## evaluation loss and_metrics ##')\n",
        "print(loss_and_metrics)  # 최종 데이터 loss와 정확도(accuracy)"
      ],
      "execution_count": null,
      "outputs": [
        {
          "output_type": "stream",
          "text": [
            "313/313 [==============================] - 0s 1ms/step - loss: 0.2391 - accuracy: 0.9327\n",
            "## evaluation loss and_metrics ##\n",
            "[0.23906618356704712, 0.932699978351593]\n"
          ],
          "name": "stdout"
        }
      ]
    },
    {
      "cell_type": "markdown",
      "metadata": {
        "id": "ruObSOdZL0C2"
      },
      "source": [
        "### 두번째 모델 - 은닉층 2개"
      ]
    },
    {
      "cell_type": "code",
      "metadata": {
        "id": "7LPUjLQfLsLj"
      },
      "source": [
        "model = Sequential()\n",
        "model.add( Dense(units=16, input_dim=28*28, activation='tanh'))  # 입력층(28*28=784노드) - 은닉층(64개노드)\n",
        "model.add( Dense(16, activation='tanh'))\n",
        "model.add( Dense(16, activation='tanh'))\n",
        "model.add(Dense(units=10, activation='softmax'))                # 출력층(10개 노드) "
      ],
      "execution_count": null,
      "outputs": []
    },
    {
      "cell_type": "code",
      "metadata": {
        "id": "f5AG0YxVLx8Q",
        "colab": {
          "base_uri": "https://localhost:8080/",
          "height": 377
        },
        "outputId": "62421231-07ca-40b0-a98d-73c6dd6c08b7"
      },
      "source": [
        "model.compile(loss='categorical_crossentropy', \n",
        "              optimizer='sgd', metrics=['accuracy'])\n",
        "hist = model.fit(X_train, Y_train, epochs=10, batch_size=32)"
      ],
      "execution_count": null,
      "outputs": [
        {
          "output_type": "stream",
          "text": [
            "Epoch 1/10\n",
            "1875/1875 [==============================] - 2s 1ms/step - loss: 1.0312 - accuracy: 0.7272\n",
            "Epoch 2/10\n",
            "1875/1875 [==============================] - 2s 1ms/step - loss: 0.4724 - accuracy: 0.8805\n",
            "Epoch 3/10\n",
            "1875/1875 [==============================] - 2s 1ms/step - loss: 0.3628 - accuracy: 0.9029\n",
            "Epoch 4/10\n",
            "1875/1875 [==============================] - 2s 1ms/step - loss: 0.3137 - accuracy: 0.9136\n",
            "Epoch 5/10\n",
            "1875/1875 [==============================] - 2s 1ms/step - loss: 0.2829 - accuracy: 0.9215\n",
            "Epoch 6/10\n",
            "1875/1875 [==============================] - 2s 1ms/step - loss: 0.2591 - accuracy: 0.9271\n",
            "Epoch 7/10\n",
            "1875/1875 [==============================] - 2s 1ms/step - loss: 0.2394 - accuracy: 0.9331\n",
            "Epoch 8/10\n",
            "1875/1875 [==============================] - 2s 1ms/step - loss: 0.2235 - accuracy: 0.9367\n",
            "Epoch 9/10\n",
            "1875/1875 [==============================] - 2s 1ms/step - loss: 0.2096 - accuracy: 0.9411\n",
            "Epoch 10/10\n",
            "1875/1875 [==============================] - 2s 1ms/step - loss: 0.1982 - accuracy: 0.9432\n"
          ],
          "name": "stdout"
        }
      ]
    },
    {
      "cell_type": "code",
      "metadata": {
        "id": "JEGGw99pL3jk",
        "colab": {
          "base_uri": "https://localhost:8080/",
          "height": 71
        },
        "outputId": "b7350f8d-9b20-4825-c0c3-7d923a99b872"
      },
      "source": [
        "loss_and_metrics = model.evaluate(X_test, Y_test, batch_size=32)\n",
        "print('## evaluation loss and_metrics ##')\n",
        "print(loss_and_metrics)  # 최종 데이터 loss와 정확도(accuracy)"
      ],
      "execution_count": null,
      "outputs": [
        {
          "output_type": "stream",
          "text": [
            "313/313 [==============================] - 0s 1ms/step - loss: 0.2066 - accuracy: 0.9399\n",
            "## evaluation loss and_metrics ##\n",
            "[0.20655839145183563, 0.9398999810218811]\n"
          ],
          "name": "stdout"
        }
      ]
    },
    {
      "cell_type": "markdown",
      "metadata": {
        "id": "4BiORUA_L8cM"
      },
      "source": [
        "### 세번째 모델 - 활성화 함수 tanh -> relu\n",
        "* tanh 에서 relu로 가면 오차범위 내의 동일성능을 보인다."
      ]
    },
    {
      "cell_type": "code",
      "metadata": {
        "id": "ufy7w8CYMH5W"
      },
      "source": [
        "model = Sequential()\n",
        "model.add( Dense(units=16, input_dim=28*28, activation='relu'))  # 입력층(28*28=784노드) - 은닉층(64개노드)\n",
        "model.add( Dense(16, activation='tanh'))\n",
        "model.add( Dense(16, activation='tanh'))\n",
        "model.add(Dense(units=10, activation='softmax'))                # 출력층(10개 노드) "
      ],
      "execution_count": null,
      "outputs": []
    },
    {
      "cell_type": "code",
      "metadata": {
        "id": "YI7zRRvBMLuV",
        "colab": {
          "base_uri": "https://localhost:8080/",
          "height": 377
        },
        "outputId": "ae16250c-fde7-492a-9ec8-d5e1d753d227"
      },
      "source": [
        "model.compile(loss='categorical_crossentropy', \n",
        "              optimizer='sgd', metrics=['accuracy'])\n",
        "hist = model.fit(X_train, Y_train, epochs=10, batch_size=32)"
      ],
      "execution_count": null,
      "outputs": [
        {
          "output_type": "stream",
          "text": [
            "Epoch 1/10\n",
            "1875/1875 [==============================] - 3s 1ms/step - loss: 1.0447 - accuracy: 0.7284\n",
            "Epoch 2/10\n",
            "1875/1875 [==============================] - 2s 1ms/step - loss: 0.4314 - accuracy: 0.8901\n",
            "Epoch 3/10\n",
            "1875/1875 [==============================] - 2s 1ms/step - loss: 0.3209 - accuracy: 0.9135\n",
            "Epoch 4/10\n",
            "1875/1875 [==============================] - 2s 1ms/step - loss: 0.2689 - accuracy: 0.9249\n",
            "Epoch 5/10\n",
            "1875/1875 [==============================] - 2s 1ms/step - loss: 0.2369 - accuracy: 0.9330\n",
            "Epoch 6/10\n",
            "1875/1875 [==============================] - 2s 1ms/step - loss: 0.2146 - accuracy: 0.9391\n",
            "Epoch 7/10\n",
            "1875/1875 [==============================] - 2s 1ms/step - loss: 0.1980 - accuracy: 0.9427\n",
            "Epoch 8/10\n",
            "1875/1875 [==============================] - 2s 1ms/step - loss: 0.1855 - accuracy: 0.9467\n",
            "Epoch 9/10\n",
            "1875/1875 [==============================] - 2s 1ms/step - loss: 0.1761 - accuracy: 0.9489\n",
            "Epoch 10/10\n",
            "1875/1875 [==============================] - 2s 1ms/step - loss: 0.1675 - accuracy: 0.9516\n"
          ],
          "name": "stdout"
        }
      ]
    },
    {
      "cell_type": "code",
      "metadata": {
        "id": "t5uEiLQPML4U",
        "colab": {
          "base_uri": "https://localhost:8080/",
          "height": 71
        },
        "outputId": "03dcd978-1703-421a-adb3-3f030c0d5761"
      },
      "source": [
        "loss_and_metrics = model.evaluate(X_test, Y_test, batch_size=32)\n",
        "print('## evaluation loss and_metrics ##')\n",
        "print(loss_and_metrics)  # 최종 데이터 loss와 정확도(accuracy)"
      ],
      "execution_count": null,
      "outputs": [
        {
          "output_type": "stream",
          "text": [
            "313/313 [==============================] - 0s 922us/step - loss: 0.1803 - accuracy: 0.9484\n",
            "## evaluation loss and_metrics ##\n",
            "[0.18025778234004974, 0.9484000205993652]\n"
          ],
          "name": "stdout"
        }
      ]
    },
    {
      "cell_type": "markdown",
      "metadata": {
        "id": "0avHUHtSMz7t"
      },
      "source": [
        "### 네번째 모델 - 노드 수를 64개로 늘려보기\n",
        "* 은닉층의 노드수를 늘렸더니 성능의 향상이 있었음."
      ]
    },
    {
      "cell_type": "code",
      "metadata": {
        "id": "khYr3A_mNpb7"
      },
      "source": [
        "model = Sequential()\n",
        "model.add( Dense(units=64, input_dim=28*28, activation='relu'))\n",
        "model.add( Dense(16, activation='tanh'))\n",
        "model.add( Dense(16, activation='tanh'))\n",
        "model.add(Dense(units=10, activation='softmax'))"
      ],
      "execution_count": null,
      "outputs": []
    },
    {
      "cell_type": "code",
      "metadata": {
        "id": "bFFaHApDNzd0",
        "colab": {
          "base_uri": "https://localhost:8080/",
          "height": 377
        },
        "outputId": "7258bec5-3a25-403c-fdaa-c81e7c628006"
      },
      "source": [
        "model.compile(loss='categorical_crossentropy', \n",
        "              optimizer='sgd', metrics=['accuracy'])\n",
        "hist = model.fit(X_train, Y_train, epochs=10, batch_size=32)"
      ],
      "execution_count": null,
      "outputs": [
        {
          "output_type": "stream",
          "text": [
            "Epoch 1/10\n",
            "1875/1875 [==============================] - 4s 2ms/step - loss: 0.8880 - accuracy: 0.7782\n",
            "Epoch 2/10\n",
            "1875/1875 [==============================] - 3s 2ms/step - loss: 0.3505 - accuracy: 0.9138\n",
            "Epoch 3/10\n",
            "1875/1875 [==============================] - 3s 1ms/step - loss: 0.2509 - accuracy: 0.9341\n",
            "Epoch 4/10\n",
            "1875/1875 [==============================] - 3s 2ms/step - loss: 0.2043 - accuracy: 0.9442\n",
            "Epoch 5/10\n",
            "1875/1875 [==============================] - 3s 2ms/step - loss: 0.1741 - accuracy: 0.9527\n",
            "Epoch 6/10\n",
            "1875/1875 [==============================] - 3s 2ms/step - loss: 0.1528 - accuracy: 0.9581\n",
            "Epoch 7/10\n",
            "1875/1875 [==============================] - 2s 1ms/step - loss: 0.1360 - accuracy: 0.9630\n",
            "Epoch 8/10\n",
            "1875/1875 [==============================] - 2s 1ms/step - loss: 0.1229 - accuracy: 0.9667\n",
            "Epoch 9/10\n",
            "1875/1875 [==============================] - 2s 1ms/step - loss: 0.1112 - accuracy: 0.9696\n",
            "Epoch 10/10\n",
            "1875/1875 [==============================] - 2s 1ms/step - loss: 0.1019 - accuracy: 0.9723\n"
          ],
          "name": "stdout"
        }
      ]
    },
    {
      "cell_type": "code",
      "metadata": {
        "id": "9JuTL8a1NzwH",
        "colab": {
          "base_uri": "https://localhost:8080/",
          "height": 71
        },
        "outputId": "5c9deb06-8bd0-4c15-b5c0-024f66bd79ab"
      },
      "source": [
        "loss_and_metrics = model.evaluate(X_test, Y_test, batch_size=32)\n",
        "print('## evaluation loss and_metrics ##')\n",
        "print(loss_and_metrics) "
      ],
      "execution_count": null,
      "outputs": [
        {
          "output_type": "stream",
          "text": [
            "313/313 [==============================] - 0s 1ms/step - loss: 0.1188 - accuracy: 0.9652\n",
            "## evaluation loss and_metrics ##\n",
            "[0.118838369846344, 0.9652000069618225]\n"
          ],
          "name": "stdout"
        }
      ]
    },
    {
      "cell_type": "markdown",
      "metadata": {
        "id": "pFYrzzeWN4UG"
      },
      "source": [
        "### 4-1 노드 수를 미친듯이 늘려보자"
      ]
    },
    {
      "cell_type": "code",
      "metadata": {
        "id": "cynfQGj-OMQd"
      },
      "source": [
        "model = Sequential()\n",
        "model.add( Dense(units=8196, input_dim=28*28, activation='relu'))\n",
        "model.add( Dense(16, activation='tanh'))\n",
        "model.add( Dense(16, activation='tanh'))\n",
        "model.add(Dense(units=10, activation='softmax'))"
      ],
      "execution_count": null,
      "outputs": []
    },
    {
      "cell_type": "code",
      "metadata": {
        "id": "gTnD2HEyOP6r",
        "colab": {
          "base_uri": "https://localhost:8080/",
          "height": 377
        },
        "outputId": "fb80c781-1d06-4462-ffe6-d4ddc0ff68f4"
      },
      "source": [
        "model.compile(loss='categorical_crossentropy', \n",
        "              optimizer='sgd', metrics=['accuracy'])\n",
        "hist = model.fit(X_train, Y_train, epochs=10, batch_size=32)"
      ],
      "execution_count": null,
      "outputs": [
        {
          "output_type": "stream",
          "text": [
            "Epoch 1/10\n",
            "1875/1875 [==============================] - 56s 30ms/step - loss: 0.7303 - accuracy: 0.8572\n",
            "Epoch 2/10\n",
            "1875/1875 [==============================] - 57s 30ms/step - loss: 0.2769 - accuracy: 0.9345\n",
            "Epoch 3/10\n",
            "1875/1875 [==============================] - 56s 30ms/step - loss: 0.1880 - accuracy: 0.9529\n",
            "Epoch 4/10\n",
            "1875/1875 [==============================] - 56s 30ms/step - loss: 0.1427 - accuracy: 0.9636\n",
            "Epoch 5/10\n",
            "1875/1875 [==============================] - 56s 30ms/step - loss: 0.1136 - accuracy: 0.9718\n",
            "Epoch 6/10\n",
            "1875/1875 [==============================] - 55s 30ms/step - loss: 0.0929 - accuracy: 0.9773\n",
            "Epoch 7/10\n",
            "1875/1875 [==============================] - 59s 32ms/step - loss: 0.0772 - accuracy: 0.9815\n",
            "Epoch 8/10\n",
            "1875/1875 [==============================] - 57s 30ms/step - loss: 0.0651 - accuracy: 0.9844\n",
            "Epoch 9/10\n",
            "1875/1875 [==============================] - 56s 30ms/step - loss: 0.0548 - accuracy: 0.9880\n",
            "Epoch 10/10\n",
            "1875/1875 [==============================] - 56s 30ms/step - loss: 0.0468 - accuracy: 0.9899\n"
          ],
          "name": "stdout"
        }
      ]
    },
    {
      "cell_type": "code",
      "metadata": {
        "id": "O9jk19kfOR_y",
        "colab": {
          "base_uri": "https://localhost:8080/",
          "height": 71
        },
        "outputId": "5a4d311d-9edc-4360-8a8b-8a4901357f0a"
      },
      "source": [
        "loss_and_metrics = model.evaluate(X_test, Y_test, batch_size=32)\n",
        "print('## evaluation loss and_metrics ##')\n",
        "print(loss_and_metrics) "
      ],
      "execution_count": null,
      "outputs": [
        {
          "output_type": "stream",
          "text": [
            "313/313 [==============================] - 4s 13ms/step - loss: 0.0734 - accuracy: 0.9794\n",
            "## evaluation loss and_metrics ##\n",
            "[0.07337331771850586, 0.9793999791145325]\n"
          ],
          "name": "stdout"
        }
      ]
    },
    {
      "cell_type": "code",
      "metadata": {
        "id": "VCIXjL2bOU4D"
      },
      "source": [
        ""
      ],
      "execution_count": null,
      "outputs": []
    }
  ]
}