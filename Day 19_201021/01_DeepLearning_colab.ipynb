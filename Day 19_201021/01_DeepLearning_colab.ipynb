{
  "nbformat": 4,
  "nbformat_minor": 0,
  "metadata": {
    "colab": {
      "name": "201021_01_DL.ipynb",
      "provenance": [],
      "collapsed_sections": []
    },
    "kernelspec": {
      "name": "python3",
      "display_name": "Python 3"
    }
  },
  "cells": [
    {
      "cell_type": "markdown",
      "metadata": {
        "id": "yabi9z7siZyl"
      },
      "source": [
        "### 딥러닝"
      ]
    },
    {
      "cell_type": "code",
      "metadata": {
        "id": "M1pcaFMck_XU"
      },
      "source": [
        "import tensorflow as tf\n",
        "import keras\n",
        "import numpy as np\n",
        "import sys\n",
        "import pandas as pd"
      ],
      "execution_count": null,
      "outputs": []
    },
    {
      "cell_type": "code",
      "metadata": {
        "id": "BVmTEvmElEQa",
        "colab": {
          "base_uri": "https://localhost:8080/",
          "height": 89
        },
        "outputId": "b9331b2c-faea-4869-ac2d-c039cbe3a5a4"
      },
      "source": [
        "print(tf.__version__)\n",
        "print(keras.__version__)\n",
        "print(sys.version)"
      ],
      "execution_count": null,
      "outputs": [
        {
          "output_type": "stream",
          "text": [
            "2.3.0\n",
            "2.4.3\n",
            "3.6.9 (default, Jul 17 2020, 12:50:27) \n",
            "[GCC 8.4.0]\n"
          ],
          "name": "stdout"
        }
      ]
    },
    {
      "cell_type": "code",
      "metadata": {
        "id": "bigNXzEhlTfU"
      },
      "source": [
        "train=pd.read_csv('train.csv', parse_dates=['datetime'])\n",
        "test=pd.read_csv('test.csv', parse_dates=['datetime'])\n",
        "sub=pd.read_csv('sampleSubmission.csv')"
      ],
      "execution_count": null,
      "outputs": []
    },
    {
      "cell_type": "code",
      "metadata": {
        "id": "fZqLQXMynA-l"
      },
      "source": [
        "input_col = ['temp', 'atemp']   # 온도, 체감온도\n",
        "X = train[input_col]   # 학습 데이터의 입력\n",
        "Y = train['count']     # 학습 데이터의 출력\n",
        "\n",
        "# 새로운 데이터\n",
        "X_test = test[input_col]"
      ],
      "execution_count": null,
      "outputs": []
    },
    {
      "cell_type": "code",
      "metadata": {
        "id": "93ziCxrRngxL"
      },
      "source": [
        "### 머신러닝 - 딥러닝\n",
        "\n",
        "from keras.models import Sequential\n",
        "from keras.layers import Dense"
      ],
      "execution_count": null,
      "outputs": []
    },
    {
      "cell_type": "code",
      "metadata": {
        "id": "ioq0geTLn5Bm"
      },
      "source": [
        "model=Sequential()\n",
        "\n",
        "# input_dim : 입력층의 노드수\n",
        "# 30 : 입력층 다음의 노드 수\n",
        "model.add(Dense(30,input_dim=3, activation='relu'))\n",
        "model.add(Dense(15,'relu'))\n",
        "model.add(Dense(15,'relu'))\n",
        "model.add(Dense(1))"
      ],
      "execution_count": null,
      "outputs": []
    },
    {
      "cell_type": "markdown",
      "metadata": {
        "id": "muBQ4mFkosVg"
      },
      "source": [
        "### 미니배치의 이해\n",
        "* 이미지 하나씩 학습시키는 것보다 여러 개를 한꺼번에 학습시키는 쪽이 효과가 좋음\n",
        "* 많은 메모리와 높은 컴퓨터 성능이 필요하므로 일반적으로 데이터를 적당한 크기로 잘라서 학습시킨다. 이를 **미니배치** 라고 한다."
      ]
    },
    {
      "cell_type": "markdown",
      "metadata": {
        "id": "lcUe79QhqBbU"
      },
      "source": [
        "### 딥러닝 실행"
      ]
    },
    {
      "cell_type": "code",
      "metadata": {
        "id": "VN6X6U5eqIYl",
        "colab": {
          "base_uri": "https://localhost:8080/",
          "height": 755
        },
        "outputId": "6659bcc3-b83b-4a31-8b8c-03cf82893497"
      },
      "source": [
        "# 오차 함수, 최적화 함수\n",
        "model.compile(loss='mean_squared_error', optimizer='rmsprop')\n",
        "\n",
        "# epochs = 데이터가 10000개가 있을 때 몇 번 훈련시킬 건지\n",
        "# batch_size = 한 번 훈련시킬 때, 데이터를 몇개씩 할건지\n",
        "model.fit(X,Y,epochs=20,batch_size=10)"
      ],
      "execution_count": null,
      "outputs": [
        {
          "output_type": "stream",
          "text": [
            "Epoch 1/20\n",
            "1089/1089 [==============================] - 1s 943us/step - loss: 30373.9785\n",
            "Epoch 2/20\n",
            "1089/1089 [==============================] - 1s 924us/step - loss: 27828.8906\n",
            "Epoch 3/20\n",
            "1089/1089 [==============================] - 1s 915us/step - loss: 27853.3711\n",
            "Epoch 4/20\n",
            "1089/1089 [==============================] - 1s 920us/step - loss: 27793.3730\n",
            "Epoch 5/20\n",
            "1089/1089 [==============================] - 1s 914us/step - loss: 27796.2793\n",
            "Epoch 6/20\n",
            "1089/1089 [==============================] - 1s 940us/step - loss: 27828.1543\n",
            "Epoch 7/20\n",
            "1089/1089 [==============================] - 1s 910us/step - loss: 27754.5059\n",
            "Epoch 8/20\n",
            "1089/1089 [==============================] - 1s 915us/step - loss: 27797.9551\n",
            "Epoch 9/20\n",
            "1089/1089 [==============================] - 1s 907us/step - loss: 27825.1484\n",
            "Epoch 10/20\n",
            "1089/1089 [==============================] - 1s 911us/step - loss: 27784.4609\n",
            "Epoch 11/20\n",
            "1089/1089 [==============================] - 1s 899us/step - loss: 27816.7461\n",
            "Epoch 12/20\n",
            "1089/1089 [==============================] - 1s 979us/step - loss: 27790.8691\n",
            "Epoch 13/20\n",
            "1089/1089 [==============================] - 1s 956us/step - loss: 27801.3066\n",
            "Epoch 14/20\n",
            "1089/1089 [==============================] - 1s 993us/step - loss: 27810.0254\n",
            "Epoch 15/20\n",
            "1089/1089 [==============================] - 1s 899us/step - loss: 27780.2070\n",
            "Epoch 16/20\n",
            "1089/1089 [==============================] - 1s 909us/step - loss: 27821.2461\n",
            "Epoch 17/20\n",
            "1089/1089 [==============================] - 1s 908us/step - loss: 27831.9277\n",
            "Epoch 18/20\n",
            "1089/1089 [==============================] - 1s 938us/step - loss: 27785.6152\n",
            "Epoch 19/20\n",
            "1089/1089 [==============================] - 1s 988us/step - loss: 27806.2539\n",
            "Epoch 20/20\n",
            "1089/1089 [==============================] - 1s 913us/step - loss: 27764.0586\n"
          ],
          "name": "stdout"
        },
        {
          "output_type": "execute_result",
          "data": {
            "text/plain": [
              "<tensorflow.python.keras.callbacks.History at 0x7f215a615320>"
            ]
          },
          "metadata": {
            "tags": []
          },
          "execution_count": 15
        }
      ]
    },
    {
      "cell_type": "code",
      "metadata": {
        "id": "ld9RH-xqqbRk"
      },
      "source": [
        "pred=model.predict(X_test)"
      ],
      "execution_count": null,
      "outputs": []
    },
    {
      "cell_type": "code",
      "metadata": {
        "id": "ETZyJpazuAA9"
      },
      "source": [
        "sub=pd.read_csv('sampleSubmission.csv')\n",
        "sub['count']=pred;\n",
        "\n",
        "sub.loc[sub['count']<0, 'count']=0"
      ],
      "execution_count": null,
      "outputs": []
    },
    {
      "cell_type": "code",
      "metadata": {
        "id": "hEpcf3TXygi6"
      },
      "source": [
        "#처음 만드는 제출용 csv파일, 행 번호 제거\n",
        "sub.to_csv('NNsub01.csv',index=False)"
      ],
      "execution_count": null,
      "outputs": []
    },
    {
      "cell_type": "markdown",
      "metadata": {
        "id": "HxlyMO2typCE"
      },
      "source": [
        "### 실습 1.\n",
        "01. 은닉층을 하나로 만들어 실행한다. (노드수 10) model.evaluate 확인\n",
        "02. 은닉충을 두개로 만든다 (노드 수 10, 10)\n",
        "03. 은닉 층 2개의 노드수를 32, 32로 바꾸고 결과 확인해보기"
      ]
    },
    {
      "cell_type": "code",
      "metadata": {
        "id": "HIrbxdcoy9Jm"
      },
      "source": [
        "model_P1=Sequential()\n",
        "\n",
        "model_P1.add(Dense(30,input_dim=2, activation='relu'))\n",
        "model_P1.add(Dense(10,'relu'))\n",
        "model_P1.add(Dense(1))"
      ],
      "execution_count": null,
      "outputs": []
    },
    {
      "cell_type": "code",
      "metadata": {
        "id": "tbLnDXM5zSVd",
        "colab": {
          "base_uri": "https://localhost:8080/",
          "height": 395
        },
        "outputId": "31f56e23-7193-42b0-f2a6-d25cf5f0e0d2"
      },
      "source": [
        "model_P1.compile(loss='mean_squared_error', optimizer='rmsprop')\n",
        "\n",
        "model_P1.fit(X,Y,epochs=10,batch_size=100)"
      ],
      "execution_count": null,
      "outputs": [
        {
          "output_type": "stream",
          "text": [
            "Epoch 1/10\n",
            "109/109 [==============================] - 0s 985us/step - loss: 59169.2344\n",
            "Epoch 2/10\n",
            "109/109 [==============================] - 0s 1ms/step - loss: 41628.5703\n",
            "Epoch 3/10\n",
            "109/109 [==============================] - 0s 1ms/step - loss: 28979.2832\n",
            "Epoch 4/10\n",
            "109/109 [==============================] - 0s 973us/step - loss: 27756.3047\n",
            "Epoch 5/10\n",
            "109/109 [==============================] - 0s 1ms/step - loss: 27756.5703\n",
            "Epoch 6/10\n",
            "109/109 [==============================] - 0s 924us/step - loss: 27756.8027\n",
            "Epoch 7/10\n",
            "109/109 [==============================] - 0s 915us/step - loss: 27747.1016\n",
            "Epoch 8/10\n",
            "109/109 [==============================] - 0s 901us/step - loss: 27751.7578\n",
            "Epoch 9/10\n",
            "109/109 [==============================] - 0s 992us/step - loss: 27752.5508\n",
            "Epoch 10/10\n",
            "109/109 [==============================] - 0s 1ms/step - loss: 27743.9199\n"
          ],
          "name": "stdout"
        },
        {
          "output_type": "execute_result",
          "data": {
            "text/plain": [
              "<tensorflow.python.keras.callbacks.History at 0x7f214f2d4780>"
            ]
          },
          "metadata": {
            "tags": []
          },
          "execution_count": 25
        }
      ]
    },
    {
      "cell_type": "code",
      "metadata": {
        "id": "YHP4Do7bzgmF"
      },
      "source": [
        "pred=model.predict(X_test)"
      ],
      "execution_count": null,
      "outputs": []
    },
    {
      "cell_type": "code",
      "metadata": {
        "id": "doWhFY4j1YMe"
      },
      "source": [
        "sub=pd.read_csv('sampleSubmission.csv')\n",
        "sub['count']=pred;\n",
        "\n",
        "sub.loc[sub['count']<0, 'count']=0"
      ],
      "execution_count": null,
      "outputs": []
    },
    {
      "cell_type": "code",
      "metadata": {
        "id": "92OjR8rz1Ysq"
      },
      "source": [
        "sub.to_csv('NNsub02.csv',index=False)"
      ],
      "execution_count": null,
      "outputs": []
    },
    {
      "cell_type": "code",
      "metadata": {
        "id": "qEJ6OUrs1dai"
      },
      "source": [
        "model_P2=Sequential()\n",
        "\n",
        "model_P2.add(Dense(30,input_dim=2, activation='relu'))\n",
        "model_P2.add(Dense(10,'relu'))\n",
        "model_P2.add(Dense(10,'relu'))\n",
        "model_P2.add(Dense(1))"
      ],
      "execution_count": null,
      "outputs": []
    },
    {
      "cell_type": "code",
      "metadata": {
        "id": "_Ylz1s1X1kiQ",
        "colab": {
          "base_uri": "https://localhost:8080/",
          "height": 755
        },
        "outputId": "8aefeb61-a433-469e-92ef-8134adcf8c2c"
      },
      "source": [
        "model_P2.compile(loss='mean_squared_error', optimizer='rmsprop')\n",
        "\n",
        "model_P2.fit(X,Y,epochs=20,batch_size=10)"
      ],
      "execution_count": null,
      "outputs": [
        {
          "output_type": "stream",
          "text": [
            "Epoch 1/20\n",
            "1089/1089 [==============================] - 1s 932us/step - loss: 33384.0234\n",
            "Epoch 2/20\n",
            "1089/1089 [==============================] - 1s 943us/step - loss: 27778.7422\n",
            "Epoch 3/20\n",
            "1089/1089 [==============================] - 1s 961us/step - loss: 27813.8848\n",
            "Epoch 4/20\n",
            "1089/1089 [==============================] - 1s 953us/step - loss: 27774.6777\n",
            "Epoch 5/20\n",
            "1089/1089 [==============================] - 1s 918us/step - loss: 27786.4922\n",
            "Epoch 6/20\n",
            "1089/1089 [==============================] - 1s 970us/step - loss: 27796.8359\n",
            "Epoch 7/20\n",
            "1089/1089 [==============================] - 1s 937us/step - loss: 27790.0684\n",
            "Epoch 8/20\n",
            "1089/1089 [==============================] - 1s 924us/step - loss: 27786.0234\n",
            "Epoch 9/20\n",
            "1089/1089 [==============================] - 1s 915us/step - loss: 27789.6992\n",
            "Epoch 10/20\n",
            "1089/1089 [==============================] - 1s 906us/step - loss: 27780.7441\n",
            "Epoch 11/20\n",
            "1089/1089 [==============================] - 1s 920us/step - loss: 27779.3770\n",
            "Epoch 12/20\n",
            "1089/1089 [==============================] - 1s 950us/step - loss: 27787.6641\n",
            "Epoch 13/20\n",
            "1089/1089 [==============================] - 1s 953us/step - loss: 27769.3535\n",
            "Epoch 14/20\n",
            "1089/1089 [==============================] - 1s 923us/step - loss: 27786.8438\n",
            "Epoch 15/20\n",
            "1089/1089 [==============================] - 1s 929us/step - loss: 27781.7734\n",
            "Epoch 16/20\n",
            "1089/1089 [==============================] - 1s 960us/step - loss: 27769.7305\n",
            "Epoch 17/20\n",
            "1089/1089 [==============================] - 1s 948us/step - loss: 27787.8145\n",
            "Epoch 18/20\n",
            "1089/1089 [==============================] - 1s 952us/step - loss: 27784.2578\n",
            "Epoch 19/20\n",
            "1089/1089 [==============================] - 1s 923us/step - loss: 27772.8262\n",
            "Epoch 20/20\n",
            "1089/1089 [==============================] - 1s 937us/step - loss: 27781.3379\n"
          ],
          "name": "stdout"
        },
        {
          "output_type": "execute_result",
          "data": {
            "text/plain": [
              "<tensorflow.python.keras.callbacks.History at 0x7f214d1a8f60>"
            ]
          },
          "metadata": {
            "tags": []
          },
          "execution_count": 37
        }
      ]
    },
    {
      "cell_type": "code",
      "metadata": {
        "id": "tX-KFf6O16ei"
      },
      "source": [
        "pred=model.predict(X_test)"
      ],
      "execution_count": null,
      "outputs": []
    },
    {
      "cell_type": "code",
      "metadata": {
        "id": "nulLZNr72IfU"
      },
      "source": [
        "sub=pd.read_csv('sampleSubmission.csv')\n",
        "sub['count']=pred;\n",
        "\n",
        "sub.loc[sub['count']<0, 'count']=0"
      ],
      "execution_count": null,
      "outputs": []
    },
    {
      "cell_type": "code",
      "metadata": {
        "id": "vx0AErpl2WHf"
      },
      "source": [
        "sub.to_csv('NNsub03.csv',index=False)"
      ],
      "execution_count": null,
      "outputs": []
    },
    {
      "cell_type": "code",
      "metadata": {
        "id": "kPCi8geO2M5h"
      },
      "source": [
        "model_P3=Sequential()\n",
        "\n",
        "model_P3.add(Dense(30,input_dim=2, activation='relu'))\n",
        "model_P3.add(Dense(32,'relu'))\n",
        "model_P3.add(Dense(32,'relu'))\n",
        "model_P3.add(Dense(1))"
      ],
      "execution_count": null,
      "outputs": []
    },
    {
      "cell_type": "code",
      "metadata": {
        "id": "TW3uCLkw2uPg",
        "colab": {
          "base_uri": "https://localhost:8080/",
          "height": 755
        },
        "outputId": "c4a87b18-e11e-40f2-8151-11286b4998f1"
      },
      "source": [
        "model_P3.compile(loss='mean_squared_error', optimizer='rmsprop')\n",
        "\n",
        "model_P3.fit(X,Y,epochs=20,batch_size=10)"
      ],
      "execution_count": null,
      "outputs": [
        {
          "output_type": "stream",
          "text": [
            "Epoch 1/20\n",
            "1089/1089 [==============================] - 1s 954us/step - loss: 30449.3555\n",
            "Epoch 2/20\n",
            "1089/1089 [==============================] - 1s 982us/step - loss: 27887.9492\n",
            "Epoch 3/20\n",
            "1089/1089 [==============================] - 1s 954us/step - loss: 27845.2168\n",
            "Epoch 4/20\n",
            "1089/1089 [==============================] - 1s 971us/step - loss: 27849.0371\n",
            "Epoch 5/20\n",
            "1089/1089 [==============================] - 1s 1ms/step - loss: 27837.9668\n",
            "Epoch 6/20\n",
            "1089/1089 [==============================] - 1s 992us/step - loss: 27859.2891\n",
            "Epoch 7/20\n",
            "1089/1089 [==============================] - 1s 1ms/step - loss: 27850.1172\n",
            "Epoch 8/20\n",
            "1089/1089 [==============================] - 1s 920us/step - loss: 27862.4883\n",
            "Epoch 9/20\n",
            "1089/1089 [==============================] - 1s 933us/step - loss: 27836.0898\n",
            "Epoch 10/20\n",
            "1089/1089 [==============================] - 1s 933us/step - loss: 27805.5332\n",
            "Epoch 11/20\n",
            "1089/1089 [==============================] - 1s 950us/step - loss: 27853.3691\n",
            "Epoch 12/20\n",
            "1089/1089 [==============================] - 1s 944us/step - loss: 27834.1387\n",
            "Epoch 13/20\n",
            "1089/1089 [==============================] - 1s 1ms/step - loss: 27818.0215\n",
            "Epoch 14/20\n",
            "1089/1089 [==============================] - 1s 940us/step - loss: 27809.0059\n",
            "Epoch 15/20\n",
            "1089/1089 [==============================] - 1s 954us/step - loss: 27802.3125\n",
            "Epoch 16/20\n",
            "1089/1089 [==============================] - 1s 930us/step - loss: 27841.8340\n",
            "Epoch 17/20\n",
            "1089/1089 [==============================] - 1s 966us/step - loss: 27798.2578\n",
            "Epoch 18/20\n",
            "1089/1089 [==============================] - 1s 934us/step - loss: 27784.1152\n",
            "Epoch 19/20\n",
            "1089/1089 [==============================] - 1s 953us/step - loss: 27806.4062\n",
            "Epoch 20/20\n",
            "1089/1089 [==============================] - 1s 936us/step - loss: 27758.0391\n"
          ],
          "name": "stdout"
        },
        {
          "output_type": "execute_result",
          "data": {
            "text/plain": [
              "<tensorflow.python.keras.callbacks.History at 0x7f214d16db38>"
            ]
          },
          "metadata": {
            "tags": []
          },
          "execution_count": 42
        }
      ]
    },
    {
      "cell_type": "code",
      "metadata": {
        "id": "Q624tG-h2ywY"
      },
      "source": [
        "sub.to_csv('NNsub04.csv',index=False)"
      ],
      "execution_count": null,
      "outputs": []
    },
    {
      "cell_type": "code",
      "metadata": {
        "id": "fkkYXw7725WJ"
      },
      "source": [
        ""
      ],
      "execution_count": null,
      "outputs": []
    }
  ]
}