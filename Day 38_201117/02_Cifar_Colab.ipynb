{
  "nbformat": 4,
  "nbformat_minor": 0,
  "metadata": {
    "colab": {
      "name": "02_Cifar_Colab.ipynb",
      "provenance": [],
      "collapsed_sections": []
    },
    "kernelspec": {
      "name": "python3",
      "display_name": "Python 3"
    },
    "accelerator": "GPU"
  },
  "cells": [
    {
      "cell_type": "markdown",
      "metadata": {
        "id": "sraliYkoBDRT"
      },
      "source": [
        "### 로이터 뉴스 분류"
      ]
    },
    {
      "cell_type": "code",
      "metadata": {
        "id": "pN1npNtgBFQr"
      },
      "source": [
        "from keras.datasets import reuters"
      ],
      "execution_count": 1,
      "outputs": []
    },
    {
      "cell_type": "code",
      "metadata": {
        "id": "ymryFqqTBIfX",
        "outputId": "0f2f9ad7-aef5-443f-fc1b-53c671d8cd9d",
        "colab": {
          "base_uri": "https://localhost:8080/"
        }
      },
      "source": [
        "(train_data, train_labels), (test_data, test_labels) = reuters.load_data(num_words=10000)"
      ],
      "execution_count": 2,
      "outputs": [
        {
          "output_type": "stream",
          "text": [
            "Downloading data from https://storage.googleapis.com/tensorflow/tf-keras-datasets/reuters.npz\n",
            "2113536/2110848 [==============================] - 0s 0us/step\n"
          ],
          "name": "stdout"
        }
      ]
    },
    {
      "cell_type": "code",
      "metadata": {
        "id": "p_GmDUP-BfsZ",
        "outputId": "2729c3ff-e4ff-4677-95be-593c822d96f2",
        "colab": {
          "base_uri": "https://localhost:8080/"
        }
      },
      "source": [
        "word_index = reuters.get_word_index()\n",
        "reverse_word_index = dict([(value, key) for (key, value) in word_index.items()])\n",
        "# 0, 1, 2는 '패딩', '문서 시작', '사전에 없음'을 위한 인덱스이므로 3을 뺍니다\n",
        "decoded_newswire = ' '.join([reverse_word_index.get(i - 3, '?') for i in train_data[0]])"
      ],
      "execution_count": 3,
      "outputs": [
        {
          "output_type": "stream",
          "text": [
            "Downloading data from https://storage.googleapis.com/tensorflow/tf-keras-datasets/reuters_word_index.json\n",
            "557056/550378 [==============================] - 0s 0us/step\n"
          ],
          "name": "stdout"
        }
      ]
    },
    {
      "cell_type": "code",
      "metadata": {
        "id": "eTRP7EggCIBg"
      },
      "source": [
        "import numpy as np\n",
        "\n",
        "def vectorize_sequences(sequences, dimension=10000):\n",
        "    results = np.zeros((len(sequences), dimension))\n",
        "    for i, sequence in enumerate(sequences):\n",
        "        results[i, sequence] = 1.\n",
        "    return results\n"
      ],
      "execution_count": 4,
      "outputs": []
    },
    {
      "cell_type": "code",
      "metadata": {
        "id": "7bysTCpeCX5L"
      },
      "source": [
        "# 훈련 데이터 벡터 변환\n",
        "x_train = vectorize_sequences(train_data)\n",
        "\n",
        "# 테스트 데이터 벡터 변환\n",
        "x_test = vectorize_sequences(test_data)\n",
        "def to_one_hot(labels, dimension=46):\n",
        "    results = np.zeros((len(labels), dimension))\n",
        "    for i, label in enumerate(labels):\n",
        "        results[i, label] = 1.\n",
        "    return results\n"
      ],
      "execution_count": 5,
      "outputs": []
    },
    {
      "cell_type": "code",
      "metadata": {
        "id": "p7vSohcrCZRX"
      },
      "source": [
        "# 훈련 레이블 벡터 변환\n",
        "one_hot_train_labels = to_one_hot(train_labels)\n",
        "# 테스트 레이블 벡터 변환\n",
        "one_hot_test_labels = to_one_hot(test_labels)"
      ],
      "execution_count": 7,
      "outputs": []
    },
    {
      "cell_type": "code",
      "metadata": {
        "id": "8UzRbSuyCaxw"
      },
      "source": [
        "from keras import models\n",
        "from keras import layers"
      ],
      "execution_count": 8,
      "outputs": []
    },
    {
      "cell_type": "code",
      "metadata": {
        "id": "VQ-hUUF0Cc5T"
      },
      "source": [
        "model = models.Sequential()\n",
        "\n",
        "model.add(layers.Dense(64, activation='relu', input_shape=(10000,)))\n",
        "model.add(layers.Dense(64, activation='relu' ))\n",
        "model.add(layers.Dense(46, activation='softmax'))\n",
        "\n",
        "model.compile(optimizer='rmsprop', loss='categorical_crossentropy', metrics=['accuracy'])"
      ],
      "execution_count": 11,
      "outputs": []
    },
    {
      "cell_type": "code",
      "metadata": {
        "id": "2QtBLgAmCeKI"
      },
      "source": [
        "x_val = x_train[ :1000]\n",
        "partial_x_train = x_train[1000:]\n",
        "\n",
        "y_val = one_hot_train_labels[:1000]\n",
        "partial_y_train = one_hot_train_labels[1000:]"
      ],
      "execution_count": 12,
      "outputs": []
    },
    {
      "cell_type": "code",
      "metadata": {
        "id": "kE26EXsmFpZv",
        "outputId": "a2f1c276-6f57-4e90-c64f-9c4604f0ef44",
        "colab": {
          "base_uri": "https://localhost:8080/",
          "height": 1000
        }
      },
      "source": [
        "# 학습 진행\n",
        "history = model.fit(partial_x_train, partial_y_train, epochs=20, batch_size=512,\n",
        "                    validation_data=(x_val, y_val))\n",
        "import matplotlib.pyplot as plt\n",
        "loss = history.history['loss']\n",
        "val_loss = history.history['val_loss']\n",
        "\n",
        "epochs = range(1, len(loss) + 1)\n",
        "\n",
        "plt.plot(epochs, loss, 'bo', label='Training loss')\n",
        "plt.plot(epochs, val_loss, 'b', label='Validation loss')\n",
        "plt.title('Training and validation loss')\n",
        "plt.xlabel('Epochs')\n",
        "plt.ylabel('Loss')\n",
        "plt.legend()\n",
        "\n",
        "plt.show()"
      ],
      "execution_count": 13,
      "outputs": [
        {
          "output_type": "stream",
          "text": [
            "Epoch 1/20\n",
            "16/16 [==============================] - 0s 22ms/step - loss: 2.6624 - accuracy: 0.5299 - val_loss: 1.7754 - val_accuracy: 0.6370\n",
            "Epoch 2/20\n",
            "16/16 [==============================] - 0s 13ms/step - loss: 1.4279 - accuracy: 0.7088 - val_loss: 1.3212 - val_accuracy: 0.7090\n",
            "Epoch 3/20\n",
            "16/16 [==============================] - 0s 14ms/step - loss: 1.0350 - accuracy: 0.7848 - val_loss: 1.1297 - val_accuracy: 0.7530\n",
            "Epoch 4/20\n",
            "16/16 [==============================] - 0s 13ms/step - loss: 0.8118 - accuracy: 0.8330 - val_loss: 1.0354 - val_accuracy: 0.7890\n",
            "Epoch 5/20\n",
            "16/16 [==============================] - 0s 14ms/step - loss: 0.6454 - accuracy: 0.8639 - val_loss: 0.9908 - val_accuracy: 0.8080\n",
            "Epoch 6/20\n",
            "16/16 [==============================] - 0s 13ms/step - loss: 0.5159 - accuracy: 0.8938 - val_loss: 0.9237 - val_accuracy: 0.8140\n",
            "Epoch 7/20\n",
            "16/16 [==============================] - 0s 14ms/step - loss: 0.4146 - accuracy: 0.9171 - val_loss: 0.9012 - val_accuracy: 0.8200\n",
            "Epoch 8/20\n",
            "16/16 [==============================] - 0s 14ms/step - loss: 0.3420 - accuracy: 0.9292 - val_loss: 0.9017 - val_accuracy: 0.8120\n",
            "Epoch 9/20\n",
            "16/16 [==============================] - 0s 14ms/step - loss: 0.2856 - accuracy: 0.9381 - val_loss: 0.9031 - val_accuracy: 0.8260\n",
            "Epoch 10/20\n",
            "16/16 [==============================] - 0s 13ms/step - loss: 0.2375 - accuracy: 0.9468 - val_loss: 0.9057 - val_accuracy: 0.8140\n",
            "Epoch 11/20\n",
            "16/16 [==============================] - 0s 13ms/step - loss: 0.2066 - accuracy: 0.9479 - val_loss: 0.9279 - val_accuracy: 0.8160\n",
            "Epoch 12/20\n",
            "16/16 [==============================] - 0s 15ms/step - loss: 0.1867 - accuracy: 0.9516 - val_loss: 0.9277 - val_accuracy: 0.8210\n",
            "Epoch 13/20\n",
            "16/16 [==============================] - 0s 14ms/step - loss: 0.1633 - accuracy: 0.9523 - val_loss: 0.9636 - val_accuracy: 0.8110\n",
            "Epoch 14/20\n",
            "16/16 [==============================] - 0s 13ms/step - loss: 0.1548 - accuracy: 0.9531 - val_loss: 0.9984 - val_accuracy: 0.8060\n",
            "Epoch 15/20\n",
            "16/16 [==============================] - 0s 14ms/step - loss: 0.1409 - accuracy: 0.9569 - val_loss: 1.0473 - val_accuracy: 0.7930\n",
            "Epoch 16/20\n",
            "16/16 [==============================] - 0s 13ms/step - loss: 0.1334 - accuracy: 0.9568 - val_loss: 1.0209 - val_accuracy: 0.8020\n",
            "Epoch 17/20\n",
            "16/16 [==============================] - 0s 13ms/step - loss: 0.1271 - accuracy: 0.9578 - val_loss: 1.0305 - val_accuracy: 0.8120\n",
            "Epoch 18/20\n",
            "16/16 [==============================] - 0s 13ms/step - loss: 0.1179 - accuracy: 0.9567 - val_loss: 1.0438 - val_accuracy: 0.7990\n",
            "Epoch 19/20\n",
            "16/16 [==============================] - 0s 13ms/step - loss: 0.1162 - accuracy: 0.9594 - val_loss: 1.0841 - val_accuracy: 0.8040\n",
            "Epoch 20/20\n",
            "16/16 [==============================] - 0s 12ms/step - loss: 0.1109 - accuracy: 0.9579 - val_loss: 1.0562 - val_accuracy: 0.8080\n"
          ],
          "name": "stdout"
        },
        {
          "output_type": "display_data",
          "data": {
            "image/png": "[encoded data removed]",
            "text/plain": [
              "<Figure size 432x288 with 1 Axes>"
            ]
          },
          "metadata": {
            "tags": [],
            "needs_background": "light"
          }
        }
      ]
    },
    {
      "cell_type": "code",
      "metadata": {
        "id": "QVsWyMZFF6fN",
        "outputId": "198ea079-088f-4234-b8a9-da4e77b47d53",
        "colab": {
          "base_uri": "https://localhost:8080/",
          "height": 294
        }
      },
      "source": [
        "plt.clf()   # 그래프 초기화\n",
        "\n",
        "acc = history.history['accuracy']\n",
        "val_acc = history.history['val_accuracy']\n",
        "\n",
        "plt.plot(epochs, acc, 'bo', label='Training acc')\n",
        "plt.plot(epochs, val_acc, 'b', label='Validation acc')\n",
        "plt.title('Training and validation accuracy')\n",
        "plt.xlabel('Epochs')\n",
        "plt.ylabel('Accuracy')\n",
        "plt.legend()\n",
        "\n",
        "plt.show()"
      ],
      "execution_count": 14,
      "outputs": [
        {
          "output_type": "display_data",
          "data": {
            "image/png": "[encoded data removed]",
            "text/plain": [
              "<Figure size 432x288 with 1 Axes>"
            ]
          },
          "metadata": {
            "tags": [],
            "needs_background": "light"
          }
        }
      ]
    },
    {
      "cell_type": "code",
      "metadata": {
        "id": "YaSHnJtXF-Qb",
        "outputId": "a443d6dd-c153-42e6-9149-b10a0f78996d",
        "colab": {
          "base_uri": "https://localhost:8080/"
        }
      },
      "source": [
        "# 테스트 데이터로 예측 수행\n",
        "model.evaluate(x_test, one_hot_test_labels)"
      ],
      "execution_count": 15,
      "outputs": [
        {
          "output_type": "stream",
          "text": [
            "71/71 [==============================] - 0s 2ms/step - loss: 1.2120 - accuracy: 0.7845\n"
          ],
          "name": "stdout"
        },
        {
          "output_type": "execute_result",
          "data": {
            "text/plain": [
              "[1.2119626998901367, 0.7845057845115662]"
            ]
          },
          "metadata": {
            "tags": []
          },
          "execution_count": 15
        }
      ]
    },
    {
      "cell_type": "code",
      "metadata": {
        "id": "QXzN83rjHOD3",
        "outputId": "b00ecbf0-1c68-4e70-875e-72517837291c",
        "colab": {
          "base_uri": "https://localhost:8080/"
        }
      },
      "source": [
        "### 정수 레이블을 사용할 때, \n",
        "y_train = np.array(train_labels)\n",
        "y_test = np.array(test_labels)\n",
        "\n",
        "print(y_train.shape)"
      ],
      "execution_count": 16,
      "outputs": [
        {
          "output_type": "stream",
          "text": [
            "(8982,)\n"
          ],
          "name": "stdout"
        }
      ]
    },
    {
      "cell_type": "code",
      "metadata": {
        "id": "_1Ir_M9BLRFJ"
      },
      "source": [
        "model.compile(optimizer='rmsprop', \n",
        "              loss = 'sparse_categorical_crossentropy', # binary_crossentropy, categoriacial_crossentropy, \n",
        "              metrics=['acc'])"
      ],
      "execution_count": 17,
      "outputs": []
    },
    {
      "cell_type": "code",
      "metadata": {
        "id": "eqnzCX5XLUAW"
      },
      "source": [
        "x_val = x_train[ :1000]\n",
        "partial_x_train = x_train[1000:]\n",
        "\n",
        "y_val = y_train[:1000]\n",
        "partial_y_train = y_train[1000:]"
      ],
      "execution_count": 18,
      "outputs": []
    },
    {
      "cell_type": "code",
      "metadata": {
        "id": "FaZbpbYnLVoe"
      },
      "source": [
        ""
      ],
      "execution_count": null,
      "outputs": []
    }
  ]
}