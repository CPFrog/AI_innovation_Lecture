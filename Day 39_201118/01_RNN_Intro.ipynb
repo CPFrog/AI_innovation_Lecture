{
  "nbformat": 4,
  "nbformat_minor": 0,
  "metadata": {
    "colab": {
      "name": "01_RNN_Intro.ipynb",
      "provenance": [],
      "collapsed_sections": []
    },
    "kernelspec": {
      "name": "python3",
      "display_name": "Python 3"
    }
  },
  "cells": [
    {
      "cell_type": "code",
      "metadata": {
        "id": "xvx-O1QgrjfA"
      },
      "source": [
        "from keras.models import Sequential\n",
        "from keras.layers import SimpleRNN, Embedding, Dense"
      ],
      "execution_count": null,
      "outputs": []
    },
    {
      "cell_type": "code",
      "metadata": {
        "colab": {
          "base_uri": "https://localhost:8080/"
        },
        "id": "eaiBnOfN6XyF",
        "outputId": "954b6a84-6979-4c04-a1af-5055fba01e93"
      },
      "source": [
        "model = Sequential()\n",
        "model.add(Embedding(10000, 32))\n",
        "model.add(SimpleRNN(32, return_sequences=True))\n",
        "model.add(SimpleRNN(32, return_sequences=True))\n",
        "model.add(SimpleRNN(32, return_sequences=True))\n",
        "model.add(SimpleRNN(32))  # 맨 위 층만 마지막 출력을 반환합니다.\n",
        "model.summary()"
      ],
      "execution_count": null,
      "outputs": [
        {
          "output_type": "stream",
          "text": [
            "Model: \"sequential_3\"\n",
            "_________________________________________________________________\n",
            "Layer (type)                 Output Shape              Param #   \n",
            "=================================================================\n",
            "embedding_2 (Embedding)      (None, None, 32)          320000    \n",
            "_________________________________________________________________\n",
            "simple_rnn_8 (SimpleRNN)     (None, None, 32)          2080      \n",
            "_________________________________________________________________\n",
            "simple_rnn_9 (SimpleRNN)     (None, None, 32)          2080      \n",
            "_________________________________________________________________\n",
            "simple_rnn_10 (SimpleRNN)    (None, None, 32)          2080      \n",
            "_________________________________________________________________\n",
            "simple_rnn_11 (SimpleRNN)    (None, 32)                2080      \n",
            "=================================================================\n",
            "Total params: 328,320\n",
            "Trainable params: 328,320\n",
            "Non-trainable params: 0\n",
            "_________________________________________________________________\n"
          ],
          "name": "stdout"
        }
      ]
    },
    {
      "cell_type": "markdown",
      "metadata": {
        "id": "3emwbfxs7axX"
      },
      "source": [
        "### IMDB 영화 리뷰 분류 문제 적용"
      ]
    },
    {
      "cell_type": "code",
      "metadata": {
        "colab": {
          "base_uri": "https://localhost:8080/"
        },
        "id": "vvMZhteN7wG1",
        "outputId": "3c3be2fb-7bab-4190-bcd1-32e23ee696bd"
      },
      "source": [
        "from keras.datasets import imdb\n",
        "from keras_preprocessing import sequence\n",
        "\n",
        "max_features=10000 # 특성으로 사용할 단어의 수\n",
        "maxlen=500\n",
        "batch_size=32\n",
        "\n",
        "print('데이터 불러오기')\n",
        "(input_train, y_train), (input_test, y_test)=imdb.load_data(num_words=max_features)\n",
        "print(len(input_train), '학습용 시퀀스')\n",
        "print(len(input_test), '검증용 시퀀스')\n",
        "\n",
        "# 문장에서 maxlen 이후의 단어는 pad_sequences() 함수로 슬라이싱\n",
        "# 문장 길이가 maxlen보다 작으면 부족한 부분을 0으로\n",
        "\n",
        "print('시퀀스 패딩(samples x time)')\n",
        "input_train=sequence.pad_sequences(input_train, maxlen=maxlen)\n",
        "input_test=sequence.pad_sequences(input_test, maxlen=maxlen)\n",
        "\n",
        "print('input_train의 크기', input_train.shape)\n",
        "print('input_test의 크기', input_test.shape)"
      ],
      "execution_count": null,
      "outputs": [
        {
          "output_type": "stream",
          "text": [
            "데이터 불러오기\n",
            "25000 학습용 시퀀스\n",
            "25000 검증용 시퀀스\n",
            "시퀀스 패딩(samples x time)\n",
            "input_train의 크기 (25000, 500)\n",
            "input_test의 크기 (25000, 500)\n"
          ],
          "name": "stdout"
        }
      ]
    },
    {
      "cell_type": "markdown",
      "metadata": {
        "id": "YH5Hg5q984Du"
      },
      "source": [
        "### Embedding 층과 SimpleRNN 층을 이용해 간단한 순환 네트워크 구축"
      ]
    },
    {
      "cell_type": "code",
      "metadata": {
        "colab": {
          "base_uri": "https://localhost:8080/"
        },
        "id": "N79Uj6Zw9wY4",
        "outputId": "1c71bf92-2f47-46da-a877-f59c29dc8924"
      },
      "source": [
        "from keras.layers import Dense\n",
        "\n",
        "model=Sequential()\n",
        "model.add(Embedding(max_features, 32))\n",
        "model.add(SimpleRNN(32))\n",
        "model.add(Dense(1, activation='sigmoid'))\n",
        "\n",
        "model.compile(optimizer='rmsprop', loss='binary_crossentropy', metrics=['acc'])\n",
        "\n",
        "history=model.fit(input_train, y_train, epochs=30, batch_size=128, validation_split=.2)"
      ],
      "execution_count": null,
      "outputs": [
        {
          "output_type": "stream",
          "text": [
            "Epoch 1/30\n",
            "157/157 [==============================] - 22s 140ms/step - loss: 0.6643 - acc: 0.5807 - val_loss: 0.5399 - val_acc: 0.7380\n",
            "Epoch 2/30\n",
            "157/157 [==============================] - 21s 135ms/step - loss: 0.4159 - acc: 0.8192 - val_loss: 0.4323 - val_acc: 0.8064\n",
            "Epoch 3/30\n",
            "157/157 [==============================] - 21s 135ms/step - loss: 0.2939 - acc: 0.8831 - val_loss: 0.3872 - val_acc: 0.8494\n",
            "Epoch 4/30\n",
            "157/157 [==============================] - 21s 136ms/step - loss: 0.2271 - acc: 0.9129 - val_loss: 0.4966 - val_acc: 0.7760\n",
            "Epoch 5/30\n",
            "157/157 [==============================] - 22s 138ms/step - loss: 0.1641 - acc: 0.9395 - val_loss: 0.5100 - val_acc: 0.7570\n",
            "Epoch 6/30\n",
            "157/157 [==============================] - 22s 138ms/step - loss: 0.1155 - acc: 0.9607 - val_loss: 0.4568 - val_acc: 0.8364\n",
            "Epoch 7/30\n",
            "157/157 [==============================] - 22s 140ms/step - loss: 0.0728 - acc: 0.9771 - val_loss: 0.5073 - val_acc: 0.8392\n",
            "Epoch 8/30\n",
            "157/157 [==============================] - 21s 137ms/step - loss: 0.0430 - acc: 0.9875 - val_loss: 0.6981 - val_acc: 0.7820\n",
            "Epoch 9/30\n",
            "157/157 [==============================] - 21s 137ms/step - loss: 0.0268 - acc: 0.9919 - val_loss: 0.6148 - val_acc: 0.8160\n",
            "Epoch 10/30\n",
            "157/157 [==============================] - 21s 137ms/step - loss: 0.0202 - acc: 0.9950 - val_loss: 0.6604 - val_acc: 0.8218\n",
            "Epoch 11/30\n",
            "157/157 [==============================] - 22s 138ms/step - loss: 0.0109 - acc: 0.9969 - val_loss: 0.7361 - val_acc: 0.7952\n",
            "Epoch 12/30\n",
            "157/157 [==============================] - 22s 139ms/step - loss: 0.0087 - acc: 0.9977 - val_loss: 0.7190 - val_acc: 0.8246\n",
            "Epoch 13/30\n",
            "157/157 [==============================] - 21s 136ms/step - loss: 0.0099 - acc: 0.9968 - val_loss: 0.8505 - val_acc: 0.7898\n",
            "Epoch 14/30\n",
            "157/157 [==============================] - 21s 136ms/step - loss: 0.0040 - acc: 0.9990 - val_loss: 0.8236 - val_acc: 0.8168\n",
            "Epoch 15/30\n",
            "157/157 [==============================] - 22s 138ms/step - loss: 0.0051 - acc: 0.9984 - val_loss: 0.9160 - val_acc: 0.8238\n",
            "Epoch 16/30\n",
            "157/157 [==============================] - 21s 136ms/step - loss: 0.0043 - acc: 0.9985 - val_loss: 1.0032 - val_acc: 0.7740\n",
            "Epoch 17/30\n",
            "157/157 [==============================] - 22s 137ms/step - loss: 0.0208 - acc: 0.9951 - val_loss: 0.9527 - val_acc: 0.7882\n",
            "Epoch 18/30\n",
            "157/157 [==============================] - 22s 137ms/step - loss: 0.0035 - acc: 0.9987 - val_loss: 1.0223 - val_acc: 0.7876\n",
            "Epoch 19/30\n",
            "157/157 [==============================] - 21s 136ms/step - loss: 0.0046 - acc: 0.9984 - val_loss: 1.2012 - val_acc: 0.7428\n",
            "Epoch 20/30\n",
            "157/157 [==============================] - 22s 137ms/step - loss: 0.0037 - acc: 0.9990 - val_loss: 1.2347 - val_acc: 0.7572\n",
            "Epoch 21/30\n",
            "157/157 [==============================] - 22s 137ms/step - loss: 0.0034 - acc: 0.9990 - val_loss: 1.0520 - val_acc: 0.7732\n",
            "Epoch 22/30\n",
            "157/157 [==============================] - 21s 137ms/step - loss: 0.0028 - acc: 0.9993 - val_loss: 1.0673 - val_acc: 0.7836\n",
            "Epoch 23/30\n",
            "157/157 [==============================] - 21s 136ms/step - loss: 0.0031 - acc: 0.9990 - val_loss: 1.1241 - val_acc: 0.7718\n",
            "Epoch 24/30\n",
            "157/157 [==============================] - 21s 134ms/step - loss: 0.0012 - acc: 0.9998 - val_loss: 1.0567 - val_acc: 0.8014\n",
            "Epoch 25/30\n",
            "157/157 [==============================] - 21s 135ms/step - loss: 0.0041 - acc: 0.9988 - val_loss: 1.1250 - val_acc: 0.7866\n",
            "Epoch 26/30\n",
            "157/157 [==============================] - 22s 138ms/step - loss: 0.0012 - acc: 0.9996 - val_loss: 1.4302 - val_acc: 0.7412\n",
            "Epoch 27/30\n",
            "157/157 [==============================] - 21s 136ms/step - loss: 0.0019 - acc: 0.9993 - val_loss: 1.3605 - val_acc: 0.7412\n",
            "Epoch 28/30\n",
            "157/157 [==============================] - 21s 134ms/step - loss: 0.0049 - acc: 0.9979 - val_loss: 1.2595 - val_acc: 0.7724\n",
            "Epoch 29/30\n",
            "157/157 [==============================] - 21s 136ms/step - loss: 2.6786e-04 - acc: 1.0000 - val_loss: 1.3711 - val_acc: 0.7526\n",
            "Epoch 30/30\n",
            "157/157 [==============================] - 21s 134ms/step - loss: 0.0018 - acc: 0.9993 - val_loss: 1.3244 - val_acc: 0.7582\n"
          ],
          "name": "stdout"
        }
      ]
    },
    {
      "cell_type": "code",
      "metadata": {
        "id": "5IkMsC4u-pn1"
      },
      "source": [
        "import matplotlib.pyplot as plt"
      ],
      "execution_count": null,
      "outputs": []
    },
    {
      "cell_type": "code",
      "metadata": {
        "colab": {
          "base_uri": "https://localhost:8080/",
          "height": 544
        },
        "id": "E-6U03XVAndq",
        "outputId": "4c7ab106-f8ed-4922-8bd0-042803c887c3"
      },
      "source": [
        "acc = history.history['acc']\n",
        "val_acc = history.history['val_acc']\n",
        "loss = history.history['loss']\n",
        "val_loss = history.history['val_loss']\n",
        "\n",
        "epochs = range(1, len(acc) + 1)\n",
        "\n",
        "plt.plot(epochs, acc, 'bo', label='Training acc')\n",
        "plt.plot(epochs, val_acc, 'b', label='Validation acc')\n",
        "plt.title('Training and validation accuracy')\n",
        "plt.legend()\n",
        "\n",
        "plt.figure()\n",
        "\n",
        "plt.plot(epochs, loss, 'bo', label='Training loss')\n",
        "plt.plot(epochs, val_loss, 'b', label='Validation loss')\n",
        "plt.title('Training and validation loss')\n",
        "plt.legend()\n",
        "\n",
        "plt.show()"
      ],
      "execution_count": null,
      "outputs": [
        {
          "output_type": "display_data",
          "data": {
            "image/png": "[encoded data removed]",
            "text/plain": [
              "<Figure size 432x288 with 1 Axes>"
            ]
          },
          "metadata": {
            "tags": [],
            "needs_background": "light"
          }
        },
        {
          "output_type": "display_data",
          "data": {
            "image/png": "[encoded data removed]",
            "text/plain": [
              "<Figure size 432x288 with 1 Axes>"
            ]
          },
          "metadata": {
            "tags": [],
            "needs_background": "light"
          }
        }
      ]
    },
    {
      "cell_type": "code",
      "metadata": {
        "id": "iod0JsMEAozL"
      },
      "source": [
        ""
      ],
      "execution_count": null,
      "outputs": []
    }
  ]
}